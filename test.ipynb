{
 "cells": [
  {
   "cell_type": "code",
   "execution_count": 5,
   "metadata": {},
   "outputs": [],
   "source": [
    "from lecture_tools import Presentation"
   ]
  },
  {
   "cell_type": "code",
   "execution_count": 6,
   "metadata": {
    "scrolled": true,
    "slideshow": {
     "slide_type": "slide"
    }
   },
   "outputs": [],
   "source": [
    "lecture = Presentation('overall_plan.md')"
   ]
  },
  {
   "cell_type": "code",
   "execution_count": 7,
   "metadata": {},
   "outputs": [
    {
     "data": {
      "text/plain": [
       "'\\n\\n# Agenda\\n\\n1. Review\\n1. Post hoc explanatations overview\\n1. Deep dive: TCAV for tensorflow\\n1. Do the tools we have for explanation meet our goals?\\n<!-- 1. trolley problems of explanation -->\\n\\n'"
      ]
     },
     "execution_count": 7,
     "metadata": {},
     "output_type": "execute_result"
    }
   ],
   "source": [
    "lecture.slides['agenda'].body"
   ]
  },
  {
   "cell_type": "code",
   "execution_count": 4,
   "metadata": {},
   "outputs": [
    {
     "data": {
      "text/plain": [
       "['intro',\n",
       " 'goals',\n",
       " 'welcome',\n",
       " 'breathe',\n",
       " 'warmupb',\n",
       " 'agenda',\n",
       " 'review',\n",
       " 'warmupreadings',\n",
       " 'openbbtypes',\n",
       " 'openbbtaxonomy',\n",
       " 'dimensions',\n",
       " 'model',\n",
       " 'outcome',\n",
       " 'inspection',\n",
       " 'saliency',\n",
       " 'tcav',\n",
       " 'debates',\n",
       " 'trolley',\n",
       " 'contribute',\n",
       " 'decisionguide',\n",
       " 'bias',\n",
       " 'exit',\n",
       " 'warmup']"
      ]
     },
     "execution_count": 4,
     "metadata": {},
     "output_type": "execute_result"
    }
   ],
   "source": [
    "lecture.slide_order_list"
   ]
  },
  {
   "cell_type": "code",
   "execution_count": 5,
   "metadata": {
    "slideshow": {
     "slide_type": "slide"
    }
   },
   "outputs": [
    {
     "data": {
      "text/markdown": [
       "\n",
       "\n",
       "# Opening the Black Box Taxonomy\n",
       "\n",
       "<img src=\"./slides/open_bb_taxonomy.png\" />\n",
       "\n"
      ],
      "text/plain": [
       "<IPython.core.display.Markdown object>"
      ]
     },
     "metadata": {},
     "output_type": "display_data"
    }
   ],
   "source": [
    "lecture.show('openbbtaxonomy')"
   ]
  },
  {
   "cell_type": "code",
   "execution_count": 6,
   "metadata": {
    "slideshow": {
     "slide_type": "slide"
    }
   },
   "outputs": [
    {
     "data": {
      "text/markdown": [
       "\n",
       "\n",
       "# Agenda\n",
       "\n",
       "1. Review\n",
       "1. Post hoc explanatations overview\n",
       "1. Deep dive: TCAV for tensorflow\n",
       "1. Do the tools we have for explanation meet our goals?\n",
       "<!-- 1. trolley problems of explanation -->\n",
       "\n"
      ],
      "text/plain": [
       "<IPython.core.display.Markdown object>"
      ]
     },
     "metadata": {},
     "output_type": "display_data"
    }
   ],
   "source": [
    "lecture.show('agenda')"
   ]
  },
  {
   "cell_type": "code",
   "execution_count": 13,
   "metadata": {
    "slideshow": {
     "slide_type": "slide"
    }
   },
   "outputs": [
    {
     "data": {
      "text/markdown": [
       "\n",
       "\n",
       "# Welcome to online class\n",
       "\n",
       "\n",
       "1. Our goal is to support you\n",
       "\n",
       "1. Breath in, breathe out\n",
       "\n",
       "1. We want remote learning to be as high quality as in person\n",
       "\n",
       "1. Some aspects will be different, we're all learning together\n",
       "\n",
       "1. At the end of class, I'll ask for feedback\n",
       "\n",
       "## Tools\n",
       "1. Zoom\n",
       "1. Slack\n",
       "1. shared notes for each class session\n",
       "1. Shared Course Google Drive\n",
       "\n",
       "## Office Hours\n",
       "- via Zoom, same times\n",
       "\n"
      ],
      "text/plain": [
       "<IPython.core.display.Markdown object>"
      ]
     },
     "metadata": {},
     "output_type": "display_data"
    }
   ],
   "source": [
    "lecture.show('welcome')"
   ]
  },
  {
   "cell_type": "markdown",
   "metadata": {
    "slideshow": {
     "slide_type": "slide"
    }
   },
   "source": [
    "Testing a plain markdown"
   ]
  },
  {
   "cell_type": "markdown",
   "metadata": {},
   "source": [
    "# testing splitting"
   ]
  },
  {
   "cell_type": "code",
   "execution_count": 4,
   "metadata": {},
   "outputs": [],
   "source": [
    "lecture = Presentation('overall_plan.md')\n",
    "\n",
    "for title in lecture.slide_order_list:\n",
    "    cur_slide = lecture.slides[title]\n",
    "    \n",
    "#     print(type(cur_slide))\n",
    "    slide_dict = cur_slide.__dict__\n",
    "    cur_body = cur_slide.body\n",
    "    \n",
    "#     print(type(cur_body))\n",
    "    if type(cur_body) == list:\n",
    "        cur_body = '\\n'.join(cur_body)\n",
    "    \n",
    "#     print(cur_body)\n",
    "        \n",
    "    slide_parts = ['---']\n",
    "    slide_dict['img_list'] = '\\n-'.join(slide_dict['img_list'])\n",
    "    \n",
    "    slidenum = lecture.slide_order_dict[title] + 1\n",
    "    slide_dict['slidenum'] = slidenum\n",
    "    \n",
    "    if 'shown_points' in slide_dict.keys():\n",
    "        slide_dict.pop('shown_points')\n",
    "        \n",
    "    slide_dict['notes'] = '\"' + slide_dict['notes'] + '\"'\n",
    "        \n",
    "    # make all strings\n",
    "    for k,v in slide_dict.items():\n",
    "        slide_dict[k] = str(v)\n",
    "        \n",
    "    slide_content = '\\n'.join([': '.join([k,v]) for k,v in slide_dict.items() if not(k=='body')])\n",
    "#     '\\n'.join(slide_content)\n",
    "    slide_parts.append(slide_content)\n",
    "    slide_parts.append('---')\n",
    "    \n",
    "    slide_parts.append(cur_body)\n",
    "    \n",
    "    slide_file = '\\n'.join(slide_parts)\n",
    "#     print(slide_file)\n",
    "    with open('_slides/' +  str(slidenum).zfill(3) + '-' + title + '.md','w') as f:\n",
    "        f.write(slide_file)\n",
    "\n",
    "#        \n",
    "#     slide_head = []"
   ]
  },
  {
   "cell_type": "code",
   "execution_count": 46,
   "metadata": {},
   "outputs": [
    {
     "data": {
      "text/plain": [
       "{'body': ['\\n\\n# By the end of class today,\\n',\n",
       "  \"\\n\\n1. Understand that you're supported and class will be ok\\n\",\n",
       "  '\\n1. Understand how explaining black box models works\\n',\n",
       "  '\\n1. Evaluate the degree to which interpretability and explanation fulfill our bigger picture goals\\n\\n\\n'],\n",
       " 'img_list': '',\n",
       " 'name': 'goals',\n",
       " 'notes': '',\n",
       " 'url': ''}"
      ]
     },
     "execution_count": 46,
     "metadata": {},
     "output_type": "execute_result"
    }
   ],
   "source": [
    "# lecture.slides['agenda']\n",
    "\n",
    "cur_slide = lecture.slides['goals']\n",
    "    \n",
    "#     print(type(cur_slide))\n",
    "cur_slide.__dict__"
   ]
  },
  {
   "cell_type": "code",
   "execution_count": 7,
   "metadata": {
    "slideshow": {
     "slide_type": "slide"
    }
   },
   "outputs": [
    {
     "data": {
      "text/markdown": [
       "# Explanation Warmup\n",
       "\n",
       "<!-- https://hackmd.io/VHE7PhprQ8yOa_dVq-ULrg?both# -->\n",
       "\n",
       "<!-- add any questions you have below  -->\n",
       "<!-- in markdown two blank spaces at the end of a line creates a line break -->\n",
       "<!-- this editor will  show you with a dot and arrow -->\n",
       "\n",
       "How well does this actually work in practice  \n",
       "Is this going to work all the time?  \n",
       "Why should we do this?  \n",
       "tesing with lots of questions  \n",
       "what if this is too long and how will we know  \n",
       "\n",
       "<!-- Alexander Berry -->\n",
       "\n",
       "testing with a question bper <!-- Amanda Khoo -->\n",
       "\n",
       " <!-- Peter Huang -->\n",
       "\n",
       "addding lots of things in <!-- William Ward -->\n",
       "\n",
       " <!-- Kaiwen Yang -->\n",
       "\n",
       "a lot of people have answered so far <!-- Guansu Niu -->\n",
       "\n",
       " <!-- Guanzhong Chen -->\n",
       "\n",
       "adding more in <!-- Hanxiao Chen -->\n",
       "\n",
       " <!-- Jason Chan -->\n",
       "\n",
       " <!-- Wanxin Ye -->\n",
       "\n",
       " <!-- Yi Wang -->\n",
       "\n",
       "does this help <!-- Jiamin Tang -->\n",
       "\n",
       " <!-- Michael Harder -->\n",
       "\n",
       " <!-- Jiayuan Tian -->\n",
       "\n",
       " <!-- Marcin Kolaszewski -->\n",
       "\n",
       "not enough though <!-- David Kebudi -->\n",
       "\n",
       " <!-- Marie Schenk -->\n",
       "\n",
       " <!-- Naina Wodon -->\n",
       "\n",
       " <!-- Natalie Delworth -->\n",
       "\n",
       " <!-- Evon Okidi -->\n",
       "\n",
       "some have voted  <!-- Qinyun Wu -->\n",
       "\n",
       " <!-- Shiqi Lei -->\n",
       "\n",
       " <!-- Thomas Carroll -->\n",
       "\n",
       " <!-- Tongxin Wang -->\n",
       "\n",
       " <!-- Jason Katz -->\n",
       "\n",
       " <!-- Weihao Zhou -->\n",
       "\n",
       " <!-- Hyunjoon Lee -->\n",
       "\n",
       " <!-- Xu Han -->\n",
       "\n",
       "miscellaneous <!-- Yiwei Sang -->\n",
       "\n",
       " <!-- Yue Zhuang -->\n",
       "\n",
       "how is this working <!-- Yongming Han -->\n",
       "\n",
       " <!-- Maheen Syed -->\n",
       "\n",
       " <!-- Zeyan Du -->\n",
       "\n",
       "adding more in to see what is going on <!-- Zhi Wang -->\n",
       "\n",
       " <"
      ],
      "text/plain": [
       "<IPython.core.display.Markdown object>"
      ]
     },
     "metadata": {},
     "output_type": "display_data"
    }
   ],
   "source": [
    "lecture.show('warmup')"
   ]
  },
  {
   "cell_type": "code",
   "execution_count": null,
   "metadata": {
    "slideshow": {
     "slide_type": "slide"
    }
   },
   "outputs": [],
   "source": [
    "with open('./overall_plan.md') as mdf:\n",
    "    lect_raw = mdf.read()\n",
    "\n",
    "\n",
    "\n",
    "slides_raw = lect_raw.split('----')\n",
    "slides_raw"
   ]
  },
  {
   "cell_type": "code",
   "execution_count": null,
   "metadata": {},
   "outputs": [],
   "source": [
    "[s.split('---') for s in slides_raw]"
   ]
  },
  {
   "cell_type": "code",
   "execution_count": null,
   "metadata": {},
   "outputs": [],
   "source": [
    "slides_header_body = [s.split('---') for s in slides_raw[1:]]\n",
    "slides_list = [{'info':{p[0].strip():p[1].strip() for p in [(kv.split(':')) for kv in s[0].strip().split('\\n')]},\n",
    "               'body':s[1].strip().split('--')}\n",
    "                             for s in slides_header_body]"
   ]
  },
  {
   "cell_type": "code",
   "execution_count": null,
   "metadata": {
    "slideshow": {
     "slide_type": "slide"
    }
   },
   "outputs": [],
   "source": [
    "slides = {s['info']['name']:s for s in  slides_list}\n",
    "slides"
   ]
  },
  {
   "cell_type": "code",
   "execution_count": null,
   "metadata": {},
   "outputs": [],
   "source": [
    "''.join(slides['agenda']['body'][:1])"
   ]
  },
  {
   "cell_type": "code",
   "execution_count": null,
   "metadata": {},
   "outputs": [],
   "source": [
    "from IPython.display import display, Markdown, Latex"
   ]
  },
  {
   "cell_type": "code",
   "execution_count": null,
   "metadata": {},
   "outputs": [],
   "source": [
    "display(Markdown(''.join(slides['agenda']['body'][:3])))"
   ]
  },
  {
   "cell_type": "code",
   "execution_count": null,
   "metadata": {},
   "outputs": [],
   "source": [
    "slides_list"
   ]
  },
  {
   "cell_type": "code",
   "execution_count": null,
   "metadata": {},
   "outputs": [],
   "source": [
    "for s in slides_list:\n",
    "    print(s['body'])\n",
    "#     if len(s['body']) ==1:\n",
    "    with open('slides/'+s['info']['name'] + '.md', 'w') as sf:\n",
    "        sf.write(''.join(s['body'][0]))\n",
    "#     else:\n",
    "#         for i in range(len(s['body'])):\n",
    "#             print(i+1)\n",
    "#             with open('slides/'+s['info']['name'] +str(i) + '.md', 'w') as sf:\n",
    "#                 sf.write(''.join([s['body'][:i+1]]))"
   ]
  },
  {
   "cell_type": "code",
   "execution_count": null,
   "metadata": {},
   "outputs": [],
   "source": [
    "for i in range(1,len(s['body'])):\n",
    "    print(''.join([s['body'][:i+1]]))"
   ]
  },
  {
   "cell_type": "code",
   "execution_count": null,
   "metadata": {},
   "outputs": [],
   "source": [
    "%%markdown\n",
    "\n",
    "# stuff"
   ]
  },
  {
   "cell_type": "code",
   "execution_count": null,
   "metadata": {},
   "outputs": [],
   "source": [
    "from ipywidgets import Button, Layout, GridspecLayout, Output, ToggleButton\n",
    "from IPython.display import display"
   ]
  },
  {
   "cell_type": "code",
   "execution_count": null,
   "metadata": {},
   "outputs": [],
   "source": [
    "cur_slide = slides['agenda']['body']\n",
    "display(Markdown(''.join(cur_slide)))"
   ]
  },
  {
   "cell_type": "code",
   "execution_count": null,
   "metadata": {
    "slideshow": {
     "slide_type": "slide"
    }
   },
   "outputs": [],
   "source": [
    "cur_slide = ['# Today\\n\\n','\\n1. Post hoc explanatations overview\\n',\n",
    " '\\n1. Deep dive: TCAV for tensorflow\\n',\n",
    " '\\n1. Do the tools we have for explanation meet our goals?\\n',\n",
    " '\\n1. trolley problems of explanation']\n",
    "\n",
    "display(Markdown(''.join([cur_slide[i] for i in [0,4,3,4]])))"
   ]
  },
  {
   "cell_type": "code",
   "execution_count": null,
   "metadata": {},
   "outputs": [],
   "source": [
    "def create_expanded_button(description, button_style):\n",
    "    return Button(description=description, button_style=button_style, layout=Layout(height='auto', width='auto'))\n",
    "\n",
    "def create_toggle(description):\n",
    "    return ToggleButton(\n",
    "    value=False,\n",
    "    description=description,\n",
    "    disabled=False,\n",
    "    button_style='info', # 'success', 'info', 'warning', 'danger' or ''\n",
    "    tooltip='Hint',\n",
    "    icon='check'\n",
    ")"
   ]
  },
  {
   "cell_type": "code",
   "execution_count": null,
   "metadata": {},
   "outputs": [],
   "source": [
    "grid = GridspecLayout(len(cur_slide),15)\n",
    "\n",
    "button = []\n",
    "disp = []\n",
    "\n",
    "fixed_len = 1\n",
    "always_show = [0]\n",
    "slide_display = Output()\n",
    "with slide_display:\n",
    "    display(Markdown(''.join([cur_slide[l] for l in always_show])))\n",
    "\n",
    "grid[:,1:] = slide_display\n",
    "\n",
    "def reveal(b):\n",
    "    slide_display.clear_output()\n",
    "    cur_lines = [0]\n",
    "    cur_lines.extend([i+fixed_len for i,bt in enumerate(button) if bt.value])\n",
    "    with slide_display:\n",
    "#         display(Markdown(cur_lines))\n",
    "        display(Markdown(''.join([cur_slide[l] for l in cur_lines])))\n",
    "\n",
    "\n",
    "\n",
    "for i in range(len(cur_slide)-fixed_len):\n",
    "    button.append(create_toggle(''))\n",
    "    grid[i+fixed_len,0] = button[i]\n",
    "    button[i].observe(reveal,names='value',)\n",
    "\n",
    "def show_grid():\n",
    "    return grid"
   ]
  },
  {
   "cell_type": "code",
   "execution_count": null,
   "metadata": {
    "slideshow": {
     "slide_type": "slide"
    }
   },
   "outputs": [],
   "source": [
    "show_grid()"
   ]
  },
  {
   "cell_type": "code",
   "execution_count": null,
   "metadata": {},
   "outputs": [],
   "source": [
    "slide_display.style.keys"
   ]
  },
  {
   "cell_type": "code",
   "execution_count": null,
   "metadata": {},
   "outputs": [],
   "source": [
    "for i in range(1,5):\n",
    "    print(i)"
   ]
  },
  {
   "cell_type": "code",
   "execution_count": null,
   "metadata": {},
   "outputs": [],
   "source": [
    "cur_slide"
   ]
  },
  {
   "cell_type": "code",
   "execution_count": null,
   "metadata": {},
   "outputs": [],
   "source": [
    "cur_slide[:5]"
   ]
  },
  {
   "cell_type": "code",
   "execution_count": null,
   "metadata": {},
   "outputs": [],
   "source": [
    "disp"
   ]
  },
  {
   "cell_type": "code",
   "execution_count": null,
   "metadata": {
    "slideshow": {
     "slide_type": "slide"
    }
   },
   "outputs": [],
   "source": [
    "display(Markdown('https://hackmd.io/VHE7PhprQ8yOa_dVq-ULrg/download/markdown'))"
   ]
  },
  {
   "cell_type": "code",
   "execution_count": null,
   "metadata": {},
   "outputs": [],
   "source": [
    "display.html('<img')"
   ]
  },
  {
   "cell_type": "code",
   "execution_count": null,
   "metadata": {},
   "outputs": [],
   "source": []
  },
  {
   "cell_type": "code",
   "execution_count": null,
   "metadata": {},
   "outputs": [],
   "source": []
  },
  {
   "cell_type": "markdown",
   "metadata": {},
   "source": [
    "# testing parsing"
   ]
  },
  {
   "cell_type": "code",
   "execution_count": 4,
   "metadata": {},
   "outputs": [],
   "source": [
    "file = 'overall_plan.md'\n",
    "with open(file) as mdf:\n",
    "            lect_raw = mdf.read()\n",
    "\n",
    "# split slides\n",
    "slides_raw = lect_raw.split('----')\n",
    "# split header from body\n",
    "slides_header_body = [s.split('---') for s in slides_raw[1:]]\n",
    "# make one dict per slide and strucutre info into subdict\n",
    "slides_list = [{'info':{p[0].strip():p[1].strip()\n",
    "        for p in [(kv.split(':')) for kv in s[0].strip().split('\\n')]},\n",
    "                'body':s[1].strip()}\n",
    "                     for s in slides_header_body]\n",
    "# create a dictionary with name:SlideObject\n",
    "slides = {s['info']['name']:lecture.generate_slide(s) for s in slides_list}\n",
    "\n",
    "# dictionaries do not preserve order\n",
    "slide_order_list = [s['info']['name'] for s in slides_list]\n",
    "slide_order_dict = {s['info']['name']:i for i,s in enumerate(slides_list)}"
   ]
  },
  {
   "cell_type": "code",
   "execution_count": 12,
   "metadata": {},
   "outputs": [],
   "source": [
    "slide_dict = slides_list[0]"
   ]
  },
  {
   "cell_type": "code",
   "execution_count": 13,
   "metadata": {},
   "outputs": [
    {
     "data": {
      "text/plain": [
       "str"
      ]
     },
     "execution_count": 13,
     "metadata": {},
     "output_type": "execute_result"
    }
   ],
   "source": [
    "type(slides_list[0]['body'])"
   ]
  },
  {
   "cell_type": "code",
   "execution_count": 14,
   "metadata": {},
   "outputs": [
    {
     "data": {
      "text/plain": [
       "['# Explanation',\n",
       " '',\n",
       " '## Data 2080',\n",
       " '## drsmb.co/2080explanation',\n",
       " '',\n",
       " \"### take some time to stretch and move, since you're early\"]"
      ]
     },
     "execution_count": 14,
     "metadata": {},
     "output_type": "execute_result"
    }
   ],
   "source": [
    "body_list = slides_list[0]['body'].split('\\n')\n",
    "body_list"
   ]
  },
  {
   "cell_type": "code",
   "execution_count": 15,
   "metadata": {},
   "outputs": [
    {
     "data": {
      "text/plain": [
       "\"# Explanation\\n\\n## Data 2080\\n## drsmb.co/2080explanation\\n\\n### take some time to stretch and move, since you're early\""
      ]
     },
     "execution_count": 15,
     "metadata": {},
     "output_type": "execute_result"
    }
   ],
   "source": [
    "'\\n'.join(body_list)"
   ]
  },
  {
   "cell_type": "code",
   "execution_count": 22,
   "metadata": {},
   "outputs": [
    {
     "data": {
      "text/plain": [
       "{'body': \"\\n\\n# Explanation\\n\\n## Data 2080\\n## drsmb.co/2080explanation\\n\\n### take some time to stretch and move, since you're early\\n\\n\",\n",
       " 'info': {'img_list': [], 'name': 'intro', 'type': 'md', 'url': ''}}"
      ]
     },
     "execution_count": 22,
     "metadata": {},
     "output_type": "execute_result"
    }
   ],
   "source": [
    "lecture.complete_description(slide_dict)"
   ]
  },
  {
   "cell_type": "code",
   "execution_count": 23,
   "metadata": {},
   "outputs": [
    {
     "data": {
      "text/plain": [
       "['\\n',\n",
       " '\\n',\n",
       " '#',\n",
       " ' ',\n",
       " 'A',\n",
       " 'g',\n",
       " 'e',\n",
       " 'n',\n",
       " 'd',\n",
       " 'a',\n",
       " '\\n',\n",
       " '\\n',\n",
       " '1',\n",
       " '.',\n",
       " ' ',\n",
       " 'R',\n",
       " 'e',\n",
       " 'v',\n",
       " 'i',\n",
       " 'e',\n",
       " 'w',\n",
       " '\\n',\n",
       " '1',\n",
       " '.',\n",
       " ' ',\n",
       " 'P',\n",
       " 'o',\n",
       " 's',\n",
       " 't',\n",
       " ' ',\n",
       " 'h',\n",
       " 'o',\n",
       " 'c',\n",
       " ' ',\n",
       " 'e',\n",
       " 'x',\n",
       " 'p',\n",
       " 'l',\n",
       " 'a',\n",
       " 'n',\n",
       " 'a',\n",
       " 't',\n",
       " 'a',\n",
       " 't',\n",
       " 'i',\n",
       " 'o',\n",
       " 'n',\n",
       " 's',\n",
       " ' ',\n",
       " 'o',\n",
       " 'v',\n",
       " 'e',\n",
       " 'r',\n",
       " 'v',\n",
       " 'i',\n",
       " 'e',\n",
       " 'w',\n",
       " '\\n',\n",
       " '1',\n",
       " '.',\n",
       " ' ',\n",
       " 'D',\n",
       " 'e',\n",
       " 'e',\n",
       " 'p',\n",
       " ' ',\n",
       " 'd',\n",
       " 'i',\n",
       " 'v',\n",
       " 'e',\n",
       " ':',\n",
       " ' ',\n",
       " 'T',\n",
       " 'C',\n",
       " 'A',\n",
       " 'V',\n",
       " ' ',\n",
       " 'f',\n",
       " 'o',\n",
       " 'r',\n",
       " ' ',\n",
       " 't',\n",
       " 'e',\n",
       " 'n',\n",
       " 's',\n",
       " 'o',\n",
       " 'r',\n",
       " 'f',\n",
       " 'l',\n",
       " 'o',\n",
       " 'w',\n",
       " '\\n',\n",
       " '1',\n",
       " '.',\n",
       " ' ',\n",
       " 'D',\n",
       " 'o',\n",
       " ' ',\n",
       " 't',\n",
       " 'h',\n",
       " 'e',\n",
       " ' ',\n",
       " 't',\n",
       " 'o',\n",
       " 'o',\n",
       " 'l',\n",
       " 's',\n",
       " ' ',\n",
       " 'w',\n",
       " 'e',\n",
       " ' ',\n",
       " 'h',\n",
       " 'a',\n",
       " 'v',\n",
       " 'e',\n",
       " ' ',\n",
       " 'f',\n",
       " 'o',\n",
       " 'r',\n",
       " ' ',\n",
       " 'e',\n",
       " 'x',\n",
       " 'p',\n",
       " 'l',\n",
       " 'a',\n",
       " 'n',\n",
       " 'a',\n",
       " 't',\n",
       " 'i',\n",
       " 'o',\n",
       " 'n',\n",
       " ' ',\n",
       " 'm',\n",
       " 'e',\n",
       " 'e',\n",
       " 't',\n",
       " ' ',\n",
       " 'o',\n",
       " 'u',\n",
       " 'r',\n",
       " ' ',\n",
       " 'g',\n",
       " 'o',\n",
       " 'a',\n",
       " 'l',\n",
       " 's',\n",
       " '?',\n",
       " '\\n',\n",
       " '<',\n",
       " '!',\n",
       " '-',\n",
       " '-',\n",
       " ' ',\n",
       " '1',\n",
       " '.',\n",
       " ' ',\n",
       " 't',\n",
       " 'r',\n",
       " 'o',\n",
       " 'l',\n",
       " 'l',\n",
       " 'e',\n",
       " 'y',\n",
       " ' ',\n",
       " 'p',\n",
       " 'r',\n",
       " 'o',\n",
       " 'b',\n",
       " 'l',\n",
       " 'e',\n",
       " 'm',\n",
       " 's',\n",
       " ' ',\n",
       " 'o',\n",
       " 'f',\n",
       " ' ',\n",
       " 'e',\n",
       " 'x',\n",
       " 'p',\n",
       " 'l',\n",
       " 'a',\n",
       " 'n',\n",
       " 'a',\n",
       " 't',\n",
       " 'i',\n",
       " 'o',\n",
       " 'n',\n",
       " ' ',\n",
       " '-',\n",
       " '-',\n",
       " '\\n',\n",
       " '\\n']"
      ]
     },
     "execution_count": 23,
     "metadata": {},
     "output_type": "execute_result"
    }
   ],
   "source": [
    "slides['agenda'].body"
   ]
  },
  {
   "cell_type": "code",
   "execution_count": null,
   "metadata": {},
   "outputs": [],
   "source": []
  }
 ],
 "metadata": {
  "kernelspec": {
   "display_name": "Python 3",
   "language": "python",
   "name": "python3"
  },
  "language_info": {
   "codemirror_mode": {
    "name": "ipython",
    "version": 3
   },
   "file_extension": ".py",
   "mimetype": "text/x-python",
   "name": "python",
   "nbconvert_exporter": "python",
   "pygments_lexer": "ipython3",
   "version": "3.6.4"
  },
  "widgets": {
   "application/vnd.jupyter.widget-state+json": {
    "state": {
     "008d082ff04d4886888dd00e4e193f23": {
      "model_module": "@jupyter-widgets/controls",
      "model_module_version": "1.5.0",
      "model_name": "ToggleButtonModel",
      "state": {
       "button_style": "info",
       "icon": "check",
       "layout": "IPY_MODEL_824c5172569340eeb44d2e9e279dac69",
       "style": "IPY_MODEL_d0d73b4335af4282a999042cb69308ff",
       "tooltip": "Hint"
      }
     },
     "00ee33a875e949ee851642072fb53057": {
      "model_module": "@jupyter-widgets/base",
      "model_module_version": "1.2.0",
      "model_name": "LayoutModel",
      "state": {
       "grid_template_areas": "\"widget001 widget002 widget002 widget002 widget002 widget002 widget002 widget002 widget002 widget002 widget002 widget002 widget002 widget002 widget002\"\n\". . . . . . . . . . . . . . .\"\n\". . . . . . . . . . . . . . .\"\n\". . . . . . . . . . . . . . .\"",
       "grid_template_columns": "repeat(15, 1fr)",
       "grid_template_rows": "repeat(4, 1fr)"
      }
     },
     "03d61a339e2442fd9fec96d3e6ded859": {
      "model_module": "@jupyter-widgets/output",
      "model_module_version": "1.0.0",
      "model_name": "OutputModel",
      "state": {
       "layout": "IPY_MODEL_159518f6cbf34b83b96b8d4e26ce372c",
       "outputs": [
        {
         "data": {
          "text/markdown": "\n1. Do the tools we have for explanation meet our goals?\n",
          "text/plain": "<IPython.core.display.Markdown object>"
         },
         "metadata": {},
         "output_type": "display_data"
        }
       ]
      }
     },
     "0428f72c030944b4b2a8936e5670a006": {
      "model_module": "@jupyter-widgets/controls",
      "model_module_version": "1.5.0",
      "model_name": "DescriptionStyleModel",
      "state": {
       "description_width": ""
      }
     },
     "0621a175630942ec8f0275a32be6fc5d": {
      "model_module": "@jupyter-widgets/controls",
      "model_module_version": "1.5.0",
      "model_name": "ToggleButtonModel",
      "state": {
       "button_style": "info",
       "icon": "check",
       "layout": "IPY_MODEL_b88d6903578a442bbc9d441c970894a1",
       "style": "IPY_MODEL_92bd39cb03a642eb995ea37568a75b31",
       "tooltip": "Hint",
       "value": true
      }
     },
     "067a79dc67fd4ebc8959d9feda5c2dc7": {
      "model_module": "@jupyter-widgets/base",
      "model_module_version": "1.2.0",
      "model_name": "LayoutModel",
      "state": {
       "grid_area": "widget002"
      }
     },
     "070abd0be3cf42e6a1e7f5452c8cba4c": {
      "model_module": "@jupyter-widgets/base",
      "model_module_version": "1.2.0",
      "model_name": "LayoutModel",
      "state": {
       "grid_area": "widget005",
       "height": "auto",
       "width": "auto"
      }
     },
     "0763f2c3daac44e6b57d2342f3d340a8": {
      "model_module": "@jupyter-widgets/base",
      "model_module_version": "1.2.0",
      "model_name": "LayoutModel",
      "state": {
       "grid_area": "widget004"
      }
     },
     "07b5eea140e9490c9c5e9ec294d59b0d": {
      "model_module": "@jupyter-widgets/controls",
      "model_module_version": "1.5.0",
      "model_name": "ToggleButtonModel",
      "state": {
       "button_style": "info",
       "icon": "check",
       "layout": "IPY_MODEL_b91676e2013147e480cac7e736986503",
       "style": "IPY_MODEL_ccc8b9edc69645968877d5550b1db4e5",
       "tooltip": "Hint",
       "value": true
      }
     },
     "0836baceaec5424c8e913630615788cd": {
      "model_module": "@jupyter-widgets/base",
      "model_module_version": "1.2.0",
      "model_name": "LayoutModel",
      "state": {
       "grid_template_areas": "\". widget001 widget001 widget001 widget001 widget001 widget001 widget001 widget001 widget001 widget001 widget001 widget001 widget001 widget001\"\n\"widget002 widget001 widget001 widget001 widget001 widget001 widget001 widget001 widget001 widget001 widget001 widget001 widget001 widget001 widget001\"\n\". widget001 widget001 widget001 widget001 widget001 widget001 widget001 widget001 widget001 widget001 widget001 widget001 widget001 widget001\"\n\". widget001 widget001 widget001 widget001 widget001 widget001 widget001 widget001 widget001 widget001 widget001 widget001 widget001 widget001\"\n\". widget001 widget001 widget001 widget001 widget001 widget001 widget001 widget001 widget001 widget001 widget001 widget001 widget001 widget001\"",
       "grid_template_columns": "repeat(15, 1fr)",
       "grid_template_rows": "repeat(5, 1fr)"
      }
     },
     "09f28c7e2b274eaca0a17c6c421da404": {
      "model_module": "@jupyter-widgets/base",
      "model_module_version": "1.2.0",
      "model_name": "LayoutModel",
      "state": {
       "grid_area": "widget001"
      }
     },
     "0a657a318d1b48dfa81a214d490d510d": {
      "model_module": "@jupyter-widgets/controls",
      "model_module_version": "1.5.0",
      "model_name": "ButtonStyleModel",
      "state": {}
     },
     "0ac4cd58f5da463fa2ca6514bdd125a9": {
      "model_module": "@jupyter-widgets/output",
      "model_module_version": "1.0.0",
      "model_name": "OutputModel",
      "state": {
       "layout": "IPY_MODEL_4a6f099e02e64430b9f59e113e0cb4b8",
       "outputs": [
        {
         "data": {
          "text/markdown": "\n1. trolley problems of explanation",
          "text/plain": "<IPython.core.display.Markdown object>"
         },
         "metadata": {},
         "output_type": "display_data"
        }
       ]
      }
     },
     "0af73817009d4298bb848962718312c1": {
      "model_module": "@jupyter-widgets/controls",
      "model_module_version": "1.5.0",
      "model_name": "ButtonModel",
      "state": {
       "button_style": "info",
       "layout": "IPY_MODEL_d4708a131c794244ade22c230b0ed5b8",
       "style": "IPY_MODEL_705769aa30204855b43e2e3c5446a8f2"
      }
     },
     "0bfcf328e9224854bc105740405ce7b6": {
      "model_module": "@jupyter-widgets/base",
      "model_module_version": "1.2.0",
      "model_name": "LayoutModel",
      "state": {
       "grid_area": "widget003",
       "height": "auto",
       "width": "auto"
      }
     },
     "0c02b15ff0eb44239c1eca628cb05dc5": {
      "model_module": "@jupyter-widgets/base",
      "model_module_version": "1.2.0",
      "model_name": "LayoutModel",
      "state": {
       "grid_area": "widget003",
       "height": "auto",
       "width": "auto"
      }
     },
     "0c0405e033cc42cdbebc14a855bccbf0": {
      "model_module": "@jupyter-widgets/base",
      "model_module_version": "1.2.0",
      "model_name": "LayoutModel",
      "state": {
       "grid_area": "widget008"
      }
     },
     "0cdd805a6da24ba69598ceea5c126a67": {
      "model_module": "@jupyter-widgets/controls",
      "model_module_version": "1.5.0",
      "model_name": "GridBoxModel",
      "state": {
       "children": [
        "IPY_MODEL_47b5e7aeae0044668c94f21348f38fbd",
        "IPY_MODEL_92387fa5dac245cc9c9d2c924d062a16"
       ],
       "layout": "IPY_MODEL_bc8cb523a0a64d7ca0fc996e63427103"
      }
     },
     "0d0ea143ab914268abe48be094be44b3": {
      "model_module": "@jupyter-widgets/base",
      "model_module_version": "1.2.0",
      "model_name": "LayoutModel",
      "state": {
       "grid_area": "widget001"
      }
     },
     "0ee3086b38314408a2c05f21bfb20ea8": {
      "model_module": "@jupyter-widgets/controls",
      "model_module_version": "1.5.0",
      "model_name": "DescriptionStyleModel",
      "state": {
       "description_width": ""
      }
     },
     "0fc7877f591840a7a856b8b7516d0061": {
      "model_module": "@jupyter-widgets/controls",
      "model_module_version": "1.5.0",
      "model_name": "DescriptionStyleModel",
      "state": {
       "description_width": ""
      }
     },
     "101377dcaf0f4bcaa0e67b621e061272": {
      "model_module": "@jupyter-widgets/output",
      "model_module_version": "1.0.0",
      "model_name": "OutputModel",
      "state": {
       "layout": "IPY_MODEL_3014e559f2f7461f9ddb462fb9381af7"
      }
     },
     "105f890d71f94589b61977503a9ff96a": {
      "model_module": "@jupyter-widgets/base",
      "model_module_version": "1.2.0",
      "model_name": "LayoutModel",
      "state": {
       "grid_area": "widget002"
      }
     },
     "1135772be81f4da0b51216c86d736283": {
      "model_module": "@jupyter-widgets/controls",
      "model_module_version": "1.5.0",
      "model_name": "ToggleButtonModel",
      "state": {
       "button_style": "info",
       "icon": "check",
       "layout": "IPY_MODEL_6e62b20f16ea4c25be2faabcab0f0700",
       "style": "IPY_MODEL_fa38235b1aa44a64999bef300d74396f",
       "tooltip": "Hint",
       "value": true
      }
     },
     "11c977a8a96549eca9d7bb9d275ed2bd": {
      "model_module": "@jupyter-widgets/controls",
      "model_module_version": "1.5.0",
      "model_name": "ButtonStyleModel",
      "state": {}
     },
     "13993931e485454887de5cdf3a73b580": {
      "model_module": "@jupyter-widgets/base",
      "model_module_version": "1.2.0",
      "model_name": "LayoutModel",
      "state": {
       "grid_area": "widget007",
       "height": "auto",
       "width": "auto"
      }
     },
     "13ef807a7f20414393db7d4da161d295": {
      "model_module": "@jupyter-widgets/base",
      "model_module_version": "1.2.0",
      "model_name": "LayoutModel",
      "state": {
       "grid_area": "widget007",
       "height": "auto",
       "width": "auto"
      }
     },
     "145371be852640ea91ff42c342aefde6": {
      "model_module": "@jupyter-widgets/base",
      "model_module_version": "1.2.0",
      "model_name": "LayoutModel",
      "state": {
       "grid_template_areas": "\"widget002 widget001 widget001 widget001 widget001 widget001 widget001 widget001 widget001 widget001 widget001 widget001 widget001 widget001 widget001\"\n\"widget003 widget001 widget001 widget001 widget001 widget001 widget001 widget001 widget001 widget001 widget001 widget001 widget001 widget001 widget001\"\n\"widget004 widget001 widget001 widget001 widget001 widget001 widget001 widget001 widget001 widget001 widget001 widget001 widget001 widget001 widget001\"\n\"widget005 widget001 widget001 widget001 widget001 widget001 widget001 widget001 widget001 widget001 widget001 widget001 widget001 widget001 widget001\"\n\". widget001 widget001 widget001 widget001 widget001 widget001 widget001 widget001 widget001 widget001 widget001 widget001 widget001 widget001\"",
       "grid_template_columns": "repeat(15, 1fr)",
       "grid_template_rows": "repeat(5, 1fr)"
      }
     },
     "159518f6cbf34b83b96b8d4e26ce372c": {
      "model_module": "@jupyter-widgets/base",
      "model_module_version": "1.2.0",
      "model_name": "LayoutModel",
      "state": {
       "grid_area": "widget006"
      }
     },
     "167534dbccdc4afc88569fb68ec5fa9a": {
      "model_module": "@jupyter-widgets/controls",
      "model_module_version": "1.5.0",
      "model_name": "ButtonStyleModel",
      "state": {}
     },
     "171a707ffd324b25a422ed108e6c91bc": {
      "model_module": "@jupyter-widgets/controls",
      "model_module_version": "1.5.0",
      "model_name": "ToggleButtonModel",
      "state": {
       "button_style": "info",
       "icon": "check",
       "layout": "IPY_MODEL_f7748afefc6b431bb9602b747249bddd",
       "style": "IPY_MODEL_52436141c053439fa1961e3251d7899d",
       "tooltip": "Hint"
      }
     },
     "17a64ddb16534a92a3ae744d39ee431c": {
      "model_module": "@jupyter-widgets/controls",
      "model_module_version": "1.5.0",
      "model_name": "ToggleButtonModel",
      "state": {
       "button_style": "info",
       "icon": "check",
       "layout": "IPY_MODEL_0763f2c3daac44e6b57d2342f3d340a8",
       "style": "IPY_MODEL_d82665520fbf420085ba1e3986d3c3ad",
       "tooltip": "Hint",
       "value": true
      }
     },
     "17f44a74fe5b4d7ab5602fcaddb56383": {
      "model_module": "@jupyter-widgets/controls",
      "model_module_version": "1.5.0",
      "model_name": "ToggleButtonModel",
      "state": {
       "button_style": "info",
       "icon": "check",
       "layout": "IPY_MODEL_8e825f09125241929cc211419038f4ef",
       "style": "IPY_MODEL_b10446c23a294fd29c988abe5c32b645",
       "tooltip": "Hint"
      }
     },
     "18f3c86d725b4b5f82c304aa600d2c96": {
      "model_module": "@jupyter-widgets/base",
      "model_module_version": "1.2.0",
      "model_name": "LayoutModel",
      "state": {
       "grid_area": "widget001",
       "height": "auto",
       "width": "auto"
      }
     },
     "19170e0f97d14ebdb929e4c5705798e1": {
      "model_module": "@jupyter-widgets/controls",
      "model_module_version": "1.5.0",
      "model_name": "GridBoxModel",
      "state": {
       "children": [
        "IPY_MODEL_ec94a0eb33d34a15b5c6125c87fe0535",
        "IPY_MODEL_4dfeee72c5484766bee8455e967e731a"
       ],
       "layout": "IPY_MODEL_00ee33a875e949ee851642072fb53057"
      }
     },
     "1a2ce1e149974480b356efe995657a8e": {
      "model_module": "@jupyter-widgets/base",
      "model_module_version": "1.2.0",
      "model_name": "LayoutModel",
      "state": {
       "grid_area": "widget002"
      }
     },
     "1b182cb1d30b4a4aa7603ebb52de03c8": {
      "model_module": "@jupyter-widgets/controls",
      "model_module_version": "1.5.0",
      "model_name": "DescriptionStyleModel",
      "state": {
       "description_width": ""
      }
     },
     "1c723266ad0b49d1adc1525ec9bf00bd": {
      "model_module": "@jupyter-widgets/output",
      "model_module_version": "1.0.0",
      "model_name": "OutputModel",
      "state": {
       "layout": "IPY_MODEL_34170798720442d2a9845b251c830838"
      }
     },
     "1e205037c6144ff29f21b70de1e256ac": {
      "model_module": "@jupyter-widgets/controls",
      "model_module_version": "1.5.0",
      "model_name": "ToggleButtonModel",
      "state": {
       "button_style": "info",
       "icon": "check",
       "layout": "IPY_MODEL_d7d4b7ef3ccc46b9bea38fec7cea456f",
       "style": "IPY_MODEL_0ee3086b38314408a2c05f21bfb20ea8",
       "tooltip": "Hint"
      }
     },
     "1e371937aa8e436aa937c49e264199f0": {
      "model_module": "@jupyter-widgets/controls",
      "model_module_version": "1.5.0",
      "model_name": "DescriptionStyleModel",
      "state": {
       "description_width": ""
      }
     },
     "1f4971ff345f4d838d95c63554579e8c": {
      "model_module": "@jupyter-widgets/output",
      "model_module_version": "1.0.0",
      "model_name": "OutputModel",
      "state": {
       "layout": "IPY_MODEL_ff85ef9ead1142bc9d82eab4ed890e13"
      }
     },
     "1f75bf2572df4c159c8dd1f8aa3732df": {
      "model_module": "@jupyter-widgets/base",
      "model_module_version": "1.2.0",
      "model_name": "LayoutModel",
      "state": {
       "grid_template_areas": "\". widget001 widget001 widget001 widget001 widget001 widget001 widget001 widget001 widget001 widget001 widget001 widget001 widget001 widget001\"\n\"widget002 widget001 widget001 widget001 widget001 widget001 widget001 widget001 widget001 widget001 widget001 widget001 widget001 widget001 widget001\"\n\". widget001 widget001 widget001 widget001 widget001 widget001 widget001 widget001 widget001 widget001 widget001 widget001 widget001 widget001\"\n\". widget001 widget001 widget001 widget001 widget001 widget001 widget001 widget001 widget001 widget001 widget001 widget001 widget001 widget001\"\n\". widget001 widget001 widget001 widget001 widget001 widget001 widget001 widget001 widget001 widget001 widget001 widget001 widget001 widget001\"",
       "grid_template_columns": "repeat(15, 1fr)",
       "grid_template_rows": "repeat(5, 1fr)"
      }
     },
     "20057dd4a00a4274b5aad27bbeb4d155": {
      "model_module": "@jupyter-widgets/base",
      "model_module_version": "1.2.0",
      "model_name": "LayoutModel",
      "state": {
       "grid_area": "widget007",
       "height": "auto",
       "width": "auto"
      }
     },
     "20fe7975ab3f44c6934b5655537d1cac": {
      "model_module": "@jupyter-widgets/base",
      "model_module_version": "1.2.0",
      "model_name": "LayoutModel",
      "state": {
       "grid_area": "widget001"
      }
     },
     "224945c7b2434a4393e011115e687124": {
      "model_module": "@jupyter-widgets/base",
      "model_module_version": "1.2.0",
      "model_name": "LayoutModel",
      "state": {
       "grid_area": "widget001"
      }
     },
     "2295fe063f234c45b963ba4d5d2404ca": {
      "model_module": "@jupyter-widgets/base",
      "model_module_version": "1.2.0",
      "model_name": "LayoutModel",
      "state": {
       "grid_area": "widget001"
      }
     },
     "289d3737d6834023b394bcc9c01d2e95": {
      "model_module": "@jupyter-widgets/output",
      "model_module_version": "1.0.0",
      "model_name": "OutputModel",
      "state": {
       "layout": "IPY_MODEL_a5c5f8fd78a344de8af317fa8f3fb6e0",
       "outputs": [
        {
         "data": {
          "text/markdown": "\n1. trolley problems of explanation",
          "text/plain": "<IPython.core.display.Markdown object>"
         },
         "metadata": {},
         "output_type": "display_data"
        },
        {
         "data": {
          "text/markdown": "\n1. trolley problems of explanation",
          "text/plain": "<IPython.core.display.Markdown object>"
         },
         "metadata": {},
         "output_type": "display_data"
        },
        {
         "data": {
          "text/markdown": "\n1. trolley problems of explanation",
          "text/plain": "<IPython.core.display.Markdown object>"
         },
         "metadata": {},
         "output_type": "display_data"
        },
        {
         "data": {
          "text/markdown": "\n1. trolley problems of explanation",
          "text/plain": "<IPython.core.display.Markdown object>"
         },
         "metadata": {},
         "output_type": "display_data"
        },
        {
         "data": {
          "text/markdown": "\n1. trolley problems of explanation",
          "text/plain": "<IPython.core.display.Markdown object>"
         },
         "metadata": {},
         "output_type": "display_data"
        },
        {
         "data": {
          "text/markdown": "\n1. trolley problems of explanation",
          "text/plain": "<IPython.core.display.Markdown object>"
         },
         "metadata": {},
         "output_type": "display_data"
        },
        {
         "data": {
          "text/markdown": "\n1. trolley problems of explanation",
          "text/plain": "<IPython.core.display.Markdown object>"
         },
         "metadata": {},
         "output_type": "display_data"
        }
       ]
      }
     },
     "291f6cb9847a46ad96d1ac5906459ec1": {
      "model_module": "@jupyter-widgets/controls",
      "model_module_version": "1.5.0",
      "model_name": "ToggleButtonModel",
      "state": {
       "button_style": "info",
       "icon": "check",
       "layout": "IPY_MODEL_84ce4e3080ae48e7ab05d12bd59d80f1",
       "style": "IPY_MODEL_6eebf72df07b40d1866480e0bb417edc",
       "tooltip": "Hint",
       "value": true
      }
     },
     "2a7d3272d5844b59af278b9db09e7ae7": {
      "model_module": "@jupyter-widgets/controls",
      "model_module_version": "1.5.0",
      "model_name": "ToggleButtonModel",
      "state": {
       "button_style": "info",
       "icon": "check",
       "layout": "IPY_MODEL_9f990c3206c6450ca018a64b319972a9",
       "style": "IPY_MODEL_ebaf61faab25443b9fc21d960f05c4ab",
       "tooltip": "Hint",
       "value": true
      }
     },
     "2a93833263774ec08dda9dcc69a1d251": {
      "model_module": "@jupyter-widgets/base",
      "model_module_version": "1.2.0",
      "model_name": "LayoutModel",
      "state": {
       "grid_area": "widget004"
      }
     },
     "2b78ac2727344ce79641a7d8219ddedb": {
      "model_module": "@jupyter-widgets/base",
      "model_module_version": "1.2.0",
      "model_name": "LayoutModel",
      "state": {
       "grid_area": "widget001",
       "height": "auto",
       "width": "auto"
      }
     },
     "2beeae68913f46ef910ee03354336f63": {
      "model_module": "@jupyter-widgets/controls",
      "model_module_version": "1.5.0",
      "model_name": "DescriptionStyleModel",
      "state": {
       "description_width": ""
      }
     },
     "2d440fadebe6449fb2d57f014687c0c4": {
      "model_module": "@jupyter-widgets/controls",
      "model_module_version": "1.5.0",
      "model_name": "ButtonModel",
      "state": {
       "button_style": "info",
       "layout": "IPY_MODEL_e7b9fb95a3614c0e9d52e1689fee801a",
       "style": "IPY_MODEL_f8b8834a5d9643c4b1a4c991078ae467"
      }
     },
     "2e0c78599ce6420db625f2b82fc08322": {
      "model_module": "@jupyter-widgets/output",
      "model_module_version": "1.0.0",
      "model_name": "OutputModel",
      "state": {
       "layout": "IPY_MODEL_a5413c57fefe4a568a9723c936011979",
       "outputs": [
        {
         "data": {
          "text/markdown": "# Today\n\n\n1. Post hoc explanatations overview\n",
          "text/plain": "<IPython.core.display.Markdown object>"
         },
         "metadata": {},
         "output_type": "display_data"
        }
       ]
      }
     },
     "2fc04047dd054ffe8e745b7eafdbe5a3": {
      "model_module": "@jupyter-widgets/base",
      "model_module_version": "1.2.0",
      "model_name": "LayoutModel",
      "state": {
       "grid_template_areas": "\"widget002 widget001 widget001 widget001 widget001 widget001 widget001 widget001 widget001 widget001 widget001 widget001 widget001 widget001 widget001\"\n\"widget003 widget001 widget001 widget001 widget001 widget001 widget001 widget001 widget001 widget001 widget001 widget001 widget001 widget001 widget001\"\n\"widget004 widget001 widget001 widget001 widget001 widget001 widget001 widget001 widget001 widget001 widget001 widget001 widget001 widget001 widget001\"\n\"widget005 widget001 widget001 widget001 widget001 widget001 widget001 widget001 widget001 widget001 widget001 widget001 widget001 widget001 widget001\"\n\". widget001 widget001 widget001 widget001 widget001 widget001 widget001 widget001 widget001 widget001 widget001 widget001 widget001 widget001\"",
       "grid_template_columns": "repeat(15, 1fr)",
       "grid_template_rows": "repeat(5, 1fr)"
      }
     },
     "3014e559f2f7461f9ddb462fb9381af7": {
      "model_module": "@jupyter-widgets/base",
      "model_module_version": "1.2.0",
      "model_name": "LayoutModel",
      "state": {
       "grid_area": "widget002"
      }
     },
     "30b79e4a64724fb8a858b22dfefb4ad0": {
      "model_module": "@jupyter-widgets/controls",
      "model_module_version": "1.5.0",
      "model_name": "ToggleButtonModel",
      "state": {
       "button_style": "info",
       "icon": "check",
       "layout": "IPY_MODEL_e9a2e2be7c4c41479ae10a640578b207",
       "style": "IPY_MODEL_1b182cb1d30b4a4aa7603ebb52de03c8",
       "tooltip": "Hint"
      }
     },
     "335eecb4832444a783fcb4b6fe56f139": {
      "model_module": "@jupyter-widgets/controls",
      "model_module_version": "1.5.0",
      "model_name": "ButtonModel",
      "state": {
       "button_style": "info",
       "layout": "IPY_MODEL_13ef807a7f20414393db7d4da161d295",
       "style": "IPY_MODEL_4acb232062f442a09133fd6a6e134932"
      }
     },
     "33c05ef0619f4ebc968e37ecb309eed7": {
      "model_module": "@jupyter-widgets/base",
      "model_module_version": "1.2.0",
      "model_name": "LayoutModel",
      "state": {
       "grid_area": "widget003",
       "height": "auto",
       "width": "auto"
      }
     },
     "33d6e903914b4056866cc265d6d429d6": {
      "model_module": "@jupyter-widgets/base",
      "model_module_version": "1.2.0",
      "model_name": "LayoutModel",
      "state": {
       "grid_area": "widget001"
      }
     },
     "34170798720442d2a9845b251c830838": {
      "model_module": "@jupyter-widgets/base",
      "model_module_version": "1.2.0",
      "model_name": "LayoutModel",
      "state": {
       "grid_area": "widget004"
      }
     },
     "3422dfdca39f46cb97c93796860a5230": {
      "model_module": "@jupyter-widgets/controls",
      "model_module_version": "1.5.0",
      "model_name": "ToggleButtonModel",
      "state": {
       "button_style": "info",
       "icon": "check",
       "layout": "IPY_MODEL_969b8f2c978e4307a878719102ac67c5",
       "style": "IPY_MODEL_a99f14bb51f04e5eb04e5d0ee04e37e6",
       "tooltip": "Hint",
       "value": true
      }
     },
     "346b61e98f86433aaf76a2d14a9271e0": {
      "model_module": "@jupyter-widgets/controls",
      "model_module_version": "1.5.0",
      "model_name": "ButtonStyleModel",
      "state": {}
     },
     "34b30e5576444ba49f1aeaf02f861df9": {
      "model_module": "@jupyter-widgets/base",
      "model_module_version": "1.2.0",
      "model_name": "LayoutModel",
      "state": {
       "grid_area": "widget003"
      }
     },
     "363549ac5e02439dab47ab216e61c0cc": {
      "model_module": "@jupyter-widgets/controls",
      "model_module_version": "1.5.0",
      "model_name": "ToggleButtonModel",
      "state": {
       "button_style": "info",
       "icon": "check",
       "layout": "IPY_MODEL_9922dba2d6bd4b5bbd95ddaae76e6c64",
       "style": "IPY_MODEL_ca73b53724414fbfb67cbef7a6d99261",
       "tooltip": "Hint"
      }
     },
     "3745c01a38924a8eb3851e7a0b50dd6d": {
      "model_module": "@jupyter-widgets/base",
      "model_module_version": "1.2.0",
      "model_name": "LayoutModel",
      "state": {
       "grid_area": "widget007",
       "height": "auto",
       "width": "auto"
      }
     },
     "38d5190cccf948bb8b2557c7e452b243": {
      "model_module": "@jupyter-widgets/controls",
      "model_module_version": "1.5.0",
      "model_name": "ToggleButtonModel",
      "state": {
       "button_style": "info",
       "icon": "check",
       "layout": "IPY_MODEL_919e197c25444596ab8f7410922640dd",
       "style": "IPY_MODEL_ccdf351adae44f18a179347fadebf0ea",
       "tooltip": "Hint"
      }
     },
     "3916b0c96b8c46c88358f9231772b5e1": {
      "model_module": "@jupyter-widgets/base",
      "model_module_version": "1.2.0",
      "model_name": "LayoutModel",
      "state": {
       "grid_area": "widget003",
       "height": "auto",
       "width": "auto"
      }
     },
     "393d6a0ac8b64ec99b18ce4b132839cd": {
      "model_module": "@jupyter-widgets/controls",
      "model_module_version": "1.5.0",
      "model_name": "ToggleButtonModel",
      "state": {
       "button_style": "info",
       "icon": "check",
       "layout": "IPY_MODEL_55f8165bbb4e4c4285539ff55fe14734",
       "style": "IPY_MODEL_0fc7877f591840a7a856b8b7516d0061",
       "tooltip": "Hint",
       "value": true
      }
     },
     "39c1a83b15e842e788c8351624267aa1": {
      "model_module": "@jupyter-widgets/controls",
      "model_module_version": "1.5.0",
      "model_name": "ToggleButtonModel",
      "state": {
       "button_style": "info",
       "icon": "check",
       "layout": "IPY_MODEL_dc384de1493047d39def606e469257de",
       "style": "IPY_MODEL_0428f72c030944b4b2a8936e5670a006",
       "tooltip": "Hint",
       "value": true
      }
     },
     "3a5726ec324e4565a0ee736752d37a14": {
      "model_module": "@jupyter-widgets/output",
      "model_module_version": "1.0.0",
      "model_name": "OutputModel",
      "state": {
       "layout": "IPY_MODEL_c052dc4cbf0f4258a06f2c35684d7844",
       "outputs": [
        {
         "data": {
          "text/markdown": "\n1. Deep dive: TCAV for tensorflow\n",
          "text/plain": "<IPython.core.display.Markdown object>"
         },
         "metadata": {},
         "output_type": "display_data"
        }
       ]
      }
     },
     "3d43f082326941998f7b72fc2d536be8": {
      "model_module": "@jupyter-widgets/controls",
      "model_module_version": "1.5.0",
      "model_name": "ButtonModel",
      "state": {
       "button_style": "info",
       "layout": "IPY_MODEL_cab8bff9c69945ba8e3ec1e3eb55fc71",
       "style": "IPY_MODEL_5c4ad306d7ba4fc09ca194600a7d1055"
      }
     },
     "3e42f4ce4d8846fb9b70fd77542b075a": {
      "model_module": "@jupyter-widgets/controls",
      "model_module_version": "1.5.0",
      "model_name": "DescriptionStyleModel",
      "state": {
       "description_width": ""
      }
     },
     "3f1c76f24c6149f48acbf47d8c467546": {
      "model_module": "@jupyter-widgets/controls",
      "model_module_version": "1.5.0",
      "model_name": "ToggleButtonModel",
      "state": {
       "button_style": "info",
       "icon": "check",
       "layout": "IPY_MODEL_b861c18f907d4a7e98cd64460f0bb1ca",
       "style": "IPY_MODEL_ffad00061ec94b3a995c3f85062835f7",
       "tooltip": "Hint"
      }
     },
     "401e9d8c5dc144c38f4a90ee36344c7e": {
      "model_module": "@jupyter-widgets/controls",
      "model_module_version": "1.5.0",
      "model_name": "ToggleButtonModel",
      "state": {
       "button_style": "info",
       "icon": "check",
       "layout": "IPY_MODEL_8ad01a6fbfb34713a5542db5acb87836",
       "style": "IPY_MODEL_49ee0dba2d5c48b18c2641ffeb1241ae",
       "tooltip": "Hint"
      }
     },
     "42852468c0e846c280d348fc8f718d42": {
      "model_module": "@jupyter-widgets/controls",
      "model_module_version": "1.5.0",
      "model_name": "GridBoxModel",
      "state": {
       "children": [
        "IPY_MODEL_a80aec11268d43228929932453210731",
        "IPY_MODEL_c1590910bd15455cb98e8720036d22be"
       ],
       "layout": "IPY_MODEL_538431b3f8cc4556ba0865f6d5534343"
      }
     },
     "42ece269aa854608bb2e9bb12be65a89": {
      "model_module": "@jupyter-widgets/controls",
      "model_module_version": "1.5.0",
      "model_name": "ButtonModel",
      "state": {
       "button_style": "info",
       "layout": "IPY_MODEL_20057dd4a00a4274b5aad27bbeb4d155",
       "style": "IPY_MODEL_95b4ce0472e5493ea242296902833c6c"
      }
     },
     "432c22658e004db2ad00988833098b05": {
      "model_module": "@jupyter-widgets/output",
      "model_module_version": "1.0.0",
      "model_name": "OutputModel",
      "state": {
       "layout": "IPY_MODEL_c7d4dcd201b341bb9cc06559452fedcf",
       "outputs": [
        {
         "data": {
          "text/markdown": "# Today\n\n\n1. Post hoc explanatations overview\n",
          "text/plain": "<IPython.core.display.Markdown object>"
         },
         "metadata": {},
         "output_type": "display_data"
        }
       ]
      }
     },
     "43620ae23f0c4e0f9c607f0e3369f82d": {
      "model_module": "@jupyter-widgets/controls",
      "model_module_version": "1.5.0",
      "model_name": "ToggleButtonModel",
      "state": {
       "button_style": "info",
       "icon": "check",
       "layout": "IPY_MODEL_56b587eb25fe460a97e052b342679dc0",
       "style": "IPY_MODEL_825d62f9cee8406e9f0ef82fbe338f2f",
       "tooltip": "Hint"
      }
     },
     "43830a8585904ec6822cee26b862b912": {
      "model_module": "@jupyter-widgets/controls",
      "model_module_version": "1.5.0",
      "model_name": "ToggleButtonModel",
      "state": {
       "button_style": "info",
       "icon": "check",
       "layout": "IPY_MODEL_822a130d46154bd39fd6a496bb03f211",
       "style": "IPY_MODEL_68a503d6433b4cf6ae9db9fcbeac3173",
       "tooltip": "Hint"
      }
     },
     "4571dc42302845b0840421de1f4b4db0": {
      "model_module": "@jupyter-widgets/base",
      "model_module_version": "1.2.0",
      "model_name": "LayoutModel",
      "state": {
       "grid_area": "widget005",
       "height": "auto",
       "width": "auto"
      }
     },
     "45a8e5b002d34a69924ebf46d2a24688": {
      "model_module": "@jupyter-widgets/output",
      "model_module_version": "1.0.0",
      "model_name": "OutputModel",
      "state": {
       "layout": "IPY_MODEL_a4e8f0a49a8a47c693d1dc1a7ecebfa2",
       "outputs": [
        {
         "data": {
          "text/markdown": "\n1. trolley problems of explanation",
          "text/plain": "<IPython.core.display.Markdown object>"
         },
         "metadata": {},
         "output_type": "display_data"
        }
       ]
      }
     },
     "46319a4d542b4566b819dd56131f1c7c": {
      "model_module": "@jupyter-widgets/base",
      "model_module_version": "1.2.0",
      "model_name": "LayoutModel",
      "state": {
       "grid_area": "widget004"
      }
     },
     "4643f3bfdb7848228d63dddb2b48aa9e": {
      "model_module": "@jupyter-widgets/output",
      "model_module_version": "1.0.0",
      "model_name": "OutputModel",
      "state": {
       "layout": "IPY_MODEL_224945c7b2434a4393e011115e687124",
       "outputs": [
        {
         "ename": "TypeError",
         "evalue": "'int' object is not iterable",
         "output_type": "error",
         "traceback": [
          "\u001b[0;31m---------------------------------------------------------------------------\u001b[0m",
          "\u001b[0;31mTypeError\u001b[0m                                 Traceback (most recent call last)",
          "\u001b[0;32m<ipython-input-66-acb4714c5add>\u001b[0m in \u001b[0;36m<module>\u001b[0;34m()\u001b[0m\n\u001b[1;32m      8\u001b[0m \u001b[0mslide_display\u001b[0m \u001b[0;34m=\u001b[0m \u001b[0mOutput\u001b[0m\u001b[0;34m(\u001b[0m\u001b[0;34m)\u001b[0m\u001b[0;34m\u001b[0m\u001b[0m\n\u001b[1;32m      9\u001b[0m \u001b[0;32mwith\u001b[0m \u001b[0mslide_display\u001b[0m\u001b[0;34m:\u001b[0m\u001b[0;34m\u001b[0m\u001b[0m\n\u001b[0;32m---> 10\u001b[0;31m     \u001b[0mdisplay\u001b[0m\u001b[0;34m(\u001b[0m\u001b[0mMarkdown\u001b[0m\u001b[0;34m(\u001b[0m\u001b[0;34m''\u001b[0m\u001b[0;34m.\u001b[0m\u001b[0mjoin\u001b[0m\u001b[0;34m(\u001b[0m\u001b[0;34m[\u001b[0m\u001b[0mcur_slide\u001b[0m\u001b[0;34m[\u001b[0m\u001b[0ml\u001b[0m\u001b[0;34m]\u001b[0m \u001b[0;32mfor\u001b[0m \u001b[0ml\u001b[0m \u001b[0;32min\u001b[0m \u001b[0malways_show\u001b[0m\u001b[0;34m]\u001b[0m\u001b[0;34m)\u001b[0m\u001b[0;34m)\u001b[0m\u001b[0;34m)\u001b[0m\u001b[0;34m\u001b[0m\u001b[0m\n\u001b[0m\u001b[1;32m     11\u001b[0m \u001b[0;34m\u001b[0m\u001b[0m\n\u001b[1;32m     12\u001b[0m \u001b[0mgrid\u001b[0m\u001b[0;34m[\u001b[0m\u001b[0;34m:\u001b[0m\u001b[0;34m,\u001b[0m\u001b[0;36m1\u001b[0m\u001b[0;34m:\u001b[0m\u001b[0;34m]\u001b[0m \u001b[0;34m=\u001b[0m \u001b[0mslide_display\u001b[0m\u001b[0;34m\u001b[0m\u001b[0m\n",
          "\u001b[0;31mTypeError\u001b[0m: 'int' object is not iterable"
         ]
        },
        {
         "ename": "TypeError",
         "evalue": "list indices must be integers or slices, not list",
         "output_type": "error",
         "traceback": [
          "\u001b[0;31m---------------------------------------------------------------------------\u001b[0m",
          "\u001b[0;31mTypeError\u001b[0m                                 Traceback (most recent call last)",
          "\u001b[0;32m<ipython-input-66-acb4714c5add>\u001b[0m in \u001b[0;36mreveal\u001b[0;34m(b)\u001b[0m\n\u001b[1;32m     16\u001b[0m     \u001b[0mcur_lines\u001b[0m\u001b[0;34m.\u001b[0m\u001b[0mappend\u001b[0m\u001b[0;34m(\u001b[0m\u001b[0;34m[\u001b[0m\u001b[0mi\u001b[0m\u001b[0;34m+\u001b[0m\u001b[0mfixed_len\u001b[0m \u001b[0;32mfor\u001b[0m \u001b[0mi\u001b[0m\u001b[0;34m,\u001b[0m\u001b[0mbt\u001b[0m \u001b[0;32min\u001b[0m \u001b[0menumerate\u001b[0m\u001b[0;34m(\u001b[0m\u001b[0mbutton\u001b[0m\u001b[0;34m)\u001b[0m \u001b[0;32mif\u001b[0m \u001b[0mbt\u001b[0m\u001b[0;34m]\u001b[0m\u001b[0;34m)\u001b[0m\u001b[0;34m\u001b[0m\u001b[0m\n\u001b[1;32m     17\u001b[0m     \u001b[0;32mwith\u001b[0m \u001b[0mslide_display\u001b[0m\u001b[0;34m:\u001b[0m\u001b[0;34m\u001b[0m\u001b[0m\n\u001b[0;32m---> 18\u001b[0;31m         \u001b[0mdisplay\u001b[0m\u001b[0;34m(\u001b[0m\u001b[0mMarkdown\u001b[0m\u001b[0;34m(\u001b[0m\u001b[0;34m''\u001b[0m\u001b[0;34m.\u001b[0m\u001b[0mjoin\u001b[0m\u001b[0;34m(\u001b[0m\u001b[0;34m[\u001b[0m\u001b[0mcur_slide\u001b[0m\u001b[0;34m[\u001b[0m\u001b[0ml\u001b[0m\u001b[0;34m]\u001b[0m \u001b[0;32mfor\u001b[0m \u001b[0ml\u001b[0m \u001b[0;32min\u001b[0m \u001b[0mcur_lines\u001b[0m\u001b[0;34m]\u001b[0m\u001b[0;34m)\u001b[0m\u001b[0;34m)\u001b[0m\u001b[0;34m)\u001b[0m\u001b[0;34m\u001b[0m\u001b[0m\n\u001b[0m\u001b[1;32m     19\u001b[0m \u001b[0;34m\u001b[0m\u001b[0m\n\u001b[1;32m     20\u001b[0m \u001b[0;34m\u001b[0m\u001b[0m\n",
          "\u001b[0;32m<ipython-input-66-acb4714c5add>\u001b[0m in \u001b[0;36m<listcomp>\u001b[0;34m(.0)\u001b[0m\n\u001b[1;32m     16\u001b[0m     \u001b[0mcur_lines\u001b[0m\u001b[0;34m.\u001b[0m\u001b[0mappend\u001b[0m\u001b[0;34m(\u001b[0m\u001b[0;34m[\u001b[0m\u001b[0mi\u001b[0m\u001b[0;34m+\u001b[0m\u001b[0mfixed_len\u001b[0m \u001b[0;32mfor\u001b[0m \u001b[0mi\u001b[0m\u001b[0;34m,\u001b[0m\u001b[0mbt\u001b[0m \u001b[0;32min\u001b[0m \u001b[0menumerate\u001b[0m\u001b[0;34m(\u001b[0m\u001b[0mbutton\u001b[0m\u001b[0;34m)\u001b[0m \u001b[0;32mif\u001b[0m \u001b[0mbt\u001b[0m\u001b[0;34m]\u001b[0m\u001b[0;34m)\u001b[0m\u001b[0;34m\u001b[0m\u001b[0m\n\u001b[1;32m     17\u001b[0m     \u001b[0;32mwith\u001b[0m \u001b[0mslide_display\u001b[0m\u001b[0;34m:\u001b[0m\u001b[0;34m\u001b[0m\u001b[0m\n\u001b[0;32m---> 18\u001b[0;31m         \u001b[0mdisplay\u001b[0m\u001b[0;34m(\u001b[0m\u001b[0mMarkdown\u001b[0m\u001b[0;34m(\u001b[0m\u001b[0;34m''\u001b[0m\u001b[0;34m.\u001b[0m\u001b[0mjoin\u001b[0m\u001b[0;34m(\u001b[0m\u001b[0;34m[\u001b[0m\u001b[0mcur_slide\u001b[0m\u001b[0;34m[\u001b[0m\u001b[0ml\u001b[0m\u001b[0;34m]\u001b[0m \u001b[0;32mfor\u001b[0m \u001b[0ml\u001b[0m \u001b[0;32min\u001b[0m \u001b[0mcur_lines\u001b[0m\u001b[0;34m]\u001b[0m\u001b[0;34m)\u001b[0m\u001b[0;34m)\u001b[0m\u001b[0;34m)\u001b[0m\u001b[0;34m\u001b[0m\u001b[0m\n\u001b[0m\u001b[1;32m     19\u001b[0m \u001b[0;34m\u001b[0m\u001b[0m\n\u001b[1;32m     20\u001b[0m \u001b[0;34m\u001b[0m\u001b[0m\n",
          "\u001b[0;31mTypeError\u001b[0m: list indices must be integers or slices, not list"
         ]
        },
        {
         "ename": "TypeError",
         "evalue": "list indices must be integers or slices, not list",
         "output_type": "error",
         "traceback": [
          "\u001b[0;31m---------------------------------------------------------------------------\u001b[0m",
          "\u001b[0;31mTypeError\u001b[0m                                 Traceback (most recent call last)",
          "\u001b[0;32m<ipython-input-66-acb4714c5add>\u001b[0m in \u001b[0;36mreveal\u001b[0;34m(b)\u001b[0m\n\u001b[1;32m     16\u001b[0m     \u001b[0mcur_lines\u001b[0m\u001b[0;34m.\u001b[0m\u001b[0mappend\u001b[0m\u001b[0;34m(\u001b[0m\u001b[0;34m[\u001b[0m\u001b[0mi\u001b[0m\u001b[0;34m+\u001b[0m\u001b[0mfixed_len\u001b[0m \u001b[0;32mfor\u001b[0m \u001b[0mi\u001b[0m\u001b[0;34m,\u001b[0m\u001b[0mbt\u001b[0m \u001b[0;32min\u001b[0m \u001b[0menumerate\u001b[0m\u001b[0;34m(\u001b[0m\u001b[0mbutton\u001b[0m\u001b[0;34m)\u001b[0m \u001b[0;32mif\u001b[0m \u001b[0mbt\u001b[0m\u001b[0;34m]\u001b[0m\u001b[0;34m)\u001b[0m\u001b[0;34m\u001b[0m\u001b[0m\n\u001b[1;32m     17\u001b[0m     \u001b[0;32mwith\u001b[0m \u001b[0mslide_display\u001b[0m\u001b[0;34m:\u001b[0m\u001b[0;34m\u001b[0m\u001b[0m\n\u001b[0;32m---> 18\u001b[0;31m         \u001b[0mdisplay\u001b[0m\u001b[0;34m(\u001b[0m\u001b[0mMarkdown\u001b[0m\u001b[0;34m(\u001b[0m\u001b[0;34m''\u001b[0m\u001b[0;34m.\u001b[0m\u001b[0mjoin\u001b[0m\u001b[0;34m(\u001b[0m\u001b[0;34m[\u001b[0m\u001b[0mcur_slide\u001b[0m\u001b[0;34m[\u001b[0m\u001b[0ml\u001b[0m\u001b[0;34m]\u001b[0m \u001b[0;32mfor\u001b[0m \u001b[0ml\u001b[0m \u001b[0;32min\u001b[0m \u001b[0mcur_lines\u001b[0m\u001b[0;34m]\u001b[0m\u001b[0;34m)\u001b[0m\u001b[0;34m)\u001b[0m\u001b[0;34m)\u001b[0m\u001b[0;34m\u001b[0m\u001b[0m\n\u001b[0m\u001b[1;32m     19\u001b[0m \u001b[0;34m\u001b[0m\u001b[0m\n\u001b[1;32m     20\u001b[0m \u001b[0;34m\u001b[0m\u001b[0m\n",
          "\u001b[0;32m<ipython-input-66-acb4714c5add>\u001b[0m in \u001b[0;36m<listcomp>\u001b[0;34m(.0)\u001b[0m\n\u001b[1;32m     16\u001b[0m     \u001b[0mcur_lines\u001b[0m\u001b[0;34m.\u001b[0m\u001b[0mappend\u001b[0m\u001b[0;34m(\u001b[0m\u001b[0;34m[\u001b[0m\u001b[0mi\u001b[0m\u001b[0;34m+\u001b[0m\u001b[0mfixed_len\u001b[0m \u001b[0;32mfor\u001b[0m \u001b[0mi\u001b[0m\u001b[0;34m,\u001b[0m\u001b[0mbt\u001b[0m \u001b[0;32min\u001b[0m \u001b[0menumerate\u001b[0m\u001b[0;34m(\u001b[0m\u001b[0mbutton\u001b[0m\u001b[0;34m)\u001b[0m \u001b[0;32mif\u001b[0m \u001b[0mbt\u001b[0m\u001b[0;34m]\u001b[0m\u001b[0;34m)\u001b[0m\u001b[0;34m\u001b[0m\u001b[0m\n\u001b[1;32m     17\u001b[0m     \u001b[0;32mwith\u001b[0m \u001b[0mslide_display\u001b[0m\u001b[0;34m:\u001b[0m\u001b[0;34m\u001b[0m\u001b[0m\n\u001b[0;32m---> 18\u001b[0;31m         \u001b[0mdisplay\u001b[0m\u001b[0;34m(\u001b[0m\u001b[0mMarkdown\u001b[0m\u001b[0;34m(\u001b[0m\u001b[0;34m''\u001b[0m\u001b[0;34m.\u001b[0m\u001b[0mjoin\u001b[0m\u001b[0;34m(\u001b[0m\u001b[0;34m[\u001b[0m\u001b[0mcur_slide\u001b[0m\u001b[0;34m[\u001b[0m\u001b[0ml\u001b[0m\u001b[0;34m]\u001b[0m \u001b[0;32mfor\u001b[0m \u001b[0ml\u001b[0m \u001b[0;32min\u001b[0m \u001b[0mcur_lines\u001b[0m\u001b[0;34m]\u001b[0m\u001b[0;34m)\u001b[0m\u001b[0;34m)\u001b[0m\u001b[0;34m)\u001b[0m\u001b[0;34m\u001b[0m\u001b[0m\n\u001b[0m\u001b[1;32m     19\u001b[0m \u001b[0;34m\u001b[0m\u001b[0m\n\u001b[1;32m     20\u001b[0m \u001b[0;34m\u001b[0m\u001b[0m\n",
          "\u001b[0;31mTypeError\u001b[0m: list indices must be integers or slices, not list"
         ]
        },
        {
         "ename": "TypeError",
         "evalue": "list indices must be integers or slices, not list",
         "output_type": "error",
         "traceback": [
          "\u001b[0;31m---------------------------------------------------------------------------\u001b[0m",
          "\u001b[0;31mTypeError\u001b[0m                                 Traceback (most recent call last)",
          "\u001b[0;32m<ipython-input-66-acb4714c5add>\u001b[0m in \u001b[0;36mreveal\u001b[0;34m(b)\u001b[0m\n\u001b[1;32m     16\u001b[0m     \u001b[0mcur_lines\u001b[0m\u001b[0;34m.\u001b[0m\u001b[0mappend\u001b[0m\u001b[0;34m(\u001b[0m\u001b[0;34m[\u001b[0m\u001b[0mi\u001b[0m\u001b[0;34m+\u001b[0m\u001b[0mfixed_len\u001b[0m \u001b[0;32mfor\u001b[0m \u001b[0mi\u001b[0m\u001b[0;34m,\u001b[0m\u001b[0mbt\u001b[0m \u001b[0;32min\u001b[0m \u001b[0menumerate\u001b[0m\u001b[0;34m(\u001b[0m\u001b[0mbutton\u001b[0m\u001b[0;34m)\u001b[0m \u001b[0;32mif\u001b[0m \u001b[0mbt\u001b[0m\u001b[0;34m]\u001b[0m\u001b[0;34m)\u001b[0m\u001b[0;34m\u001b[0m\u001b[0m\n\u001b[1;32m     17\u001b[0m     \u001b[0;32mwith\u001b[0m \u001b[0mslide_display\u001b[0m\u001b[0;34m:\u001b[0m\u001b[0;34m\u001b[0m\u001b[0m\n\u001b[0;32m---> 18\u001b[0;31m         \u001b[0mdisplay\u001b[0m\u001b[0;34m(\u001b[0m\u001b[0mMarkdown\u001b[0m\u001b[0;34m(\u001b[0m\u001b[0;34m''\u001b[0m\u001b[0;34m.\u001b[0m\u001b[0mjoin\u001b[0m\u001b[0;34m(\u001b[0m\u001b[0;34m[\u001b[0m\u001b[0mcur_slide\u001b[0m\u001b[0;34m[\u001b[0m\u001b[0ml\u001b[0m\u001b[0;34m]\u001b[0m \u001b[0;32mfor\u001b[0m \u001b[0ml\u001b[0m \u001b[0;32min\u001b[0m \u001b[0mcur_lines\u001b[0m\u001b[0;34m]\u001b[0m\u001b[0;34m)\u001b[0m\u001b[0;34m)\u001b[0m\u001b[0;34m)\u001b[0m\u001b[0;34m\u001b[0m\u001b[0m\n\u001b[0m\u001b[1;32m     19\u001b[0m \u001b[0;34m\u001b[0m\u001b[0m\n\u001b[1;32m     20\u001b[0m \u001b[0;34m\u001b[0m\u001b[0m\n",
          "\u001b[0;32m<ipython-input-66-acb4714c5add>\u001b[0m in \u001b[0;36m<listcomp>\u001b[0;34m(.0)\u001b[0m\n\u001b[1;32m     16\u001b[0m     \u001b[0mcur_lines\u001b[0m\u001b[0;34m.\u001b[0m\u001b[0mappend\u001b[0m\u001b[0;34m(\u001b[0m\u001b[0;34m[\u001b[0m\u001b[0mi\u001b[0m\u001b[0;34m+\u001b[0m\u001b[0mfixed_len\u001b[0m \u001b[0;32mfor\u001b[0m \u001b[0mi\u001b[0m\u001b[0;34m,\u001b[0m\u001b[0mbt\u001b[0m \u001b[0;32min\u001b[0m \u001b[0menumerate\u001b[0m\u001b[0;34m(\u001b[0m\u001b[0mbutton\u001b[0m\u001b[0;34m)\u001b[0m \u001b[0;32mif\u001b[0m \u001b[0mbt\u001b[0m\u001b[0;34m]\u001b[0m\u001b[0;34m)\u001b[0m\u001b[0;34m\u001b[0m\u001b[0m\n\u001b[1;32m     17\u001b[0m     \u001b[0;32mwith\u001b[0m \u001b[0mslide_display\u001b[0m\u001b[0;34m:\u001b[0m\u001b[0;34m\u001b[0m\u001b[0m\n\u001b[0;32m---> 18\u001b[0;31m         \u001b[0mdisplay\u001b[0m\u001b[0;34m(\u001b[0m\u001b[0mMarkdown\u001b[0m\u001b[0;34m(\u001b[0m\u001b[0;34m''\u001b[0m\u001b[0;34m.\u001b[0m\u001b[0mjoin\u001b[0m\u001b[0;34m(\u001b[0m\u001b[0;34m[\u001b[0m\u001b[0mcur_slide\u001b[0m\u001b[0;34m[\u001b[0m\u001b[0ml\u001b[0m\u001b[0;34m]\u001b[0m \u001b[0;32mfor\u001b[0m \u001b[0ml\u001b[0m \u001b[0;32min\u001b[0m \u001b[0mcur_lines\u001b[0m\u001b[0;34m]\u001b[0m\u001b[0;34m)\u001b[0m\u001b[0;34m)\u001b[0m\u001b[0;34m)\u001b[0m\u001b[0;34m\u001b[0m\u001b[0m\n\u001b[0m\u001b[1;32m     19\u001b[0m \u001b[0;34m\u001b[0m\u001b[0m\n\u001b[1;32m     20\u001b[0m \u001b[0;34m\u001b[0m\u001b[0m\n",
          "\u001b[0;31mTypeError\u001b[0m: list indices must be integers or slices, not list"
         ]
        }
       ]
      }
     },
     "466227091f1949bfafa0d135b55eb199": {
      "model_module": "@jupyter-widgets/controls",
      "model_module_version": "1.5.0",
      "model_name": "DescriptionStyleModel",
      "state": {
       "description_width": ""
      }
     },
     "467b68bb48c74135a1a8e9d480f783b2": {
      "model_module": "@jupyter-widgets/base",
      "model_module_version": "1.2.0",
      "model_name": "LayoutModel",
      "state": {
       "grid_template_areas": "\"widget001 widget002 widget002 widget002 widget002 widget002 widget002 widget002 widget002 widget002 widget002 widget002 widget002 widget002 widget002\"\n\"widget003 widget004 widget004 widget004 widget004 widget004 widget004 widget004 widget004 widget004 widget004 widget004 widget004 widget004 widget004\"\n\"widget005 widget006 widget006 widget006 widget006 widget006 widget006 widget006 widget006 widget006 widget006 widget006 widget006 widget006 widget006\"\n\"widget007 widget008 widget008 widget008 widget008 widget008 widget008 widget008 widget008 widget008 widget008 widget008 widget008 widget008 widget008\"",
       "grid_template_columns": "repeat(15, 1fr)",
       "grid_template_rows": "repeat(4, 1fr)"
      }
     },
     "47032ed8f6244976aa4e1f9c06a82efd": {
      "model_module": "@jupyter-widgets/base",
      "model_module_version": "1.2.0",
      "model_name": "LayoutModel",
      "state": {
       "grid_area": "widget004"
      }
     },
     "4722170118054fe6828da69f4b93e2d3": {
      "model_module": "@jupyter-widgets/output",
      "model_module_version": "1.0.0",
      "model_name": "OutputModel",
      "state": {
       "layout": "IPY_MODEL_2295fe063f234c45b963ba4d5d2404ca",
       "outputs": [
        {
         "data": {
          "text/markdown": "# Today\n\n\n1. Post hoc explanatations overview\n\n1. Deep dive: TCAV for tensorflow\n\n1. Do the tools we have for explanation meet our goals?\n\n1. trolley problems of explanation",
          "text/plain": "<IPython.core.display.Markdown object>"
         },
         "metadata": {},
         "output_type": "display_data"
        }
       ]
      }
     },
     "47b5e7aeae0044668c94f21348f38fbd": {
      "model_module": "@jupyter-widgets/output",
      "model_module_version": "1.0.0",
      "model_name": "OutputModel",
      "state": {
       "layout": "IPY_MODEL_eaf94bb4420c445d8b00d17021c71db2",
       "outputs": [
        {
         "ename": "TypeError",
         "evalue": "'int' object is not iterable",
         "output_type": "error",
         "traceback": [
          "\u001b[0;31m---------------------------------------------------------------------------\u001b[0m",
          "\u001b[0;31mTypeError\u001b[0m                                 Traceback (most recent call last)",
          "\u001b[0;32m<ipython-input-65-ce21d508926f>\u001b[0m in \u001b[0;36m<module>\u001b[0;34m()\u001b[0m\n\u001b[1;32m      8\u001b[0m \u001b[0mslide_display\u001b[0m \u001b[0;34m=\u001b[0m \u001b[0mOutput\u001b[0m\u001b[0;34m(\u001b[0m\u001b[0;34m)\u001b[0m\u001b[0;34m\u001b[0m\u001b[0m\n\u001b[1;32m      9\u001b[0m \u001b[0;32mwith\u001b[0m \u001b[0mslide_display\u001b[0m\u001b[0;34m:\u001b[0m\u001b[0;34m\u001b[0m\u001b[0m\n\u001b[0;32m---> 10\u001b[0;31m     \u001b[0mdisplay\u001b[0m\u001b[0;34m(\u001b[0m\u001b[0mMarkdown\u001b[0m\u001b[0;34m(\u001b[0m\u001b[0;34m''\u001b[0m\u001b[0;34m.\u001b[0m\u001b[0mjoin\u001b[0m\u001b[0;34m(\u001b[0m\u001b[0;34m[\u001b[0m\u001b[0mcur_slide\u001b[0m\u001b[0;34m[\u001b[0m\u001b[0ml\u001b[0m\u001b[0;34m]\u001b[0m \u001b[0;32mfor\u001b[0m \u001b[0ml\u001b[0m \u001b[0;32min\u001b[0m \u001b[0malways_show\u001b[0m\u001b[0;34m]\u001b[0m\u001b[0;34m)\u001b[0m\u001b[0;34m)\u001b[0m\u001b[0;34m)\u001b[0m\u001b[0;34m\u001b[0m\u001b[0m\n\u001b[0m\u001b[1;32m     11\u001b[0m \u001b[0;34m\u001b[0m\u001b[0m\n\u001b[1;32m     12\u001b[0m \u001b[0;34m\u001b[0m\u001b[0m\n",
          "\u001b[0;31mTypeError\u001b[0m: 'int' object is not iterable"
         ]
        }
       ]
      }
     },
     "4952a6636b1246b8a712b9c61ba090c5": {
      "model_module": "@jupyter-widgets/base",
      "model_module_version": "1.2.0",
      "model_name": "LayoutModel",
      "state": {
       "grid_template_areas": "\"widget002 widget001 widget001 widget001 widget001 widget001 widget001 widget001 widget001 widget001 widget001 widget001 widget001 widget001 widget001\"\n\"widget003 widget001 widget001 widget001 widget001 widget001 widget001 widget001 widget001 widget001 widget001 widget001 widget001 widget001 widget001\"\n\"widget004 widget001 widget001 widget001 widget001 widget001 widget001 widget001 widget001 widget001 widget001 widget001 widget001 widget001 widget001\"\n\"widget005 widget001 widget001 widget001 widget001 widget001 widget001 widget001 widget001 widget001 widget001 widget001 widget001 widget001 widget001\"\n\". widget001 widget001 widget001 widget001 widget001 widget001 widget001 widget001 widget001 widget001 widget001 widget001 widget001 widget001\"",
       "grid_template_columns": "repeat(15, 1fr)",
       "grid_template_rows": "repeat(5, 1fr)"
      }
     },
     "49ee0dba2d5c48b18c2641ffeb1241ae": {
      "model_module": "@jupyter-widgets/controls",
      "model_module_version": "1.5.0",
      "model_name": "DescriptionStyleModel",
      "state": {
       "description_width": ""
      }
     },
     "4a69bdf53add43ee9d122c11aefd81a3": {
      "model_module": "@jupyter-widgets/controls",
      "model_module_version": "1.5.0",
      "model_name": "GridBoxModel",
      "state": {
       "children": [
        "IPY_MODEL_4643f3bfdb7848228d63dddb2b48aa9e",
        "IPY_MODEL_291f6cb9847a46ad96d1ac5906459ec1",
        "IPY_MODEL_5b97bf97c2064f9e983b3f65276d0a4b",
        "IPY_MODEL_cdc504e36fef498e8138ec11e09c1191",
        "IPY_MODEL_b560680123ef45c9bf950011da47bd2f"
       ],
       "layout": "IPY_MODEL_67af1501cb60489a8efc253d1e9fefb5"
      }
     },
     "4a6f099e02e64430b9f59e113e0cb4b8": {
      "model_module": "@jupyter-widgets/base",
      "model_module_version": "1.2.0",
      "model_name": "LayoutModel",
      "state": {
       "grid_area": "widget008"
      }
     },
     "4acb232062f442a09133fd6a6e134932": {
      "model_module": "@jupyter-widgets/controls",
      "model_module_version": "1.5.0",
      "model_name": "ButtonStyleModel",
      "state": {}
     },
     "4ba958d377be4112bbafd09b420e78fd": {
      "model_module": "@jupyter-widgets/base",
      "model_module_version": "1.2.0",
      "model_name": "LayoutModel",
      "state": {
       "grid_area": "widget001"
      }
     },
     "4c09dde775c143f8a93cbf9a9dd49bb8": {
      "model_module": "@jupyter-widgets/controls",
      "model_module_version": "1.5.0",
      "model_name": "DescriptionStyleModel",
      "state": {
       "description_width": ""
      }
     },
     "4c11aa5afe6b4986883c4988fc635a7a": {
      "model_module": "@jupyter-widgets/base",
      "model_module_version": "1.2.0",
      "model_name": "LayoutModel",
      "state": {
       "grid_area": "widget006"
      }
     },
     "4dfeee72c5484766bee8455e967e731a": {
      "model_module": "@jupyter-widgets/output",
      "model_module_version": "1.0.0",
      "model_name": "OutputModel",
      "state": {
       "layout": "IPY_MODEL_105f890d71f94589b61977503a9ff96a",
       "outputs": [
        {
         "data": {
          "text/markdown": "# Today\n\n\n1. Post hoc explanatations overview\n",
          "text/plain": "<IPython.core.display.Markdown object>"
         },
         "metadata": {},
         "output_type": "display_data"
        }
       ]
      }
     },
     "4ebf4b5d58ff4bb09f3a4d74608d046c": {
      "model_module": "@jupyter-widgets/base",
      "model_module_version": "1.2.0",
      "model_name": "LayoutModel",
      "state": {
       "grid_area": "widget008"
      }
     },
     "4f939c45628e4b33aff6577a3262dff5": {
      "model_module": "@jupyter-widgets/controls",
      "model_module_version": "1.5.0",
      "model_name": "ToggleButtonModel",
      "state": {
       "button_style": "info",
       "icon": "check",
       "layout": "IPY_MODEL_84f75594f3534f87b7478f1c4484448d",
       "style": "IPY_MODEL_8e22b733bbe04899a2ca6fa95a931844",
       "tooltip": "Hint"
      }
     },
     "4ffc3d8715b143e1a6eb8c9a829541a6": {
      "model_module": "@jupyter-widgets/controls",
      "model_module_version": "1.5.0",
      "model_name": "GridBoxModel",
      "state": {
       "children": [
        "IPY_MODEL_6b89009046fb45179cc7ea23dc3f5bf7",
        "IPY_MODEL_b5384b66da7d4ecaa6d34f459d42e533",
        "IPY_MODEL_7a0044422a914d0f9fe936a85571bba4",
        "IPY_MODEL_d03dd3ace2aa4122988dbe112a027f70",
        "IPY_MODEL_8bc1c57337e448cea00b016850aabf01"
       ],
       "layout": "IPY_MODEL_fea894327e14452eba9a65017d6d8ae8"
      }
     },
     "5006d83936ee49f4891a90a3f6fca028": {
      "model_module": "@jupyter-widgets/controls",
      "model_module_version": "1.5.0",
      "model_name": "GridBoxModel",
      "state": {
       "children": [
        "IPY_MODEL_ab0e27c7cb2647578c6eab473bbee362",
        "IPY_MODEL_e06bcff1333a4de69842b664c3a49755"
       ],
       "layout": "IPY_MODEL_d1e5ee64c41a42538bc025445f53a091"
      }
     },
     "513d0f8eb09a484b95ba6d9404d4e90d": {
      "model_module": "@jupyter-widgets/controls",
      "model_module_version": "1.5.0",
      "model_name": "DescriptionStyleModel",
      "state": {
       "description_width": ""
      }
     },
     "52436141c053439fa1961e3251d7899d": {
      "model_module": "@jupyter-widgets/controls",
      "model_module_version": "1.5.0",
      "model_name": "DescriptionStyleModel",
      "state": {
       "description_width": ""
      }
     },
     "538431b3f8cc4556ba0865f6d5534343": {
      "model_module": "@jupyter-widgets/base",
      "model_module_version": "1.2.0",
      "model_name": "LayoutModel",
      "state": {
       "grid_template_areas": "\"widget002 widget001 widget001 widget001 widget001 widget001 widget001 widget001 widget001 widget001 widget001 widget001 widget001 widget001 widget001\"\n\". widget001 widget001 widget001 widget001 widget001 widget001 widget001 widget001 widget001 widget001 widget001 widget001 widget001 widget001\"\n\". widget001 widget001 widget001 widget001 widget001 widget001 widget001 widget001 widget001 widget001 widget001 widget001 widget001 widget001\"\n\". widget001 widget001 widget001 widget001 widget001 widget001 widget001 widget001 widget001 widget001 widget001 widget001 widget001 widget001\"\n\". widget001 widget001 widget001 widget001 widget001 widget001 widget001 widget001 widget001 widget001 widget001 widget001 widget001 widget001\"",
       "grid_template_columns": "repeat(15, 1fr)",
       "grid_template_rows": "repeat(5, 1fr)"
      }
     },
     "55f8165bbb4e4c4285539ff55fe14734": {
      "model_module": "@jupyter-widgets/base",
      "model_module_version": "1.2.0",
      "model_name": "LayoutModel",
      "state": {
       "grid_area": "widget005"
      }
     },
     "5628902123cb435fac49f0abf332c3e1": {
      "model_module": "@jupyter-widgets/controls",
      "model_module_version": "1.5.0",
      "model_name": "DescriptionStyleModel",
      "state": {
       "description_width": ""
      }
     },
     "5657d07b818d45baad2a1df313c8d39b": {
      "model_module": "@jupyter-widgets/controls",
      "model_module_version": "1.5.0",
      "model_name": "ToggleButtonModel",
      "state": {
       "button_style": "info",
       "icon": "check",
       "layout": "IPY_MODEL_ff66e31117c340ed8db7e44f4639d778",
       "style": "IPY_MODEL_704321abf79a42ec9c37c21b6214748c",
       "tooltip": "Hint"
      }
     },
     "5665607343644ccdb13b40476ea4bc10": {
      "model_module": "@jupyter-widgets/output",
      "model_module_version": "1.0.0",
      "model_name": "OutputModel",
      "state": {
       "layout": "IPY_MODEL_61bbe74bea534d52b8d8eda8ba910206",
       "outputs": [
        {
         "data": {
          "text/markdown": "# Today\n\n",
          "text/plain": "<IPython.core.display.Markdown object>"
         },
         "metadata": {},
         "output_type": "display_data"
        },
        {
         "ename": "TypeError",
         "evalue": "list indices must be integers or slices, not list",
         "output_type": "error",
         "traceback": [
          "\u001b[0;31m---------------------------------------------------------------------------\u001b[0m",
          "\u001b[0;31mTypeError\u001b[0m                                 Traceback (most recent call last)",
          "\u001b[0;32m<ipython-input-68-8befb516118e>\u001b[0m in \u001b[0;36mreveal\u001b[0;34m(b)\u001b[0m\n\u001b[1;32m     16\u001b[0m     \u001b[0mcur_lines\u001b[0m\u001b[0;34m.\u001b[0m\u001b[0mappend\u001b[0m\u001b[0;34m(\u001b[0m\u001b[0;34m[\u001b[0m\u001b[0mi\u001b[0m\u001b[0;34m+\u001b[0m\u001b[0mfixed_len\u001b[0m \u001b[0;32mfor\u001b[0m \u001b[0mi\u001b[0m\u001b[0;34m,\u001b[0m\u001b[0mbt\u001b[0m \u001b[0;32min\u001b[0m \u001b[0menumerate\u001b[0m\u001b[0;34m(\u001b[0m\u001b[0mbutton\u001b[0m\u001b[0;34m)\u001b[0m \u001b[0;32mif\u001b[0m \u001b[0mbt\u001b[0m\u001b[0;34m.\u001b[0m\u001b[0mvalue\u001b[0m\u001b[0;34m]\u001b[0m\u001b[0;34m)\u001b[0m\u001b[0;34m\u001b[0m\u001b[0m\n\u001b[1;32m     17\u001b[0m     \u001b[0;32mwith\u001b[0m \u001b[0mslide_display\u001b[0m\u001b[0;34m:\u001b[0m\u001b[0;34m\u001b[0m\u001b[0m\n\u001b[0;32m---> 18\u001b[0;31m         \u001b[0mdisplay\u001b[0m\u001b[0;34m(\u001b[0m\u001b[0mMarkdown\u001b[0m\u001b[0;34m(\u001b[0m\u001b[0;34m''\u001b[0m\u001b[0;34m.\u001b[0m\u001b[0mjoin\u001b[0m\u001b[0;34m(\u001b[0m\u001b[0;34m[\u001b[0m\u001b[0mcur_slide\u001b[0m\u001b[0;34m[\u001b[0m\u001b[0ml\u001b[0m\u001b[0;34m]\u001b[0m \u001b[0;32mfor\u001b[0m \u001b[0ml\u001b[0m \u001b[0;32min\u001b[0m \u001b[0mcur_lines\u001b[0m\u001b[0;34m]\u001b[0m\u001b[0;34m)\u001b[0m\u001b[0;34m)\u001b[0m\u001b[0;34m)\u001b[0m\u001b[0;34m\u001b[0m\u001b[0m\n\u001b[0m\u001b[1;32m     19\u001b[0m \u001b[0;34m\u001b[0m\u001b[0m\n\u001b[1;32m     20\u001b[0m \u001b[0;34m\u001b[0m\u001b[0m\n",
          "\u001b[0;32m<ipython-input-68-8befb516118e>\u001b[0m in \u001b[0;36m<listcomp>\u001b[0;34m(.0)\u001b[0m\n\u001b[1;32m     16\u001b[0m     \u001b[0mcur_lines\u001b[0m\u001b[0;34m.\u001b[0m\u001b[0mappend\u001b[0m\u001b[0;34m(\u001b[0m\u001b[0;34m[\u001b[0m\u001b[0mi\u001b[0m\u001b[0;34m+\u001b[0m\u001b[0mfixed_len\u001b[0m \u001b[0;32mfor\u001b[0m \u001b[0mi\u001b[0m\u001b[0;34m,\u001b[0m\u001b[0mbt\u001b[0m \u001b[0;32min\u001b[0m \u001b[0menumerate\u001b[0m\u001b[0;34m(\u001b[0m\u001b[0mbutton\u001b[0m\u001b[0;34m)\u001b[0m \u001b[0;32mif\u001b[0m \u001b[0mbt\u001b[0m\u001b[0;34m.\u001b[0m\u001b[0mvalue\u001b[0m\u001b[0;34m]\u001b[0m\u001b[0;34m)\u001b[0m\u001b[0;34m\u001b[0m\u001b[0m\n\u001b[1;32m     17\u001b[0m     \u001b[0;32mwith\u001b[0m \u001b[0mslide_display\u001b[0m\u001b[0;34m:\u001b[0m\u001b[0;34m\u001b[0m\u001b[0m\n\u001b[0;32m---> 18\u001b[0;31m         \u001b[0mdisplay\u001b[0m\u001b[0;34m(\u001b[0m\u001b[0mMarkdown\u001b[0m\u001b[0;34m(\u001b[0m\u001b[0;34m''\u001b[0m\u001b[0;34m.\u001b[0m\u001b[0mjoin\u001b[0m\u001b[0;34m(\u001b[0m\u001b[0;34m[\u001b[0m\u001b[0mcur_slide\u001b[0m\u001b[0;34m[\u001b[0m\u001b[0ml\u001b[0m\u001b[0;34m]\u001b[0m \u001b[0;32mfor\u001b[0m \u001b[0ml\u001b[0m \u001b[0;32min\u001b[0m \u001b[0mcur_lines\u001b[0m\u001b[0;34m]\u001b[0m\u001b[0;34m)\u001b[0m\u001b[0;34m)\u001b[0m\u001b[0;34m)\u001b[0m\u001b[0;34m\u001b[0m\u001b[0m\n\u001b[0m\u001b[1;32m     19\u001b[0m \u001b[0;34m\u001b[0m\u001b[0m\n\u001b[1;32m     20\u001b[0m \u001b[0;34m\u001b[0m\u001b[0m\n",
          "\u001b[0;31mTypeError\u001b[0m: list indices must be integers or slices, not list"
         ]
        },
        {
         "ename": "TypeError",
         "evalue": "list indices must be integers or slices, not list",
         "output_type": "error",
         "traceback": [
          "\u001b[0;31m---------------------------------------------------------------------------\u001b[0m",
          "\u001b[0;31mTypeError\u001b[0m                                 Traceback (most recent call last)",
          "\u001b[0;32m<ipython-input-68-8befb516118e>\u001b[0m in \u001b[0;36mreveal\u001b[0;34m(b)\u001b[0m\n\u001b[1;32m     16\u001b[0m     \u001b[0mcur_lines\u001b[0m\u001b[0;34m.\u001b[0m\u001b[0mappend\u001b[0m\u001b[0;34m(\u001b[0m\u001b[0;34m[\u001b[0m\u001b[0mi\u001b[0m\u001b[0;34m+\u001b[0m\u001b[0mfixed_len\u001b[0m \u001b[0;32mfor\u001b[0m \u001b[0mi\u001b[0m\u001b[0;34m,\u001b[0m\u001b[0mbt\u001b[0m \u001b[0;32min\u001b[0m \u001b[0menumerate\u001b[0m\u001b[0;34m(\u001b[0m\u001b[0mbutton\u001b[0m\u001b[0;34m)\u001b[0m \u001b[0;32mif\u001b[0m \u001b[0mbt\u001b[0m\u001b[0;34m.\u001b[0m\u001b[0mvalue\u001b[0m\u001b[0;34m]\u001b[0m\u001b[0;34m)\u001b[0m\u001b[0;34m\u001b[0m\u001b[0m\n\u001b[1;32m     17\u001b[0m     \u001b[0;32mwith\u001b[0m \u001b[0mslide_display\u001b[0m\u001b[0;34m:\u001b[0m\u001b[0;34m\u001b[0m\u001b[0m\n\u001b[0;32m---> 18\u001b[0;31m         \u001b[0mdisplay\u001b[0m\u001b[0;34m(\u001b[0m\u001b[0mMarkdown\u001b[0m\u001b[0;34m(\u001b[0m\u001b[0;34m''\u001b[0m\u001b[0;34m.\u001b[0m\u001b[0mjoin\u001b[0m\u001b[0;34m(\u001b[0m\u001b[0;34m[\u001b[0m\u001b[0mcur_slide\u001b[0m\u001b[0;34m[\u001b[0m\u001b[0ml\u001b[0m\u001b[0;34m]\u001b[0m \u001b[0;32mfor\u001b[0m \u001b[0ml\u001b[0m \u001b[0;32min\u001b[0m \u001b[0mcur_lines\u001b[0m\u001b[0;34m]\u001b[0m\u001b[0;34m)\u001b[0m\u001b[0;34m)\u001b[0m\u001b[0;34m)\u001b[0m\u001b[0;34m\u001b[0m\u001b[0m\n\u001b[0m\u001b[1;32m     19\u001b[0m \u001b[0;34m\u001b[0m\u001b[0m\n\u001b[1;32m     20\u001b[0m \u001b[0;34m\u001b[0m\u001b[0m\n",
          "\u001b[0;32m<ipython-input-68-8befb516118e>\u001b[0m in \u001b[0;36m<listcomp>\u001b[0;34m(.0)\u001b[0m\n\u001b[1;32m     16\u001b[0m     \u001b[0mcur_lines\u001b[0m\u001b[0;34m.\u001b[0m\u001b[0mappend\u001b[0m\u001b[0;34m(\u001b[0m\u001b[0;34m[\u001b[0m\u001b[0mi\u001b[0m\u001b[0;34m+\u001b[0m\u001b[0mfixed_len\u001b[0m \u001b[0;32mfor\u001b[0m \u001b[0mi\u001b[0m\u001b[0;34m,\u001b[0m\u001b[0mbt\u001b[0m \u001b[0;32min\u001b[0m \u001b[0menumerate\u001b[0m\u001b[0;34m(\u001b[0m\u001b[0mbutton\u001b[0m\u001b[0;34m)\u001b[0m \u001b[0;32mif\u001b[0m \u001b[0mbt\u001b[0m\u001b[0;34m.\u001b[0m\u001b[0mvalue\u001b[0m\u001b[0;34m]\u001b[0m\u001b[0;34m)\u001b[0m\u001b[0;34m\u001b[0m\u001b[0m\n\u001b[1;32m     17\u001b[0m     \u001b[0;32mwith\u001b[0m \u001b[0mslide_display\u001b[0m\u001b[0;34m:\u001b[0m\u001b[0;34m\u001b[0m\u001b[0m\n\u001b[0;32m---> 18\u001b[0;31m         \u001b[0mdisplay\u001b[0m\u001b[0;34m(\u001b[0m\u001b[0mMarkdown\u001b[0m\u001b[0;34m(\u001b[0m\u001b[0;34m''\u001b[0m\u001b[0;34m.\u001b[0m\u001b[0mjoin\u001b[0m\u001b[0;34m(\u001b[0m\u001b[0;34m[\u001b[0m\u001b[0mcur_slide\u001b[0m\u001b[0;34m[\u001b[0m\u001b[0ml\u001b[0m\u001b[0;34m]\u001b[0m \u001b[0;32mfor\u001b[0m \u001b[0ml\u001b[0m \u001b[0;32min\u001b[0m \u001b[0mcur_lines\u001b[0m\u001b[0;34m]\u001b[0m\u001b[0;34m)\u001b[0m\u001b[0;34m)\u001b[0m\u001b[0;34m)\u001b[0m\u001b[0;34m\u001b[0m\u001b[0m\n\u001b[0m\u001b[1;32m     19\u001b[0m \u001b[0;34m\u001b[0m\u001b[0m\n\u001b[1;32m     20\u001b[0m \u001b[0;34m\u001b[0m\u001b[0m\n",
          "\u001b[0;31mTypeError\u001b[0m: list indices must be integers or slices, not list"
         ]
        },
        {
         "ename": "TypeError",
         "evalue": "list indices must be integers or slices, not list",
         "output_type": "error",
         "traceback": [
          "\u001b[0;31m---------------------------------------------------------------------------\u001b[0m",
          "\u001b[0;31mTypeError\u001b[0m                                 Traceback (most recent call last)",
          "\u001b[0;32m<ipython-input-68-8befb516118e>\u001b[0m in \u001b[0;36mreveal\u001b[0;34m(b)\u001b[0m\n\u001b[1;32m     16\u001b[0m     \u001b[0mcur_lines\u001b[0m\u001b[0;34m.\u001b[0m\u001b[0mappend\u001b[0m\u001b[0;34m(\u001b[0m\u001b[0;34m[\u001b[0m\u001b[0mi\u001b[0m\u001b[0;34m+\u001b[0m\u001b[0mfixed_len\u001b[0m \u001b[0;32mfor\u001b[0m \u001b[0mi\u001b[0m\u001b[0;34m,\u001b[0m\u001b[0mbt\u001b[0m \u001b[0;32min\u001b[0m \u001b[0menumerate\u001b[0m\u001b[0;34m(\u001b[0m\u001b[0mbutton\u001b[0m\u001b[0;34m)\u001b[0m \u001b[0;32mif\u001b[0m \u001b[0mbt\u001b[0m\u001b[0;34m.\u001b[0m\u001b[0mvalue\u001b[0m\u001b[0;34m]\u001b[0m\u001b[0;34m)\u001b[0m\u001b[0;34m\u001b[0m\u001b[0m\n\u001b[1;32m     17\u001b[0m     \u001b[0;32mwith\u001b[0m \u001b[0mslide_display\u001b[0m\u001b[0;34m:\u001b[0m\u001b[0;34m\u001b[0m\u001b[0m\n\u001b[0;32m---> 18\u001b[0;31m         \u001b[0mdisplay\u001b[0m\u001b[0;34m(\u001b[0m\u001b[0mMarkdown\u001b[0m\u001b[0;34m(\u001b[0m\u001b[0;34m''\u001b[0m\u001b[0;34m.\u001b[0m\u001b[0mjoin\u001b[0m\u001b[0;34m(\u001b[0m\u001b[0;34m[\u001b[0m\u001b[0mcur_slide\u001b[0m\u001b[0;34m[\u001b[0m\u001b[0ml\u001b[0m\u001b[0;34m]\u001b[0m \u001b[0;32mfor\u001b[0m \u001b[0ml\u001b[0m \u001b[0;32min\u001b[0m \u001b[0mcur_lines\u001b[0m\u001b[0;34m]\u001b[0m\u001b[0;34m)\u001b[0m\u001b[0;34m)\u001b[0m\u001b[0;34m)\u001b[0m\u001b[0;34m\u001b[0m\u001b[0m\n\u001b[0m\u001b[1;32m     19\u001b[0m \u001b[0;34m\u001b[0m\u001b[0m\n\u001b[1;32m     20\u001b[0m \u001b[0;34m\u001b[0m\u001b[0m\n",
          "\u001b[0;32m<ipython-input-68-8befb516118e>\u001b[0m in \u001b[0;36m<listcomp>\u001b[0;34m(.0)\u001b[0m\n\u001b[1;32m     16\u001b[0m     \u001b[0mcur_lines\u001b[0m\u001b[0;34m.\u001b[0m\u001b[0mappend\u001b[0m\u001b[0;34m(\u001b[0m\u001b[0;34m[\u001b[0m\u001b[0mi\u001b[0m\u001b[0;34m+\u001b[0m\u001b[0mfixed_len\u001b[0m \u001b[0;32mfor\u001b[0m \u001b[0mi\u001b[0m\u001b[0;34m,\u001b[0m\u001b[0mbt\u001b[0m \u001b[0;32min\u001b[0m \u001b[0menumerate\u001b[0m\u001b[0;34m(\u001b[0m\u001b[0mbutton\u001b[0m\u001b[0;34m)\u001b[0m \u001b[0;32mif\u001b[0m \u001b[0mbt\u001b[0m\u001b[0;34m.\u001b[0m\u001b[0mvalue\u001b[0m\u001b[0;34m]\u001b[0m\u001b[0;34m)\u001b[0m\u001b[0;34m\u001b[0m\u001b[0m\n\u001b[1;32m     17\u001b[0m     \u001b[0;32mwith\u001b[0m \u001b[0mslide_display\u001b[0m\u001b[0;34m:\u001b[0m\u001b[0;34m\u001b[0m\u001b[0m\n\u001b[0;32m---> 18\u001b[0;31m         \u001b[0mdisplay\u001b[0m\u001b[0;34m(\u001b[0m\u001b[0mMarkdown\u001b[0m\u001b[0;34m(\u001b[0m\u001b[0;34m''\u001b[0m\u001b[0;34m.\u001b[0m\u001b[0mjoin\u001b[0m\u001b[0;34m(\u001b[0m\u001b[0;34m[\u001b[0m\u001b[0mcur_slide\u001b[0m\u001b[0;34m[\u001b[0m\u001b[0ml\u001b[0m\u001b[0;34m]\u001b[0m \u001b[0;32mfor\u001b[0m \u001b[0ml\u001b[0m \u001b[0;32min\u001b[0m \u001b[0mcur_lines\u001b[0m\u001b[0;34m]\u001b[0m\u001b[0;34m)\u001b[0m\u001b[0;34m)\u001b[0m\u001b[0;34m)\u001b[0m\u001b[0;34m\u001b[0m\u001b[0m\n\u001b[0m\u001b[1;32m     19\u001b[0m \u001b[0;34m\u001b[0m\u001b[0m\n\u001b[1;32m     20\u001b[0m \u001b[0;34m\u001b[0m\u001b[0m\n",
          "\u001b[0;31mTypeError\u001b[0m: list indices must be integers or slices, not list"
         ]
        }
       ]
      }
     },
     "56b587eb25fe460a97e052b342679dc0": {
      "model_module": "@jupyter-widgets/base",
      "model_module_version": "1.2.0",
      "model_name": "LayoutModel",
      "state": {
       "grid_area": "widget004"
      }
     },
     "56c2d3f06d2f4b90b6d545ff5c2b8fa4": {
      "model_module": "@jupyter-widgets/controls",
      "model_module_version": "1.5.0",
      "model_name": "DescriptionStyleModel",
      "state": {
       "description_width": ""
      }
     },
     "56e3a174cd244e6b864446eb7111839b": {
      "model_module": "@jupyter-widgets/base",
      "model_module_version": "1.2.0",
      "model_name": "LayoutModel",
      "state": {
       "grid_area": "widget006"
      }
     },
     "57924e1131e54578a6fdef1fbeddb9d5": {
      "model_module": "@jupyter-widgets/output",
      "model_module_version": "1.0.0",
      "model_name": "OutputModel",
      "state": {
       "layout": "IPY_MODEL_a2b416d2853241778f1e919c49c57d13",
       "outputs": [
        {
         "data": {
          "text/markdown": "# Today\n\n",
          "text/plain": "<IPython.core.display.Markdown object>"
         },
         "metadata": {},
         "output_type": "display_data"
        },
        {
         "ename": "TypeError",
         "evalue": "Markdown expects text, not [0]",
         "output_type": "error",
         "traceback": [
          "\u001b[0;31m---------------------------------------------------------------------------\u001b[0m",
          "\u001b[0;31mTypeError\u001b[0m                                 Traceback (most recent call last)",
          "\u001b[0;32m<ipython-input-70-04fd33d6ccf0>\u001b[0m in \u001b[0;36mreveal\u001b[0;34m(b)\u001b[0m\n\u001b[1;32m     16\u001b[0m     \u001b[0mcur_lines\u001b[0m\u001b[0;34m.\u001b[0m\u001b[0mextend\u001b[0m\u001b[0;34m(\u001b[0m\u001b[0;34m[\u001b[0m\u001b[0mi\u001b[0m\u001b[0;34m+\u001b[0m\u001b[0mfixed_len\u001b[0m \u001b[0;32mfor\u001b[0m \u001b[0mi\u001b[0m\u001b[0;34m,\u001b[0m\u001b[0mbt\u001b[0m \u001b[0;32min\u001b[0m \u001b[0menumerate\u001b[0m\u001b[0;34m(\u001b[0m\u001b[0mbutton\u001b[0m\u001b[0;34m)\u001b[0m \u001b[0;32mif\u001b[0m \u001b[0mbt\u001b[0m\u001b[0;34m.\u001b[0m\u001b[0mvalue\u001b[0m\u001b[0;34m]\u001b[0m\u001b[0;34m)\u001b[0m\u001b[0;34m\u001b[0m\u001b[0m\n\u001b[1;32m     17\u001b[0m     \u001b[0;32mwith\u001b[0m \u001b[0mslide_display\u001b[0m\u001b[0;34m:\u001b[0m\u001b[0;34m\u001b[0m\u001b[0m\n\u001b[0;32m---> 18\u001b[0;31m         \u001b[0mdisplay\u001b[0m\u001b[0;34m(\u001b[0m\u001b[0mMarkdown\u001b[0m\u001b[0;34m(\u001b[0m\u001b[0mcur_lines\u001b[0m\u001b[0;34m)\u001b[0m\u001b[0;34m)\u001b[0m\u001b[0;34m\u001b[0m\u001b[0m\n\u001b[0m\u001b[1;32m     19\u001b[0m \u001b[0;31m#         display(Markdown(''.join([cur_slide[l] for l in cur_lines])))\u001b[0m\u001b[0;34m\u001b[0m\u001b[0;34m\u001b[0m\u001b[0m\n\u001b[1;32m     20\u001b[0m \u001b[0;34m\u001b[0m\u001b[0m\n",
          "\u001b[0;32m~/anaconda3/lib/python3.6/site-packages/IPython/core/display.py\u001b[0m in \u001b[0;36m__init__\u001b[0;34m(self, data, url, filename, metadata)\u001b[0m\n\u001b[1;32m    607\u001b[0m \u001b[0;34m\u001b[0m\u001b[0m\n\u001b[1;32m    608\u001b[0m         \u001b[0mself\u001b[0m\u001b[0;34m.\u001b[0m\u001b[0mreload\u001b[0m\u001b[0;34m(\u001b[0m\u001b[0;34m)\u001b[0m\u001b[0;34m\u001b[0m\u001b[0m\n\u001b[0;32m--> 609\u001b[0;31m         \u001b[0mself\u001b[0m\u001b[0;34m.\u001b[0m\u001b[0m_check_data\u001b[0m\u001b[0;34m(\u001b[0m\u001b[0;34m)\u001b[0m\u001b[0;34m\u001b[0m\u001b[0m\n\u001b[0m\u001b[1;32m    610\u001b[0m \u001b[0;34m\u001b[0m\u001b[0m\n\u001b[1;32m    611\u001b[0m     \u001b[0;32mdef\u001b[0m \u001b[0m__repr__\u001b[0m\u001b[0;34m(\u001b[0m\u001b[0mself\u001b[0m\u001b[0;34m)\u001b[0m\u001b[0;34m:\u001b[0m\u001b[0;34m\u001b[0m\u001b[0m\n",
          "\u001b[0;32m~/anaconda3/lib/python3.6/site-packages/IPython/core/display.py\u001b[0m in \u001b[0;36m_check_data\u001b[0;34m(self)\u001b[0m\n\u001b[1;32m    656\u001b[0m     \u001b[0;32mdef\u001b[0m \u001b[0m_check_data\u001b[0m\u001b[0;34m(\u001b[0m\u001b[0mself\u001b[0m\u001b[0;34m)\u001b[0m\u001b[0;34m:\u001b[0m\u001b[0;34m\u001b[0m\u001b[0m\n\u001b[1;32m    657\u001b[0m         \u001b[0;32mif\u001b[0m \u001b[0mself\u001b[0m\u001b[0;34m.\u001b[0m\u001b[0mdata\u001b[0m \u001b[0;32mis\u001b[0m \u001b[0;32mnot\u001b[0m \u001b[0;32mNone\u001b[0m \u001b[0;32mand\u001b[0m \u001b[0;32mnot\u001b[0m \u001b[0misinstance\u001b[0m\u001b[0;34m(\u001b[0m\u001b[0mself\u001b[0m\u001b[0;34m.\u001b[0m\u001b[0mdata\u001b[0m\u001b[0;34m,\u001b[0m \u001b[0mstr\u001b[0m\u001b[0;34m)\u001b[0m\u001b[0;34m:\u001b[0m\u001b[0;34m\u001b[0m\u001b[0m\n\u001b[0;32m--> 658\u001b[0;31m             \u001b[0;32mraise\u001b[0m \u001b[0mTypeError\u001b[0m\u001b[0;34m(\u001b[0m\u001b[0;34m\"%s expects text, not %r\"\u001b[0m \u001b[0;34m%\u001b[0m \u001b[0;34m(\u001b[0m\u001b[0mself\u001b[0m\u001b[0;34m.\u001b[0m\u001b[0m__class__\u001b[0m\u001b[0;34m.\u001b[0m\u001b[0m__name__\u001b[0m\u001b[0;34m,\u001b[0m \u001b[0mself\u001b[0m\u001b[0;34m.\u001b[0m\u001b[0mdata\u001b[0m\u001b[0;34m)\u001b[0m\u001b[0;34m)\u001b[0m\u001b[0;34m\u001b[0m\u001b[0m\n\u001b[0m\u001b[1;32m    659\u001b[0m \u001b[0;34m\u001b[0m\u001b[0m\n\u001b[1;32m    660\u001b[0m \u001b[0;32mclass\u001b[0m \u001b[0mPretty\u001b[0m\u001b[0;34m(\u001b[0m\u001b[0mTextDisplayObject\u001b[0m\u001b[0;34m)\u001b[0m\u001b[0;34m:\u001b[0m\u001b[0;34m\u001b[0m\u001b[0m\n",
          "\u001b[0;31mTypeError\u001b[0m: Markdown expects text, not [0]"
         ]
        },
        {
         "ename": "TypeError",
         "evalue": "Markdown expects text, not [0, 2]",
         "output_type": "error",
         "traceback": [
          "\u001b[0;31m---------------------------------------------------------------------------\u001b[0m",
          "\u001b[0;31mTypeError\u001b[0m                                 Traceback (most recent call last)",
          "\u001b[0;32m<ipython-input-70-04fd33d6ccf0>\u001b[0m in \u001b[0;36mreveal\u001b[0;34m(b)\u001b[0m\n\u001b[1;32m     16\u001b[0m     \u001b[0mcur_lines\u001b[0m\u001b[0;34m.\u001b[0m\u001b[0mextend\u001b[0m\u001b[0;34m(\u001b[0m\u001b[0;34m[\u001b[0m\u001b[0mi\u001b[0m\u001b[0;34m+\u001b[0m\u001b[0mfixed_len\u001b[0m \u001b[0;32mfor\u001b[0m \u001b[0mi\u001b[0m\u001b[0;34m,\u001b[0m\u001b[0mbt\u001b[0m \u001b[0;32min\u001b[0m \u001b[0menumerate\u001b[0m\u001b[0;34m(\u001b[0m\u001b[0mbutton\u001b[0m\u001b[0;34m)\u001b[0m \u001b[0;32mif\u001b[0m \u001b[0mbt\u001b[0m\u001b[0;34m.\u001b[0m\u001b[0mvalue\u001b[0m\u001b[0;34m]\u001b[0m\u001b[0;34m)\u001b[0m\u001b[0;34m\u001b[0m\u001b[0m\n\u001b[1;32m     17\u001b[0m     \u001b[0;32mwith\u001b[0m \u001b[0mslide_display\u001b[0m\u001b[0;34m:\u001b[0m\u001b[0;34m\u001b[0m\u001b[0m\n\u001b[0;32m---> 18\u001b[0;31m         \u001b[0mdisplay\u001b[0m\u001b[0;34m(\u001b[0m\u001b[0mMarkdown\u001b[0m\u001b[0;34m(\u001b[0m\u001b[0mcur_lines\u001b[0m\u001b[0;34m)\u001b[0m\u001b[0;34m)\u001b[0m\u001b[0;34m\u001b[0m\u001b[0m\n\u001b[0m\u001b[1;32m     19\u001b[0m \u001b[0;31m#         display(Markdown(''.join([cur_slide[l] for l in cur_lines])))\u001b[0m\u001b[0;34m\u001b[0m\u001b[0;34m\u001b[0m\u001b[0m\n\u001b[1;32m     20\u001b[0m \u001b[0;34m\u001b[0m\u001b[0m\n",
          "\u001b[0;32m~/anaconda3/lib/python3.6/site-packages/IPython/core/display.py\u001b[0m in \u001b[0;36m__init__\u001b[0;34m(self, data, url, filename, metadata)\u001b[0m\n\u001b[1;32m    607\u001b[0m \u001b[0;34m\u001b[0m\u001b[0m\n\u001b[1;32m    608\u001b[0m         \u001b[0mself\u001b[0m\u001b[0;34m.\u001b[0m\u001b[0mreload\u001b[0m\u001b[0;34m(\u001b[0m\u001b[0;34m)\u001b[0m\u001b[0;34m\u001b[0m\u001b[0m\n\u001b[0;32m--> 609\u001b[0;31m         \u001b[0mself\u001b[0m\u001b[0;34m.\u001b[0m\u001b[0m_check_data\u001b[0m\u001b[0;34m(\u001b[0m\u001b[0;34m)\u001b[0m\u001b[0;34m\u001b[0m\u001b[0m\n\u001b[0m\u001b[1;32m    610\u001b[0m \u001b[0;34m\u001b[0m\u001b[0m\n\u001b[1;32m    611\u001b[0m     \u001b[0;32mdef\u001b[0m \u001b[0m__repr__\u001b[0m\u001b[0;34m(\u001b[0m\u001b[0mself\u001b[0m\u001b[0;34m)\u001b[0m\u001b[0;34m:\u001b[0m\u001b[0;34m\u001b[0m\u001b[0m\n",
          "\u001b[0;32m~/anaconda3/lib/python3.6/site-packages/IPython/core/display.py\u001b[0m in \u001b[0;36m_check_data\u001b[0;34m(self)\u001b[0m\n\u001b[1;32m    656\u001b[0m     \u001b[0;32mdef\u001b[0m \u001b[0m_check_data\u001b[0m\u001b[0;34m(\u001b[0m\u001b[0mself\u001b[0m\u001b[0;34m)\u001b[0m\u001b[0;34m:\u001b[0m\u001b[0;34m\u001b[0m\u001b[0m\n\u001b[1;32m    657\u001b[0m         \u001b[0;32mif\u001b[0m \u001b[0mself\u001b[0m\u001b[0;34m.\u001b[0m\u001b[0mdata\u001b[0m \u001b[0;32mis\u001b[0m \u001b[0;32mnot\u001b[0m \u001b[0;32mNone\u001b[0m \u001b[0;32mand\u001b[0m \u001b[0;32mnot\u001b[0m \u001b[0misinstance\u001b[0m\u001b[0;34m(\u001b[0m\u001b[0mself\u001b[0m\u001b[0;34m.\u001b[0m\u001b[0mdata\u001b[0m\u001b[0;34m,\u001b[0m \u001b[0mstr\u001b[0m\u001b[0;34m)\u001b[0m\u001b[0;34m:\u001b[0m\u001b[0;34m\u001b[0m\u001b[0m\n\u001b[0;32m--> 658\u001b[0;31m             \u001b[0;32mraise\u001b[0m \u001b[0mTypeError\u001b[0m\u001b[0;34m(\u001b[0m\u001b[0;34m\"%s expects text, not %r\"\u001b[0m \u001b[0;34m%\u001b[0m \u001b[0;34m(\u001b[0m\u001b[0mself\u001b[0m\u001b[0;34m.\u001b[0m\u001b[0m__class__\u001b[0m\u001b[0;34m.\u001b[0m\u001b[0m__name__\u001b[0m\u001b[0;34m,\u001b[0m \u001b[0mself\u001b[0m\u001b[0;34m.\u001b[0m\u001b[0mdata\u001b[0m\u001b[0;34m)\u001b[0m\u001b[0;34m)\u001b[0m\u001b[0;34m\u001b[0m\u001b[0m\n\u001b[0m\u001b[1;32m    659\u001b[0m \u001b[0;34m\u001b[0m\u001b[0m\n\u001b[1;32m    660\u001b[0m \u001b[0;32mclass\u001b[0m \u001b[0mPretty\u001b[0m\u001b[0;34m(\u001b[0m\u001b[0mTextDisplayObject\u001b[0m\u001b[0;34m)\u001b[0m\u001b[0;34m:\u001b[0m\u001b[0;34m\u001b[0m\u001b[0m\n",
          "\u001b[0;31mTypeError\u001b[0m: Markdown expects text, not [0, 2]"
         ]
        },
        {
         "ename": "TypeError",
         "evalue": "Markdown expects text, not [0, 2]",
         "output_type": "error",
         "traceback": [
          "\u001b[0;31m---------------------------------------------------------------------------\u001b[0m",
          "\u001b[0;31mTypeError\u001b[0m                                 Traceback (most recent call last)",
          "\u001b[0;32m<ipython-input-70-04fd33d6ccf0>\u001b[0m in \u001b[0;36mreveal\u001b[0;34m(b)\u001b[0m\n\u001b[1;32m     16\u001b[0m     \u001b[0mcur_lines\u001b[0m\u001b[0;34m.\u001b[0m\u001b[0mextend\u001b[0m\u001b[0;34m(\u001b[0m\u001b[0;34m[\u001b[0m\u001b[0mi\u001b[0m\u001b[0;34m+\u001b[0m\u001b[0mfixed_len\u001b[0m \u001b[0;32mfor\u001b[0m \u001b[0mi\u001b[0m\u001b[0;34m,\u001b[0m\u001b[0mbt\u001b[0m \u001b[0;32min\u001b[0m \u001b[0menumerate\u001b[0m\u001b[0;34m(\u001b[0m\u001b[0mbutton\u001b[0m\u001b[0;34m)\u001b[0m \u001b[0;32mif\u001b[0m \u001b[0mbt\u001b[0m\u001b[0;34m.\u001b[0m\u001b[0mvalue\u001b[0m\u001b[0;34m]\u001b[0m\u001b[0;34m)\u001b[0m\u001b[0;34m\u001b[0m\u001b[0m\n\u001b[1;32m     17\u001b[0m     \u001b[0;32mwith\u001b[0m \u001b[0mslide_display\u001b[0m\u001b[0;34m:\u001b[0m\u001b[0;34m\u001b[0m\u001b[0m\n\u001b[0;32m---> 18\u001b[0;31m         \u001b[0mdisplay\u001b[0m\u001b[0;34m(\u001b[0m\u001b[0mMarkdown\u001b[0m\u001b[0;34m(\u001b[0m\u001b[0mcur_lines\u001b[0m\u001b[0;34m)\u001b[0m\u001b[0;34m)\u001b[0m\u001b[0;34m\u001b[0m\u001b[0m\n\u001b[0m\u001b[1;32m     19\u001b[0m \u001b[0;31m#         display(Markdown(''.join([cur_slide[l] for l in cur_lines])))\u001b[0m\u001b[0;34m\u001b[0m\u001b[0;34m\u001b[0m\u001b[0m\n\u001b[1;32m     20\u001b[0m \u001b[0;34m\u001b[0m\u001b[0m\n",
          "\u001b[0;32m~/anaconda3/lib/python3.6/site-packages/IPython/core/display.py\u001b[0m in \u001b[0;36m__init__\u001b[0;34m(self, data, url, filename, metadata)\u001b[0m\n\u001b[1;32m    607\u001b[0m \u001b[0;34m\u001b[0m\u001b[0m\n\u001b[1;32m    608\u001b[0m         \u001b[0mself\u001b[0m\u001b[0;34m.\u001b[0m\u001b[0mreload\u001b[0m\u001b[0;34m(\u001b[0m\u001b[0;34m)\u001b[0m\u001b[0;34m\u001b[0m\u001b[0m\n\u001b[0;32m--> 609\u001b[0;31m         \u001b[0mself\u001b[0m\u001b[0;34m.\u001b[0m\u001b[0m_check_data\u001b[0m\u001b[0;34m(\u001b[0m\u001b[0;34m)\u001b[0m\u001b[0;34m\u001b[0m\u001b[0m\n\u001b[0m\u001b[1;32m    610\u001b[0m \u001b[0;34m\u001b[0m\u001b[0m\n\u001b[1;32m    611\u001b[0m     \u001b[0;32mdef\u001b[0m \u001b[0m__repr__\u001b[0m\u001b[0;34m(\u001b[0m\u001b[0mself\u001b[0m\u001b[0;34m)\u001b[0m\u001b[0;34m:\u001b[0m\u001b[0;34m\u001b[0m\u001b[0m\n",
          "\u001b[0;32m~/anaconda3/lib/python3.6/site-packages/IPython/core/display.py\u001b[0m in \u001b[0;36m_check_data\u001b[0;34m(self)\u001b[0m\n\u001b[1;32m    656\u001b[0m     \u001b[0;32mdef\u001b[0m \u001b[0m_check_data\u001b[0m\u001b[0;34m(\u001b[0m\u001b[0mself\u001b[0m\u001b[0;34m)\u001b[0m\u001b[0;34m:\u001b[0m\u001b[0;34m\u001b[0m\u001b[0m\n\u001b[1;32m    657\u001b[0m         \u001b[0;32mif\u001b[0m \u001b[0mself\u001b[0m\u001b[0;34m.\u001b[0m\u001b[0mdata\u001b[0m \u001b[0;32mis\u001b[0m \u001b[0;32mnot\u001b[0m \u001b[0;32mNone\u001b[0m \u001b[0;32mand\u001b[0m \u001b[0;32mnot\u001b[0m \u001b[0misinstance\u001b[0m\u001b[0;34m(\u001b[0m\u001b[0mself\u001b[0m\u001b[0;34m.\u001b[0m\u001b[0mdata\u001b[0m\u001b[0;34m,\u001b[0m \u001b[0mstr\u001b[0m\u001b[0;34m)\u001b[0m\u001b[0;34m:\u001b[0m\u001b[0;34m\u001b[0m\u001b[0m\n\u001b[0;32m--> 658\u001b[0;31m             \u001b[0;32mraise\u001b[0m \u001b[0mTypeError\u001b[0m\u001b[0;34m(\u001b[0m\u001b[0;34m\"%s expects text, not %r\"\u001b[0m \u001b[0;34m%\u001b[0m \u001b[0;34m(\u001b[0m\u001b[0mself\u001b[0m\u001b[0;34m.\u001b[0m\u001b[0m__class__\u001b[0m\u001b[0;34m.\u001b[0m\u001b[0m__name__\u001b[0m\u001b[0;34m,\u001b[0m \u001b[0mself\u001b[0m\u001b[0;34m.\u001b[0m\u001b[0mdata\u001b[0m\u001b[0;34m)\u001b[0m\u001b[0;34m)\u001b[0m\u001b[0;34m\u001b[0m\u001b[0m\n\u001b[0m\u001b[1;32m    659\u001b[0m \u001b[0;34m\u001b[0m\u001b[0m\n\u001b[1;32m    660\u001b[0m \u001b[0;32mclass\u001b[0m \u001b[0mPretty\u001b[0m\u001b[0;34m(\u001b[0m\u001b[0mTextDisplayObject\u001b[0m\u001b[0;34m)\u001b[0m\u001b[0;34m:\u001b[0m\u001b[0;34m\u001b[0m\u001b[0m\n",
          "\u001b[0;31mTypeError\u001b[0m: Markdown expects text, not [0, 2]"
         ]
        }
       ]
      }
     },
     "57e966884ff64f4f84ce248c85b207aa": {
      "model_module": "@jupyter-widgets/base",
      "model_module_version": "1.2.0",
      "model_name": "LayoutModel",
      "state": {
       "grid_area": "widget003"
      }
     },
     "5833ce4875a2428ebd0478def7594de6": {
      "model_module": "@jupyter-widgets/controls",
      "model_module_version": "1.5.0",
      "model_name": "ButtonModel",
      "state": {
       "button_style": "info",
       "layout": "IPY_MODEL_80326be4c8244d2fb0bd05cd9f57342a",
       "style": "IPY_MODEL_797ed04759a54e458cb866a03662988e"
      }
     },
     "5857a21d18604ac0920d4462957308cc": {
      "model_module": "@jupyter-widgets/output",
      "model_module_version": "1.0.0",
      "model_name": "OutputModel",
      "state": {
       "layout": "IPY_MODEL_ef40783705964fb0bfe2766f3d4fb639",
       "outputs": [
        {
         "data": {
          "text/markdown": "# Today\n\n",
          "text/plain": "<IPython.core.display.Markdown object>"
         },
         "metadata": {},
         "output_type": "display_data"
        },
        {
         "ename": "TypeError",
         "evalue": "list indices must be integers or slices, not list",
         "output_type": "error",
         "traceback": [
          "\u001b[0;31m---------------------------------------------------------------------------\u001b[0m",
          "\u001b[0;31mTypeError\u001b[0m                                 Traceback (most recent call last)",
          "\u001b[0;32m<ipython-input-67-d4ce938021ab>\u001b[0m in \u001b[0;36mreveal\u001b[0;34m(b)\u001b[0m\n\u001b[1;32m     16\u001b[0m     \u001b[0mcur_lines\u001b[0m\u001b[0;34m.\u001b[0m\u001b[0mappend\u001b[0m\u001b[0;34m(\u001b[0m\u001b[0;34m[\u001b[0m\u001b[0mi\u001b[0m\u001b[0;34m+\u001b[0m\u001b[0mfixed_len\u001b[0m \u001b[0;32mfor\u001b[0m \u001b[0mi\u001b[0m\u001b[0;34m,\u001b[0m\u001b[0mbt\u001b[0m \u001b[0;32min\u001b[0m \u001b[0menumerate\u001b[0m\u001b[0;34m(\u001b[0m\u001b[0mbutton\u001b[0m\u001b[0;34m)\u001b[0m \u001b[0;32mif\u001b[0m \u001b[0mbt\u001b[0m\u001b[0;34m]\u001b[0m\u001b[0;34m)\u001b[0m\u001b[0;34m\u001b[0m\u001b[0m\n\u001b[1;32m     17\u001b[0m     \u001b[0;32mwith\u001b[0m \u001b[0mslide_display\u001b[0m\u001b[0;34m:\u001b[0m\u001b[0;34m\u001b[0m\u001b[0m\n\u001b[0;32m---> 18\u001b[0;31m         \u001b[0mdisplay\u001b[0m\u001b[0;34m(\u001b[0m\u001b[0mMarkdown\u001b[0m\u001b[0;34m(\u001b[0m\u001b[0;34m''\u001b[0m\u001b[0;34m.\u001b[0m\u001b[0mjoin\u001b[0m\u001b[0;34m(\u001b[0m\u001b[0;34m[\u001b[0m\u001b[0mcur_slide\u001b[0m\u001b[0;34m[\u001b[0m\u001b[0ml\u001b[0m\u001b[0;34m]\u001b[0m \u001b[0;32mfor\u001b[0m \u001b[0ml\u001b[0m \u001b[0;32min\u001b[0m \u001b[0mcur_lines\u001b[0m\u001b[0;34m]\u001b[0m\u001b[0;34m)\u001b[0m\u001b[0;34m)\u001b[0m\u001b[0;34m)\u001b[0m\u001b[0;34m\u001b[0m\u001b[0m\n\u001b[0m\u001b[1;32m     19\u001b[0m \u001b[0;34m\u001b[0m\u001b[0m\n\u001b[1;32m     20\u001b[0m \u001b[0;34m\u001b[0m\u001b[0m\n",
          "\u001b[0;32m<ipython-input-67-d4ce938021ab>\u001b[0m in \u001b[0;36m<listcomp>\u001b[0;34m(.0)\u001b[0m\n\u001b[1;32m     16\u001b[0m     \u001b[0mcur_lines\u001b[0m\u001b[0;34m.\u001b[0m\u001b[0mappend\u001b[0m\u001b[0;34m(\u001b[0m\u001b[0;34m[\u001b[0m\u001b[0mi\u001b[0m\u001b[0;34m+\u001b[0m\u001b[0mfixed_len\u001b[0m \u001b[0;32mfor\u001b[0m \u001b[0mi\u001b[0m\u001b[0;34m,\u001b[0m\u001b[0mbt\u001b[0m \u001b[0;32min\u001b[0m \u001b[0menumerate\u001b[0m\u001b[0;34m(\u001b[0m\u001b[0mbutton\u001b[0m\u001b[0;34m)\u001b[0m \u001b[0;32mif\u001b[0m \u001b[0mbt\u001b[0m\u001b[0;34m]\u001b[0m\u001b[0;34m)\u001b[0m\u001b[0;34m\u001b[0m\u001b[0m\n\u001b[1;32m     17\u001b[0m     \u001b[0;32mwith\u001b[0m \u001b[0mslide_display\u001b[0m\u001b[0;34m:\u001b[0m\u001b[0;34m\u001b[0m\u001b[0m\n\u001b[0;32m---> 18\u001b[0;31m         \u001b[0mdisplay\u001b[0m\u001b[0;34m(\u001b[0m\u001b[0mMarkdown\u001b[0m\u001b[0;34m(\u001b[0m\u001b[0;34m''\u001b[0m\u001b[0;34m.\u001b[0m\u001b[0mjoin\u001b[0m\u001b[0;34m(\u001b[0m\u001b[0;34m[\u001b[0m\u001b[0mcur_slide\u001b[0m\u001b[0;34m[\u001b[0m\u001b[0ml\u001b[0m\u001b[0;34m]\u001b[0m \u001b[0;32mfor\u001b[0m \u001b[0ml\u001b[0m \u001b[0;32min\u001b[0m \u001b[0mcur_lines\u001b[0m\u001b[0;34m]\u001b[0m\u001b[0;34m)\u001b[0m\u001b[0;34m)\u001b[0m\u001b[0;34m)\u001b[0m\u001b[0;34m\u001b[0m\u001b[0m\n\u001b[0m\u001b[1;32m     19\u001b[0m \u001b[0;34m\u001b[0m\u001b[0m\n\u001b[1;32m     20\u001b[0m \u001b[0;34m\u001b[0m\u001b[0m\n",
          "\u001b[0;31mTypeError\u001b[0m: list indices must be integers or slices, not list"
         ]
        },
        {
         "ename": "TypeError",
         "evalue": "list indices must be integers or slices, not list",
         "output_type": "error",
         "traceback": [
          "\u001b[0;31m---------------------------------------------------------------------------\u001b[0m",
          "\u001b[0;31mTypeError\u001b[0m                                 Traceback (most recent call last)",
          "\u001b[0;32m<ipython-input-67-d4ce938021ab>\u001b[0m in \u001b[0;36mreveal\u001b[0;34m(b)\u001b[0m\n\u001b[1;32m     16\u001b[0m     \u001b[0mcur_lines\u001b[0m\u001b[0;34m.\u001b[0m\u001b[0mappend\u001b[0m\u001b[0;34m(\u001b[0m\u001b[0;34m[\u001b[0m\u001b[0mi\u001b[0m\u001b[0;34m+\u001b[0m\u001b[0mfixed_len\u001b[0m \u001b[0;32mfor\u001b[0m \u001b[0mi\u001b[0m\u001b[0;34m,\u001b[0m\u001b[0mbt\u001b[0m \u001b[0;32min\u001b[0m \u001b[0menumerate\u001b[0m\u001b[0;34m(\u001b[0m\u001b[0mbutton\u001b[0m\u001b[0;34m)\u001b[0m \u001b[0;32mif\u001b[0m \u001b[0mbt\u001b[0m\u001b[0;34m]\u001b[0m\u001b[0;34m)\u001b[0m\u001b[0;34m\u001b[0m\u001b[0m\n\u001b[1;32m     17\u001b[0m     \u001b[0;32mwith\u001b[0m \u001b[0mslide_display\u001b[0m\u001b[0;34m:\u001b[0m\u001b[0;34m\u001b[0m\u001b[0m\n\u001b[0;32m---> 18\u001b[0;31m         \u001b[0mdisplay\u001b[0m\u001b[0;34m(\u001b[0m\u001b[0mMarkdown\u001b[0m\u001b[0;34m(\u001b[0m\u001b[0;34m''\u001b[0m\u001b[0;34m.\u001b[0m\u001b[0mjoin\u001b[0m\u001b[0;34m(\u001b[0m\u001b[0;34m[\u001b[0m\u001b[0mcur_slide\u001b[0m\u001b[0;34m[\u001b[0m\u001b[0ml\u001b[0m\u001b[0;34m]\u001b[0m \u001b[0;32mfor\u001b[0m \u001b[0ml\u001b[0m \u001b[0;32min\u001b[0m \u001b[0mcur_lines\u001b[0m\u001b[0;34m]\u001b[0m\u001b[0;34m)\u001b[0m\u001b[0;34m)\u001b[0m\u001b[0;34m)\u001b[0m\u001b[0;34m\u001b[0m\u001b[0m\n\u001b[0m\u001b[1;32m     19\u001b[0m \u001b[0;34m\u001b[0m\u001b[0m\n\u001b[1;32m     20\u001b[0m \u001b[0;34m\u001b[0m\u001b[0m\n",
          "\u001b[0;32m<ipython-input-67-d4ce938021ab>\u001b[0m in \u001b[0;36m<listcomp>\u001b[0;34m(.0)\u001b[0m\n\u001b[1;32m     16\u001b[0m     \u001b[0mcur_lines\u001b[0m\u001b[0;34m.\u001b[0m\u001b[0mappend\u001b[0m\u001b[0;34m(\u001b[0m\u001b[0;34m[\u001b[0m\u001b[0mi\u001b[0m\u001b[0;34m+\u001b[0m\u001b[0mfixed_len\u001b[0m \u001b[0;32mfor\u001b[0m \u001b[0mi\u001b[0m\u001b[0;34m,\u001b[0m\u001b[0mbt\u001b[0m \u001b[0;32min\u001b[0m \u001b[0menumerate\u001b[0m\u001b[0;34m(\u001b[0m\u001b[0mbutton\u001b[0m\u001b[0;34m)\u001b[0m \u001b[0;32mif\u001b[0m \u001b[0mbt\u001b[0m\u001b[0;34m]\u001b[0m\u001b[0;34m)\u001b[0m\u001b[0;34m\u001b[0m\u001b[0m\n\u001b[1;32m     17\u001b[0m     \u001b[0;32mwith\u001b[0m \u001b[0mslide_display\u001b[0m\u001b[0;34m:\u001b[0m\u001b[0;34m\u001b[0m\u001b[0m\n\u001b[0;32m---> 18\u001b[0;31m         \u001b[0mdisplay\u001b[0m\u001b[0;34m(\u001b[0m\u001b[0mMarkdown\u001b[0m\u001b[0;34m(\u001b[0m\u001b[0;34m''\u001b[0m\u001b[0;34m.\u001b[0m\u001b[0mjoin\u001b[0m\u001b[0;34m(\u001b[0m\u001b[0;34m[\u001b[0m\u001b[0mcur_slide\u001b[0m\u001b[0;34m[\u001b[0m\u001b[0ml\u001b[0m\u001b[0;34m]\u001b[0m \u001b[0;32mfor\u001b[0m \u001b[0ml\u001b[0m \u001b[0;32min\u001b[0m \u001b[0mcur_lines\u001b[0m\u001b[0;34m]\u001b[0m\u001b[0;34m)\u001b[0m\u001b[0;34m)\u001b[0m\u001b[0;34m)\u001b[0m\u001b[0;34m\u001b[0m\u001b[0m\n\u001b[0m\u001b[1;32m     19\u001b[0m \u001b[0;34m\u001b[0m\u001b[0m\n\u001b[1;32m     20\u001b[0m \u001b[0;34m\u001b[0m\u001b[0m\n",
          "\u001b[0;31mTypeError\u001b[0m: list indices must be integers or slices, not list"
         ]
        },
        {
         "ename": "TypeError",
         "evalue": "list indices must be integers or slices, not list",
         "output_type": "error",
         "traceback": [
          "\u001b[0;31m---------------------------------------------------------------------------\u001b[0m",
          "\u001b[0;31mTypeError\u001b[0m                                 Traceback (most recent call last)",
          "\u001b[0;32m<ipython-input-67-d4ce938021ab>\u001b[0m in \u001b[0;36mreveal\u001b[0;34m(b)\u001b[0m\n\u001b[1;32m     16\u001b[0m     \u001b[0mcur_lines\u001b[0m\u001b[0;34m.\u001b[0m\u001b[0mappend\u001b[0m\u001b[0;34m(\u001b[0m\u001b[0;34m[\u001b[0m\u001b[0mi\u001b[0m\u001b[0;34m+\u001b[0m\u001b[0mfixed_len\u001b[0m \u001b[0;32mfor\u001b[0m \u001b[0mi\u001b[0m\u001b[0;34m,\u001b[0m\u001b[0mbt\u001b[0m \u001b[0;32min\u001b[0m \u001b[0menumerate\u001b[0m\u001b[0;34m(\u001b[0m\u001b[0mbutton\u001b[0m\u001b[0;34m)\u001b[0m \u001b[0;32mif\u001b[0m \u001b[0mbt\u001b[0m\u001b[0;34m]\u001b[0m\u001b[0;34m)\u001b[0m\u001b[0;34m\u001b[0m\u001b[0m\n\u001b[1;32m     17\u001b[0m     \u001b[0;32mwith\u001b[0m \u001b[0mslide_display\u001b[0m\u001b[0;34m:\u001b[0m\u001b[0;34m\u001b[0m\u001b[0m\n\u001b[0;32m---> 18\u001b[0;31m         \u001b[0mdisplay\u001b[0m\u001b[0;34m(\u001b[0m\u001b[0mMarkdown\u001b[0m\u001b[0;34m(\u001b[0m\u001b[0;34m''\u001b[0m\u001b[0;34m.\u001b[0m\u001b[0mjoin\u001b[0m\u001b[0;34m(\u001b[0m\u001b[0;34m[\u001b[0m\u001b[0mcur_slide\u001b[0m\u001b[0;34m[\u001b[0m\u001b[0ml\u001b[0m\u001b[0;34m]\u001b[0m \u001b[0;32mfor\u001b[0m \u001b[0ml\u001b[0m \u001b[0;32min\u001b[0m \u001b[0mcur_lines\u001b[0m\u001b[0;34m]\u001b[0m\u001b[0;34m)\u001b[0m\u001b[0;34m)\u001b[0m\u001b[0;34m)\u001b[0m\u001b[0;34m\u001b[0m\u001b[0m\n\u001b[0m\u001b[1;32m     19\u001b[0m \u001b[0;34m\u001b[0m\u001b[0m\n\u001b[1;32m     20\u001b[0m \u001b[0;34m\u001b[0m\u001b[0m\n",
          "\u001b[0;32m<ipython-input-67-d4ce938021ab>\u001b[0m in \u001b[0;36m<listcomp>\u001b[0;34m(.0)\u001b[0m\n\u001b[1;32m     16\u001b[0m     \u001b[0mcur_lines\u001b[0m\u001b[0;34m.\u001b[0m\u001b[0mappend\u001b[0m\u001b[0;34m(\u001b[0m\u001b[0;34m[\u001b[0m\u001b[0mi\u001b[0m\u001b[0;34m+\u001b[0m\u001b[0mfixed_len\u001b[0m \u001b[0;32mfor\u001b[0m \u001b[0mi\u001b[0m\u001b[0;34m,\u001b[0m\u001b[0mbt\u001b[0m \u001b[0;32min\u001b[0m \u001b[0menumerate\u001b[0m\u001b[0;34m(\u001b[0m\u001b[0mbutton\u001b[0m\u001b[0;34m)\u001b[0m \u001b[0;32mif\u001b[0m \u001b[0mbt\u001b[0m\u001b[0;34m]\u001b[0m\u001b[0;34m)\u001b[0m\u001b[0;34m\u001b[0m\u001b[0m\n\u001b[1;32m     17\u001b[0m     \u001b[0;32mwith\u001b[0m \u001b[0mslide_display\u001b[0m\u001b[0;34m:\u001b[0m\u001b[0;34m\u001b[0m\u001b[0m\n\u001b[0;32m---> 18\u001b[0;31m         \u001b[0mdisplay\u001b[0m\u001b[0;34m(\u001b[0m\u001b[0mMarkdown\u001b[0m\u001b[0;34m(\u001b[0m\u001b[0;34m''\u001b[0m\u001b[0;34m.\u001b[0m\u001b[0mjoin\u001b[0m\u001b[0;34m(\u001b[0m\u001b[0;34m[\u001b[0m\u001b[0mcur_slide\u001b[0m\u001b[0;34m[\u001b[0m\u001b[0ml\u001b[0m\u001b[0;34m]\u001b[0m \u001b[0;32mfor\u001b[0m \u001b[0ml\u001b[0m \u001b[0;32min\u001b[0m \u001b[0mcur_lines\u001b[0m\u001b[0;34m]\u001b[0m\u001b[0;34m)\u001b[0m\u001b[0;34m)\u001b[0m\u001b[0;34m)\u001b[0m\u001b[0;34m\u001b[0m\u001b[0m\n\u001b[0m\u001b[1;32m     19\u001b[0m \u001b[0;34m\u001b[0m\u001b[0m\n\u001b[1;32m     20\u001b[0m \u001b[0;34m\u001b[0m\u001b[0m\n",
          "\u001b[0;31mTypeError\u001b[0m: list indices must be integers or slices, not list"
         ]
        }
       ]
      }
     },
     "59f621d2126943e7894a8931dff26075": {
      "model_module": "@jupyter-widgets/base",
      "model_module_version": "1.2.0",
      "model_name": "LayoutModel",
      "state": {
       "grid_area": "widget004"
      }
     },
     "5b8ed3d18ac54756b772af66d514ba1e": {
      "model_module": "@jupyter-widgets/controls",
      "model_module_version": "1.5.0",
      "model_name": "GridBoxModel",
      "state": {
       "children": [
        "IPY_MODEL_57924e1131e54578a6fdef1fbeddb9d5",
        "IPY_MODEL_17f44a74fe5b4d7ab5602fcaddb56383",
        "IPY_MODEL_a5e744d9bfe44d2c872442e9d3140df2",
        "IPY_MODEL_38d5190cccf948bb8b2557c7e452b243",
        "IPY_MODEL_43830a8585904ec6822cee26b862b912"
       ],
       "layout": "IPY_MODEL_6b7231d684a1439bb30b85c7624ff043"
      }
     },
     "5b97bf97c2064f9e983b3f65276d0a4b": {
      "model_module": "@jupyter-widgets/controls",
      "model_module_version": "1.5.0",
      "model_name": "ToggleButtonModel",
      "state": {
       "button_style": "info",
       "icon": "check",
       "layout": "IPY_MODEL_707face44a3f47a2894ca878aa10ed8d",
       "style": "IPY_MODEL_79fdc19438bd44d9bdf77de8f2a49785",
       "tooltip": "Hint"
      }
     },
     "5c4ad306d7ba4fc09ca194600a7d1055": {
      "model_module": "@jupyter-widgets/controls",
      "model_module_version": "1.5.0",
      "model_name": "ButtonStyleModel",
      "state": {}
     },
     "5c732ae99ef84aad90c6540d97eb147c": {
      "model_module": "@jupyter-widgets/base",
      "model_module_version": "1.2.0",
      "model_name": "LayoutModel",
      "state": {
       "grid_area": "widget005"
      }
     },
     "5eadc60274304a03bf0aff1cc622f3ec": {
      "model_module": "@jupyter-widgets/controls",
      "model_module_version": "1.5.0",
      "model_name": "GridBoxModel",
      "state": {
       "children": [
        "IPY_MODEL_9a56f8be9c34410b939e4d144230eee4",
        "IPY_MODEL_afca27147dd747b4beb47634eee24ffb",
        "IPY_MODEL_c6cc3d8f13a24da3ab13bf20986b88a9",
        "IPY_MODEL_75499814498e47168095f8b433142a23",
        "IPY_MODEL_f4d16ea2ad314672b68e1df55a21b371",
        "IPY_MODEL_03d61a339e2442fd9fec96d3e6ded859",
        "IPY_MODEL_5833ce4875a2428ebd0478def7594de6",
        "IPY_MODEL_e9e7beb07cc248609045480ba8cb091f"
       ],
       "layout": "IPY_MODEL_8b8b4c77cf37477ab4c57589de4dbd83"
      }
     },
     "5eca6361f764448f9f179d9bdf744f62": {
      "model_module": "@jupyter-widgets/controls",
      "model_module_version": "1.5.0",
      "model_name": "ButtonModel",
      "state": {
       "button_style": "info",
       "layout": "IPY_MODEL_3745c01a38924a8eb3851e7a0b50dd6d",
       "style": "IPY_MODEL_bfedb1e801684e1297adaa3b59b9d7a6"
      }
     },
     "5f575b70dd4d46488255913288481695": {
      "model_module": "@jupyter-widgets/controls",
      "model_module_version": "1.5.0",
      "model_name": "ButtonModel",
      "state": {
       "button_style": "info",
       "layout": "IPY_MODEL_0c02b15ff0eb44239c1eca628cb05dc5",
       "style": "IPY_MODEL_d3e96aae2f4f451abb5a48757ac9290f"
      }
     },
     "5ff390151a464211902125e6402d3180": {
      "model_module": "@jupyter-widgets/controls",
      "model_module_version": "1.5.0",
      "model_name": "ButtonStyleModel",
      "state": {}
     },
     "6007345009f74d8ea08116243fe148c3": {
      "model_module": "@jupyter-widgets/controls",
      "model_module_version": "1.5.0",
      "model_name": "GridBoxModel",
      "state": {
       "layout": "IPY_MODEL_f4a28102dfdc42148dad6a037c2eaa9a"
      }
     },
     "6090b6d408b2472798a3399f5c85d37d": {
      "model_module": "@jupyter-widgets/controls",
      "model_module_version": "1.5.0",
      "model_name": "GridBoxModel",
      "state": {
       "children": [
        "IPY_MODEL_fff92c78c23f40f49df9d36fee1bd502",
        "IPY_MODEL_e2d6a54c19314617b23d5c688277827e",
        "IPY_MODEL_5f575b70dd4d46488255913288481695",
        "IPY_MODEL_a0a327d00d554305a593e3a69500d466",
        "IPY_MODEL_b85c2ccc25b0478da9925f61ae3bda54",
        "IPY_MODEL_d0fb2fbfd50c40f9a1316b8f9461662c",
        "IPY_MODEL_0af73817009d4298bb848962718312c1",
        "IPY_MODEL_6a7a6515942c4ddf84a105d21d43b0db"
       ],
       "layout": "IPY_MODEL_ff1b01cabfb340078a0d6ba90c52421f"
      }
     },
     "61171a78485b4971a2815e2565a86215": {
      "model_module": "@jupyter-widgets/base",
      "model_module_version": "1.2.0",
      "model_name": "LayoutModel",
      "state": {}
     },
     "61bbe74bea534d52b8d8eda8ba910206": {
      "model_module": "@jupyter-widgets/base",
      "model_module_version": "1.2.0",
      "model_name": "LayoutModel",
      "state": {
       "grid_area": "widget001"
      }
     },
     "61eb5d1819d144138ebf4f24dd4552c9": {
      "model_module": "@jupyter-widgets/controls",
      "model_module_version": "1.5.0",
      "model_name": "ButtonModel",
      "state": {
       "button_style": "info",
       "layout": "IPY_MODEL_070abd0be3cf42e6a1e7f5452c8cba4c",
       "style": "IPY_MODEL_fe6b0d9225be4722a0b875e4814ce9a9"
      }
     },
     "61ef6b9b86cc4a089d1be04877a42005": {
      "model_module": "@jupyter-widgets/controls",
      "model_module_version": "1.5.0",
      "model_name": "GridBoxModel",
      "state": {
       "children": [
        "IPY_MODEL_66454a00912d4a29b4a3209e1f4cc6d9",
        "IPY_MODEL_876e8ae8ef3d4398b737cef4c6d24844"
       ],
       "layout": "IPY_MODEL_1f75bf2572df4c159c8dd1f8aa3732df"
      }
     },
     "62c914d9e9404e6c9e354ffeb7dcdca6": {
      "model_module": "@jupyter-widgets/base",
      "model_module_version": "1.2.0",
      "model_name": "LayoutModel",
      "state": {
       "grid_area": "widget001"
      }
     },
     "6414d91795a243809f718a9ae3dcfecd": {
      "model_module": "@jupyter-widgets/base",
      "model_module_version": "1.2.0",
      "model_name": "LayoutModel",
      "state": {
       "grid_template_areas": "\". widget001 widget001 widget001 widget001 widget001 widget001 widget001 widget001 widget001 widget001 widget001 widget001 widget001 widget001\"\n\"widget002 widget001 widget001 widget001 widget001 widget001 widget001 widget001 widget001 widget001 widget001 widget001 widget001 widget001 widget001\"\n\"widget003 widget001 widget001 widget001 widget001 widget001 widget001 widget001 widget001 widget001 widget001 widget001 widget001 widget001 widget001\"\n\"widget004 widget001 widget001 widget001 widget001 widget001 widget001 widget001 widget001 widget001 widget001 widget001 widget001 widget001 widget001\"\n\"widget005 widget001 widget001 widget001 widget001 widget001 widget001 widget001 widget001 widget001 widget001 widget001 widget001 widget001 widget001\"",
       "grid_template_columns": "repeat(15, 1fr)",
       "grid_template_rows": "repeat(5, 1fr)"
      }
     },
     "64693dfea48b4b1d9b10d169b8252895": {
      "model_module": "@jupyter-widgets/controls",
      "model_module_version": "1.5.0",
      "model_name": "ButtonModel",
      "state": {
       "button_style": "info",
       "layout": "IPY_MODEL_c3ee4f2d835d4e90aa2e37c8356091f6",
       "style": "IPY_MODEL_b3cc203753b747ff8d78c0c4bf6bd9e1"
      }
     },
     "646a5636acce480fb45424572fbc81ad": {
      "model_module": "@jupyter-widgets/base",
      "model_module_version": "1.2.0",
      "model_name": "LayoutModel",
      "state": {
       "grid_area": "widget002"
      }
     },
     "661f7aba80234f73a60047f05a6ab6f9": {
      "model_module": "@jupyter-widgets/controls",
      "model_module_version": "1.5.0",
      "model_name": "ToggleButtonModel",
      "state": {
       "button_style": "info",
       "icon": "check",
       "layout": "IPY_MODEL_2a93833263774ec08dda9dcc69a1d251",
       "style": "IPY_MODEL_1e371937aa8e436aa937c49e264199f0",
       "tooltip": "Hint"
      }
     },
     "66454a00912d4a29b4a3209e1f4cc6d9": {
      "model_module": "@jupyter-widgets/output",
      "model_module_version": "1.0.0",
      "model_name": "OutputModel",
      "state": {
       "layout": "IPY_MODEL_09f28c7e2b274eaca0a17c6c421da404",
       "outputs": [
        {
         "data": {
          "text/markdown": "# Today\n\n",
          "text/plain": "<IPython.core.display.Markdown object>"
         },
         "metadata": {},
         "output_type": "display_data"
        }
       ]
      }
     },
     "67790e6bf3d24f05b5e20daf6de4fd30": {
      "model_module": "@jupyter-widgets/base",
      "model_module_version": "1.2.0",
      "model_name": "LayoutModel",
      "state": {
       "grid_area": "widget004"
      }
     },
     "677b1f17984746b3abbf206af4358a24": {
      "model_module": "@jupyter-widgets/output",
      "model_module_version": "1.0.0",
      "model_name": "OutputModel",
      "state": {
       "layout": "IPY_MODEL_a7d6b24e46dc48b886dc533ec48fa0a5"
      }
     },
     "67af1501cb60489a8efc253d1e9fefb5": {
      "model_module": "@jupyter-widgets/base",
      "model_module_version": "1.2.0",
      "model_name": "LayoutModel",
      "state": {
       "grid_template_areas": "\"widget002 widget001 widget001 widget001 widget001 widget001 widget001 widget001 widget001 widget001 widget001 widget001 widget001 widget001 widget001\"\n\"widget003 widget001 widget001 widget001 widget001 widget001 widget001 widget001 widget001 widget001 widget001 widget001 widget001 widget001 widget001\"\n\"widget004 widget001 widget001 widget001 widget001 widget001 widget001 widget001 widget001 widget001 widget001 widget001 widget001 widget001 widget001\"\n\"widget005 widget001 widget001 widget001 widget001 widget001 widget001 widget001 widget001 widget001 widget001 widget001 widget001 widget001 widget001\"\n\". widget001 widget001 widget001 widget001 widget001 widget001 widget001 widget001 widget001 widget001 widget001 widget001 widget001 widget001\"",
       "grid_template_columns": "repeat(15, 1fr)",
       "grid_template_rows": "repeat(5, 1fr)"
      }
     },
     "68a503d6433b4cf6ae9db9fcbeac3173": {
      "model_module": "@jupyter-widgets/controls",
      "model_module_version": "1.5.0",
      "model_name": "DescriptionStyleModel",
      "state": {
       "description_width": ""
      }
     },
     "6a7a6515942c4ddf84a105d21d43b0db": {
      "model_module": "@jupyter-widgets/output",
      "model_module_version": "1.0.0",
      "model_name": "OutputModel",
      "state": {
       "layout": "IPY_MODEL_8595eef609f043eb9a433e78fda5b3b8",
       "outputs": [
        {
         "data": {
          "text/markdown": "\n1. trolley problems of explanation",
          "text/plain": "<IPython.core.display.Markdown object>"
         },
         "metadata": {},
         "output_type": "display_data"
        }
       ]
      }
     },
     "6b58f415762b4a968fea87ae2fc67778": {
      "model_module": "@jupyter-widgets/base",
      "model_module_version": "1.2.0",
      "model_name": "LayoutModel",
      "state": {
       "grid_area": "widget008"
      }
     },
     "6b7231d684a1439bb30b85c7624ff043": {
      "model_module": "@jupyter-widgets/base",
      "model_module_version": "1.2.0",
      "model_name": "LayoutModel",
      "state": {
       "grid_template_areas": "\"widget002 widget001 widget001 widget001 widget001 widget001 widget001 widget001 widget001 widget001 widget001 widget001 widget001 widget001 widget001\"\n\"widget003 widget001 widget001 widget001 widget001 widget001 widget001 widget001 widget001 widget001 widget001 widget001 widget001 widget001 widget001\"\n\"widget004 widget001 widget001 widget001 widget001 widget001 widget001 widget001 widget001 widget001 widget001 widget001 widget001 widget001 widget001\"\n\"widget005 widget001 widget001 widget001 widget001 widget001 widget001 widget001 widget001 widget001 widget001 widget001 widget001 widget001 widget001\"\n\". widget001 widget001 widget001 widget001 widget001 widget001 widget001 widget001 widget001 widget001 widget001 widget001 widget001 widget001\"",
       "grid_template_columns": "repeat(15, 1fr)",
       "grid_template_rows": "repeat(5, 1fr)"
      }
     },
     "6b89009046fb45179cc7ea23dc3f5bf7": {
      "model_module": "@jupyter-widgets/output",
      "model_module_version": "1.0.0",
      "model_name": "OutputModel",
      "state": {
       "layout": "IPY_MODEL_f779d92aa1c24573818d52fc9952a957",
       "outputs": [
        {
         "data": {
          "text/markdown": "# Today\n\n\n1. Post hoc explanatations overview\n\n1. Deep dive: TCAV for tensorflow\n\n1. Do the tools we have for explanation meet our goals?\n\n1. trolley problems of explanation",
          "text/plain": "<IPython.core.display.Markdown object>"
         },
         "metadata": {},
         "output_type": "display_data"
        }
       ]
      }
     },
     "6c0a472396b943e692c821c7d82e6008": {
      "model_module": "@jupyter-widgets/base",
      "model_module_version": "1.2.0",
      "model_name": "LayoutModel",
      "state": {
       "grid_area": "widget001"
      }
     },
     "6ce54a43cf6b46bea1215f9d6372a48c": {
      "model_module": "@jupyter-widgets/base",
      "model_module_version": "1.2.0",
      "model_name": "LayoutModel",
      "state": {
       "grid_area": "widget006"
      }
     },
     "6e62b20f16ea4c25be2faabcab0f0700": {
      "model_module": "@jupyter-widgets/base",
      "model_module_version": "1.2.0",
      "model_name": "LayoutModel",
      "state": {
       "grid_area": "widget002"
      }
     },
     "6eebf72df07b40d1866480e0bb417edc": {
      "model_module": "@jupyter-widgets/controls",
      "model_module_version": "1.5.0",
      "model_name": "DescriptionStyleModel",
      "state": {
       "description_width": ""
      }
     },
     "704321abf79a42ec9c37c21b6214748c": {
      "model_module": "@jupyter-widgets/controls",
      "model_module_version": "1.5.0",
      "model_name": "DescriptionStyleModel",
      "state": {
       "description_width": ""
      }
     },
     "705769aa30204855b43e2e3c5446a8f2": {
      "model_module": "@jupyter-widgets/controls",
      "model_module_version": "1.5.0",
      "model_name": "ButtonStyleModel",
      "state": {}
     },
     "707face44a3f47a2894ca878aa10ed8d": {
      "model_module": "@jupyter-widgets/base",
      "model_module_version": "1.2.0",
      "model_name": "LayoutModel",
      "state": {
       "grid_area": "widget003"
      }
     },
     "708f558134ef427d8dc1ac520d97b46f": {
      "model_module": "@jupyter-widgets/output",
      "model_module_version": "1.0.0",
      "model_name": "OutputModel",
      "state": {
       "layout": "IPY_MODEL_56e3a174cd244e6b864446eb7111839b",
       "outputs": [
        {
         "data": {
          "text/markdown": "\n1. Do the tools we have for explanation meet our goals?\n",
          "text/plain": "<IPython.core.display.Markdown object>"
         },
         "metadata": {},
         "output_type": "display_data"
        }
       ]
      }
     },
     "75499814498e47168095f8b433142a23": {
      "model_module": "@jupyter-widgets/output",
      "model_module_version": "1.0.0",
      "model_name": "OutputModel",
      "state": {
       "layout": "IPY_MODEL_67790e6bf3d24f05b5e20daf6de4fd30",
       "outputs": [
        {
         "data": {
          "text/markdown": "\n1. Deep dive: TCAV for tensorflow\n",
          "text/plain": "<IPython.core.display.Markdown object>"
         },
         "metadata": {},
         "output_type": "display_data"
        }
       ]
      }
     },
     "767bc2f561aa4e778634782947105877": {
      "model_module": "@jupyter-widgets/base",
      "model_module_version": "1.2.0",
      "model_name": "LayoutModel",
      "state": {
       "grid_area": "widget004"
      }
     },
     "76a9ed6a74bf4f1a9489a499c21b4d3a": {
      "model_module": "@jupyter-widgets/controls",
      "model_module_version": "1.5.0",
      "model_name": "ButtonModel",
      "state": {
       "button_style": "info",
       "layout": "IPY_MODEL_f73c0249bb974a92b2271a33f5852045",
       "style": "IPY_MODEL_0a657a318d1b48dfa81a214d490d510d"
      }
     },
     "777538aa59bf48c5891001d89eed7b54": {
      "model_module": "@jupyter-widgets/controls",
      "model_module_version": "1.5.0",
      "model_name": "ButtonModel",
      "state": {
       "button_style": "info",
       "layout": "IPY_MODEL_ab25dd1cf65243eb80c740c56ebc1500",
       "style": "IPY_MODEL_bb77817612c74205861d8fc32718f5aa"
      }
     },
     "77e7138eaf5b43bd917da22bf33693fc": {
      "model_module": "@jupyter-widgets/controls",
      "model_module_version": "1.5.0",
      "model_name": "ToggleButtonModel",
      "state": {
       "button_style": "info",
       "icon": "check",
       "layout": "IPY_MODEL_9513002387ef46b8bd3e196231c8daac",
       "style": "IPY_MODEL_c65c045ce2e946839efd98267da5264a",
       "tooltip": "Hint"
      }
     },
     "797ed04759a54e458cb866a03662988e": {
      "model_module": "@jupyter-widgets/controls",
      "model_module_version": "1.5.0",
      "model_name": "ButtonStyleModel",
      "state": {}
     },
     "79fdc19438bd44d9bdf77de8f2a49785": {
      "model_module": "@jupyter-widgets/controls",
      "model_module_version": "1.5.0",
      "model_name": "DescriptionStyleModel",
      "state": {
       "description_width": ""
      }
     },
     "7a0044422a914d0f9fe936a85571bba4": {
      "model_module": "@jupyter-widgets/controls",
      "model_module_version": "1.5.0",
      "model_name": "ToggleButtonModel",
      "state": {
       "button_style": "info",
       "icon": "check",
       "layout": "IPY_MODEL_34b30e5576444ba49f1aeaf02f861df9",
       "style": "IPY_MODEL_b7465eaf8fda484f976de0255162fe64",
       "tooltip": "Hint",
       "value": true
      }
     },
     "7a3499790f114cc3a7807dee392815df": {
      "model_module": "@jupyter-widgets/controls",
      "model_module_version": "1.5.0",
      "model_name": "GridBoxModel",
      "state": {
       "children": [
        "IPY_MODEL_be98a7ff8d714976924c2c9314a460bc",
        "IPY_MODEL_2e0c78599ce6420db625f2b82fc08322",
        "IPY_MODEL_cfe0ca0c88de441d84edf17e1529fe84",
        "IPY_MODEL_3a5726ec324e4565a0ee736752d37a14",
        "IPY_MODEL_61eb5d1819d144138ebf4f24dd4552c9",
        "IPY_MODEL_b279f985335b48dcb8e8dbd187f31668",
        "IPY_MODEL_335eecb4832444a783fcb4b6fe56f139",
        "IPY_MODEL_b05b0668cd8e4ade85212db33a260dc2"
       ],
       "layout": "IPY_MODEL_8289a38eafd74a01b6ba44758d8236a5"
      }
     },
     "7c29409436304705b8a90213a651f425": {
      "model_module": "@jupyter-widgets/base",
      "model_module_version": "1.2.0",
      "model_name": "LayoutModel",
      "state": {
       "grid_area": "widget002"
      }
     },
     "7c5a61a227ae47079a733bc5b25d0bef": {
      "model_module": "@jupyter-widgets/base",
      "model_module_version": "1.2.0",
      "model_name": "LayoutModel",
      "state": {
       "grid_area": "widget005",
       "height": "auto",
       "width": "auto"
      }
     },
     "7ecb6fd4cb3b43f48b2d12ad476c2194": {
      "model_module": "@jupyter-widgets/controls",
      "model_module_version": "1.5.0",
      "model_name": "DescriptionStyleModel",
      "state": {
       "description_width": ""
      }
     },
     "7ef4cf51d5bf4855aa3178b00d46d73b": {
      "model_module": "@jupyter-widgets/output",
      "model_module_version": "1.0.0",
      "model_name": "OutputModel",
      "state": {
       "layout": "IPY_MODEL_ee14da7e35d24a7b95c330fd41483623"
      }
     },
     "7f10ac36786f465cad3e8a14f6d97218": {
      "model_module": "@jupyter-widgets/controls",
      "model_module_version": "1.5.0",
      "model_name": "ButtonModel",
      "state": {
       "button_style": "info",
       "layout": "IPY_MODEL_4571dc42302845b0840421de1f4b4db0",
       "style": "IPY_MODEL_ac0380f37d7f4858b737a9f7c148d1e8"
      }
     },
     "80326be4c8244d2fb0bd05cd9f57342a": {
      "model_module": "@jupyter-widgets/base",
      "model_module_version": "1.2.0",
      "model_name": "LayoutModel",
      "state": {
       "grid_area": "widget007",
       "height": "auto",
       "width": "auto"
      }
     },
     "822a130d46154bd39fd6a496bb03f211": {
      "model_module": "@jupyter-widgets/base",
      "model_module_version": "1.2.0",
      "model_name": "LayoutModel",
      "state": {
       "grid_area": "widget005"
      }
     },
     "824c5172569340eeb44d2e9e279dac69": {
      "model_module": "@jupyter-widgets/base",
      "model_module_version": "1.2.0",
      "model_name": "LayoutModel",
      "state": {
       "grid_area": "widget002"
      }
     },
     "825d62f9cee8406e9f0ef82fbe338f2f": {
      "model_module": "@jupyter-widgets/controls",
      "model_module_version": "1.5.0",
      "model_name": "DescriptionStyleModel",
      "state": {
       "description_width": ""
      }
     },
     "8289a38eafd74a01b6ba44758d8236a5": {
      "model_module": "@jupyter-widgets/base",
      "model_module_version": "1.2.0",
      "model_name": "LayoutModel",
      "state": {
       "grid_template_areas": "\"widget001 widget002 widget002 widget002 widget002 widget002 widget002 widget002 widget002 widget002 widget002 widget002 widget002 widget002 widget002\"\n\"widget003 widget004 widget004 widget004 widget004 widget004 widget004 widget004 widget004 widget004 widget004 widget004 widget004 widget004 widget004\"\n\"widget005 widget006 widget006 widget006 widget006 widget006 widget006 widget006 widget006 widget006 widget006 widget006 widget006 widget006 widget006\"\n\"widget007 widget008 widget008 widget008 widget008 widget008 widget008 widget008 widget008 widget008 widget008 widget008 widget008 widget008 widget008\"",
       "grid_template_columns": "repeat(15, 1fr)",
       "grid_template_rows": "repeat(4, 1fr)"
      }
     },
     "82bdf48fee414392aac923c9176aa589": {
      "model_module": "@jupyter-widgets/controls",
      "model_module_version": "1.5.0",
      "model_name": "ToggleButtonModel",
      "state": {
       "button_style": "info",
       "icon": "check",
       "layout": "IPY_MODEL_9e45ed4593d246c5847291fce138bdca",
       "style": "IPY_MODEL_8f2b072902d24993bb426bd183936d46",
       "tooltip": "Hint"
      }
     },
     "830d965f04ac469abbbdd910240585b9": {
      "model_module": "@jupyter-widgets/controls",
      "model_module_version": "1.5.0",
      "model_name": "ButtonStyleModel",
      "state": {}
     },
     "840d66adac8647c990c3e120e72d4b8c": {
      "model_module": "@jupyter-widgets/controls",
      "model_module_version": "1.5.0",
      "model_name": "DescriptionStyleModel",
      "state": {
       "description_width": ""
      }
     },
     "842345c945ee46a28c42ec53e90c2275": {
      "model_module": "@jupyter-widgets/base",
      "model_module_version": "1.2.0",
      "model_name": "LayoutModel",
      "state": {
       "grid_area": "widget001",
       "height": "auto",
       "width": "auto"
      }
     },
     "84ce4e3080ae48e7ab05d12bd59d80f1": {
      "model_module": "@jupyter-widgets/base",
      "model_module_version": "1.2.0",
      "model_name": "LayoutModel",
      "state": {
       "grid_area": "widget002"
      }
     },
     "84f75594f3534f87b7478f1c4484448d": {
      "model_module": "@jupyter-widgets/base",
      "model_module_version": "1.2.0",
      "model_name": "LayoutModel",
      "state": {
       "grid_area": "widget002"
      }
     },
     "85508cb752e04891a4689c617f01ac2c": {
      "model_module": "@jupyter-widgets/controls",
      "model_module_version": "1.5.0",
      "model_name": "GridBoxModel",
      "state": {
       "children": [
        "IPY_MODEL_64693dfea48b4b1d9b10d169b8252895",
        "IPY_MODEL_101377dcaf0f4bcaa0e67b621e061272",
        "IPY_MODEL_3d43f082326941998f7b72fc2d536be8",
        "IPY_MODEL_1c723266ad0b49d1adc1525ec9bf00bd",
        "IPY_MODEL_2d440fadebe6449fb2d57f014687c0c4",
        "IPY_MODEL_bdfc17cf7997453da20b7ceb20528236",
        "IPY_MODEL_42ece269aa854608bb2e9bb12be65a89",
        "IPY_MODEL_45a8e5b002d34a69924ebf46d2a24688"
       ],
       "layout": "IPY_MODEL_c929e70ae93f44409614b07e50c250b0"
      }
     },
     "8595eef609f043eb9a433e78fda5b3b8": {
      "model_module": "@jupyter-widgets/base",
      "model_module_version": "1.2.0",
      "model_name": "LayoutModel",
      "state": {
       "grid_area": "widget008"
      }
     },
     "87496272da14463fb4e54aaffcb4e37f": {
      "model_module": "@jupyter-widgets/output",
      "model_module_version": "1.0.0",
      "model_name": "OutputModel",
      "state": {
       "layout": "IPY_MODEL_900d4b3f038344db86c7e2f2d67e8291",
       "outputs": [
        {
         "data": {
          "text/markdown": "# Today\n\n",
          "text/plain": "<IPython.core.display.Markdown object>"
         },
         "metadata": {},
         "output_type": "display_data"
        },
        {
         "ename": "TypeError",
         "evalue": "Markdown expects text, not [0, []]",
         "output_type": "error",
         "traceback": [
          "\u001b[0;31m---------------------------------------------------------------------------\u001b[0m",
          "\u001b[0;31mTypeError\u001b[0m                                 Traceback (most recent call last)",
          "\u001b[0;32m<ipython-input-69-34bebb620994>\u001b[0m in \u001b[0;36mreveal\u001b[0;34m(b)\u001b[0m\n\u001b[1;32m     16\u001b[0m     \u001b[0mcur_lines\u001b[0m\u001b[0;34m.\u001b[0m\u001b[0mappend\u001b[0m\u001b[0;34m(\u001b[0m\u001b[0;34m[\u001b[0m\u001b[0mi\u001b[0m\u001b[0;34m+\u001b[0m\u001b[0mfixed_len\u001b[0m \u001b[0;32mfor\u001b[0m \u001b[0mi\u001b[0m\u001b[0;34m,\u001b[0m\u001b[0mbt\u001b[0m \u001b[0;32min\u001b[0m \u001b[0menumerate\u001b[0m\u001b[0;34m(\u001b[0m\u001b[0mbutton\u001b[0m\u001b[0;34m)\u001b[0m \u001b[0;32mif\u001b[0m \u001b[0mbt\u001b[0m\u001b[0;34m.\u001b[0m\u001b[0mvalue\u001b[0m\u001b[0;34m]\u001b[0m\u001b[0;34m)\u001b[0m\u001b[0;34m\u001b[0m\u001b[0m\n\u001b[1;32m     17\u001b[0m     \u001b[0;32mwith\u001b[0m \u001b[0mslide_display\u001b[0m\u001b[0;34m:\u001b[0m\u001b[0;34m\u001b[0m\u001b[0m\n\u001b[0;32m---> 18\u001b[0;31m         \u001b[0mdisplay\u001b[0m\u001b[0;34m(\u001b[0m\u001b[0mMarkdown\u001b[0m\u001b[0;34m(\u001b[0m\u001b[0mcur_lines\u001b[0m\u001b[0;34m)\u001b[0m\u001b[0;34m)\u001b[0m\u001b[0;34m\u001b[0m\u001b[0m\n\u001b[0m\u001b[1;32m     19\u001b[0m \u001b[0;31m#         display(Markdown(''.join([cur_slide[l] for l in cur_lines])))\u001b[0m\u001b[0;34m\u001b[0m\u001b[0;34m\u001b[0m\u001b[0m\n\u001b[1;32m     20\u001b[0m \u001b[0;34m\u001b[0m\u001b[0m\n",
          "\u001b[0;32m~/anaconda3/lib/python3.6/site-packages/IPython/core/display.py\u001b[0m in \u001b[0;36m__init__\u001b[0;34m(self, data, url, filename, metadata)\u001b[0m\n\u001b[1;32m    607\u001b[0m \u001b[0;34m\u001b[0m\u001b[0m\n\u001b[1;32m    608\u001b[0m         \u001b[0mself\u001b[0m\u001b[0;34m.\u001b[0m\u001b[0mreload\u001b[0m\u001b[0;34m(\u001b[0m\u001b[0;34m)\u001b[0m\u001b[0;34m\u001b[0m\u001b[0m\n\u001b[0;32m--> 609\u001b[0;31m         \u001b[0mself\u001b[0m\u001b[0;34m.\u001b[0m\u001b[0m_check_data\u001b[0m\u001b[0;34m(\u001b[0m\u001b[0;34m)\u001b[0m\u001b[0;34m\u001b[0m\u001b[0m\n\u001b[0m\u001b[1;32m    610\u001b[0m \u001b[0;34m\u001b[0m\u001b[0m\n\u001b[1;32m    611\u001b[0m     \u001b[0;32mdef\u001b[0m \u001b[0m__repr__\u001b[0m\u001b[0;34m(\u001b[0m\u001b[0mself\u001b[0m\u001b[0;34m)\u001b[0m\u001b[0;34m:\u001b[0m\u001b[0;34m\u001b[0m\u001b[0m\n",
          "\u001b[0;32m~/anaconda3/lib/python3.6/site-packages/IPython/core/display.py\u001b[0m in \u001b[0;36m_check_data\u001b[0;34m(self)\u001b[0m\n\u001b[1;32m    656\u001b[0m     \u001b[0;32mdef\u001b[0m \u001b[0m_check_data\u001b[0m\u001b[0;34m(\u001b[0m\u001b[0mself\u001b[0m\u001b[0;34m)\u001b[0m\u001b[0;34m:\u001b[0m\u001b[0;34m\u001b[0m\u001b[0m\n\u001b[1;32m    657\u001b[0m         \u001b[0;32mif\u001b[0m \u001b[0mself\u001b[0m\u001b[0;34m.\u001b[0m\u001b[0mdata\u001b[0m \u001b[0;32mis\u001b[0m \u001b[0;32mnot\u001b[0m \u001b[0;32mNone\u001b[0m \u001b[0;32mand\u001b[0m \u001b[0;32mnot\u001b[0m \u001b[0misinstance\u001b[0m\u001b[0;34m(\u001b[0m\u001b[0mself\u001b[0m\u001b[0;34m.\u001b[0m\u001b[0mdata\u001b[0m\u001b[0;34m,\u001b[0m \u001b[0mstr\u001b[0m\u001b[0;34m)\u001b[0m\u001b[0;34m:\u001b[0m\u001b[0;34m\u001b[0m\u001b[0m\n\u001b[0;32m--> 658\u001b[0;31m             \u001b[0;32mraise\u001b[0m \u001b[0mTypeError\u001b[0m\u001b[0;34m(\u001b[0m\u001b[0;34m\"%s expects text, not %r\"\u001b[0m \u001b[0;34m%\u001b[0m \u001b[0;34m(\u001b[0m\u001b[0mself\u001b[0m\u001b[0;34m.\u001b[0m\u001b[0m__class__\u001b[0m\u001b[0;34m.\u001b[0m\u001b[0m__name__\u001b[0m\u001b[0;34m,\u001b[0m \u001b[0mself\u001b[0m\u001b[0;34m.\u001b[0m\u001b[0mdata\u001b[0m\u001b[0;34m)\u001b[0m\u001b[0;34m)\u001b[0m\u001b[0;34m\u001b[0m\u001b[0m\n\u001b[0m\u001b[1;32m    659\u001b[0m \u001b[0;34m\u001b[0m\u001b[0m\n\u001b[1;32m    660\u001b[0m \u001b[0;32mclass\u001b[0m \u001b[0mPretty\u001b[0m\u001b[0;34m(\u001b[0m\u001b[0mTextDisplayObject\u001b[0m\u001b[0;34m)\u001b[0m\u001b[0;34m:\u001b[0m\u001b[0;34m\u001b[0m\u001b[0m\n",
          "\u001b[0;31mTypeError\u001b[0m: Markdown expects text, not [0, []]"
         ]
        },
        {
         "ename": "TypeError",
         "evalue": "Markdown expects text, not [0, [3]]",
         "output_type": "error",
         "traceback": [
          "\u001b[0;31m---------------------------------------------------------------------------\u001b[0m",
          "\u001b[0;31mTypeError\u001b[0m                                 Traceback (most recent call last)",
          "\u001b[0;32m<ipython-input-69-34bebb620994>\u001b[0m in \u001b[0;36mreveal\u001b[0;34m(b)\u001b[0m\n\u001b[1;32m     16\u001b[0m     \u001b[0mcur_lines\u001b[0m\u001b[0;34m.\u001b[0m\u001b[0mappend\u001b[0m\u001b[0;34m(\u001b[0m\u001b[0;34m[\u001b[0m\u001b[0mi\u001b[0m\u001b[0;34m+\u001b[0m\u001b[0mfixed_len\u001b[0m \u001b[0;32mfor\u001b[0m \u001b[0mi\u001b[0m\u001b[0;34m,\u001b[0m\u001b[0mbt\u001b[0m \u001b[0;32min\u001b[0m \u001b[0menumerate\u001b[0m\u001b[0;34m(\u001b[0m\u001b[0mbutton\u001b[0m\u001b[0;34m)\u001b[0m \u001b[0;32mif\u001b[0m \u001b[0mbt\u001b[0m\u001b[0;34m.\u001b[0m\u001b[0mvalue\u001b[0m\u001b[0;34m]\u001b[0m\u001b[0;34m)\u001b[0m\u001b[0;34m\u001b[0m\u001b[0m\n\u001b[1;32m     17\u001b[0m     \u001b[0;32mwith\u001b[0m \u001b[0mslide_display\u001b[0m\u001b[0;34m:\u001b[0m\u001b[0;34m\u001b[0m\u001b[0m\n\u001b[0;32m---> 18\u001b[0;31m         \u001b[0mdisplay\u001b[0m\u001b[0;34m(\u001b[0m\u001b[0mMarkdown\u001b[0m\u001b[0;34m(\u001b[0m\u001b[0mcur_lines\u001b[0m\u001b[0;34m)\u001b[0m\u001b[0;34m)\u001b[0m\u001b[0;34m\u001b[0m\u001b[0m\n\u001b[0m\u001b[1;32m     19\u001b[0m \u001b[0;31m#         display(Markdown(''.join([cur_slide[l] for l in cur_lines])))\u001b[0m\u001b[0;34m\u001b[0m\u001b[0;34m\u001b[0m\u001b[0m\n\u001b[1;32m     20\u001b[0m \u001b[0;34m\u001b[0m\u001b[0m\n",
          "\u001b[0;32m~/anaconda3/lib/python3.6/site-packages/IPython/core/display.py\u001b[0m in \u001b[0;36m__init__\u001b[0;34m(self, data, url, filename, metadata)\u001b[0m\n\u001b[1;32m    607\u001b[0m \u001b[0;34m\u001b[0m\u001b[0m\n\u001b[1;32m    608\u001b[0m         \u001b[0mself\u001b[0m\u001b[0;34m.\u001b[0m\u001b[0mreload\u001b[0m\u001b[0;34m(\u001b[0m\u001b[0;34m)\u001b[0m\u001b[0;34m\u001b[0m\u001b[0m\n\u001b[0;32m--> 609\u001b[0;31m         \u001b[0mself\u001b[0m\u001b[0;34m.\u001b[0m\u001b[0m_check_data\u001b[0m\u001b[0;34m(\u001b[0m\u001b[0;34m)\u001b[0m\u001b[0;34m\u001b[0m\u001b[0m\n\u001b[0m\u001b[1;32m    610\u001b[0m \u001b[0;34m\u001b[0m\u001b[0m\n\u001b[1;32m    611\u001b[0m     \u001b[0;32mdef\u001b[0m \u001b[0m__repr__\u001b[0m\u001b[0;34m(\u001b[0m\u001b[0mself\u001b[0m\u001b[0;34m)\u001b[0m\u001b[0;34m:\u001b[0m\u001b[0;34m\u001b[0m\u001b[0m\n",
          "\u001b[0;32m~/anaconda3/lib/python3.6/site-packages/IPython/core/display.py\u001b[0m in \u001b[0;36m_check_data\u001b[0;34m(self)\u001b[0m\n\u001b[1;32m    656\u001b[0m     \u001b[0;32mdef\u001b[0m \u001b[0m_check_data\u001b[0m\u001b[0;34m(\u001b[0m\u001b[0mself\u001b[0m\u001b[0;34m)\u001b[0m\u001b[0;34m:\u001b[0m\u001b[0;34m\u001b[0m\u001b[0m\n\u001b[1;32m    657\u001b[0m         \u001b[0;32mif\u001b[0m \u001b[0mself\u001b[0m\u001b[0;34m.\u001b[0m\u001b[0mdata\u001b[0m \u001b[0;32mis\u001b[0m \u001b[0;32mnot\u001b[0m \u001b[0;32mNone\u001b[0m \u001b[0;32mand\u001b[0m \u001b[0;32mnot\u001b[0m \u001b[0misinstance\u001b[0m\u001b[0;34m(\u001b[0m\u001b[0mself\u001b[0m\u001b[0;34m.\u001b[0m\u001b[0mdata\u001b[0m\u001b[0;34m,\u001b[0m \u001b[0mstr\u001b[0m\u001b[0;34m)\u001b[0m\u001b[0;34m:\u001b[0m\u001b[0;34m\u001b[0m\u001b[0m\n\u001b[0;32m--> 658\u001b[0;31m             \u001b[0;32mraise\u001b[0m \u001b[0mTypeError\u001b[0m\u001b[0;34m(\u001b[0m\u001b[0;34m\"%s expects text, not %r\"\u001b[0m \u001b[0;34m%\u001b[0m \u001b[0;34m(\u001b[0m\u001b[0mself\u001b[0m\u001b[0;34m.\u001b[0m\u001b[0m__class__\u001b[0m\u001b[0;34m.\u001b[0m\u001b[0m__name__\u001b[0m\u001b[0;34m,\u001b[0m \u001b[0mself\u001b[0m\u001b[0;34m.\u001b[0m\u001b[0mdata\u001b[0m\u001b[0;34m)\u001b[0m\u001b[0;34m)\u001b[0m\u001b[0;34m\u001b[0m\u001b[0m\n\u001b[0m\u001b[1;32m    659\u001b[0m \u001b[0;34m\u001b[0m\u001b[0m\n\u001b[1;32m    660\u001b[0m \u001b[0;32mclass\u001b[0m \u001b[0mPretty\u001b[0m\u001b[0;34m(\u001b[0m\u001b[0mTextDisplayObject\u001b[0m\u001b[0;34m)\u001b[0m\u001b[0;34m:\u001b[0m\u001b[0;34m\u001b[0m\u001b[0m\n",
          "\u001b[0;31mTypeError\u001b[0m: Markdown expects text, not [0, [3]]"
         ]
        },
        {
         "ename": "TypeError",
         "evalue": "Markdown expects text, not [0, [3]]",
         "output_type": "error",
         "traceback": [
          "\u001b[0;31m---------------------------------------------------------------------------\u001b[0m",
          "\u001b[0;31mTypeError\u001b[0m                                 Traceback (most recent call last)",
          "\u001b[0;32m<ipython-input-69-34bebb620994>\u001b[0m in \u001b[0;36mreveal\u001b[0;34m(b)\u001b[0m\n\u001b[1;32m     16\u001b[0m     \u001b[0mcur_lines\u001b[0m\u001b[0;34m.\u001b[0m\u001b[0mappend\u001b[0m\u001b[0;34m(\u001b[0m\u001b[0;34m[\u001b[0m\u001b[0mi\u001b[0m\u001b[0;34m+\u001b[0m\u001b[0mfixed_len\u001b[0m \u001b[0;32mfor\u001b[0m \u001b[0mi\u001b[0m\u001b[0;34m,\u001b[0m\u001b[0mbt\u001b[0m \u001b[0;32min\u001b[0m \u001b[0menumerate\u001b[0m\u001b[0;34m(\u001b[0m\u001b[0mbutton\u001b[0m\u001b[0;34m)\u001b[0m \u001b[0;32mif\u001b[0m \u001b[0mbt\u001b[0m\u001b[0;34m.\u001b[0m\u001b[0mvalue\u001b[0m\u001b[0;34m]\u001b[0m\u001b[0;34m)\u001b[0m\u001b[0;34m\u001b[0m\u001b[0m\n\u001b[1;32m     17\u001b[0m     \u001b[0;32mwith\u001b[0m \u001b[0mslide_display\u001b[0m\u001b[0;34m:\u001b[0m\u001b[0;34m\u001b[0m\u001b[0m\n\u001b[0;32m---> 18\u001b[0;31m         \u001b[0mdisplay\u001b[0m\u001b[0;34m(\u001b[0m\u001b[0mMarkdown\u001b[0m\u001b[0;34m(\u001b[0m\u001b[0mcur_lines\u001b[0m\u001b[0;34m)\u001b[0m\u001b[0;34m)\u001b[0m\u001b[0;34m\u001b[0m\u001b[0m\n\u001b[0m\u001b[1;32m     19\u001b[0m \u001b[0;31m#         display(Markdown(''.join([cur_slide[l] for l in cur_lines])))\u001b[0m\u001b[0;34m\u001b[0m\u001b[0;34m\u001b[0m\u001b[0m\n\u001b[1;32m     20\u001b[0m \u001b[0;34m\u001b[0m\u001b[0m\n",
          "\u001b[0;32m~/anaconda3/lib/python3.6/site-packages/IPython/core/display.py\u001b[0m in \u001b[0;36m__init__\u001b[0;34m(self, data, url, filename, metadata)\u001b[0m\n\u001b[1;32m    607\u001b[0m \u001b[0;34m\u001b[0m\u001b[0m\n\u001b[1;32m    608\u001b[0m         \u001b[0mself\u001b[0m\u001b[0;34m.\u001b[0m\u001b[0mreload\u001b[0m\u001b[0;34m(\u001b[0m\u001b[0;34m)\u001b[0m\u001b[0;34m\u001b[0m\u001b[0m\n\u001b[0;32m--> 609\u001b[0;31m         \u001b[0mself\u001b[0m\u001b[0;34m.\u001b[0m\u001b[0m_check_data\u001b[0m\u001b[0;34m(\u001b[0m\u001b[0;34m)\u001b[0m\u001b[0;34m\u001b[0m\u001b[0m\n\u001b[0m\u001b[1;32m    610\u001b[0m \u001b[0;34m\u001b[0m\u001b[0m\n\u001b[1;32m    611\u001b[0m     \u001b[0;32mdef\u001b[0m \u001b[0m__repr__\u001b[0m\u001b[0;34m(\u001b[0m\u001b[0mself\u001b[0m\u001b[0;34m)\u001b[0m\u001b[0;34m:\u001b[0m\u001b[0;34m\u001b[0m\u001b[0m\n",
          "\u001b[0;32m~/anaconda3/lib/python3.6/site-packages/IPython/core/display.py\u001b[0m in \u001b[0;36m_check_data\u001b[0;34m(self)\u001b[0m\n\u001b[1;32m    656\u001b[0m     \u001b[0;32mdef\u001b[0m \u001b[0m_check_data\u001b[0m\u001b[0;34m(\u001b[0m\u001b[0mself\u001b[0m\u001b[0;34m)\u001b[0m\u001b[0;34m:\u001b[0m\u001b[0;34m\u001b[0m\u001b[0m\n\u001b[1;32m    657\u001b[0m         \u001b[0;32mif\u001b[0m \u001b[0mself\u001b[0m\u001b[0;34m.\u001b[0m\u001b[0mdata\u001b[0m \u001b[0;32mis\u001b[0m \u001b[0;32mnot\u001b[0m \u001b[0;32mNone\u001b[0m \u001b[0;32mand\u001b[0m \u001b[0;32mnot\u001b[0m \u001b[0misinstance\u001b[0m\u001b[0;34m(\u001b[0m\u001b[0mself\u001b[0m\u001b[0;34m.\u001b[0m\u001b[0mdata\u001b[0m\u001b[0;34m,\u001b[0m \u001b[0mstr\u001b[0m\u001b[0;34m)\u001b[0m\u001b[0;34m:\u001b[0m\u001b[0;34m\u001b[0m\u001b[0m\n\u001b[0;32m--> 658\u001b[0;31m             \u001b[0;32mraise\u001b[0m \u001b[0mTypeError\u001b[0m\u001b[0;34m(\u001b[0m\u001b[0;34m\"%s expects text, not %r\"\u001b[0m \u001b[0;34m%\u001b[0m \u001b[0;34m(\u001b[0m\u001b[0mself\u001b[0m\u001b[0;34m.\u001b[0m\u001b[0m__class__\u001b[0m\u001b[0;34m.\u001b[0m\u001b[0m__name__\u001b[0m\u001b[0;34m,\u001b[0m \u001b[0mself\u001b[0m\u001b[0;34m.\u001b[0m\u001b[0mdata\u001b[0m\u001b[0;34m)\u001b[0m\u001b[0;34m)\u001b[0m\u001b[0;34m\u001b[0m\u001b[0m\n\u001b[0m\u001b[1;32m    659\u001b[0m \u001b[0;34m\u001b[0m\u001b[0m\n\u001b[1;32m    660\u001b[0m \u001b[0;32mclass\u001b[0m \u001b[0mPretty\u001b[0m\u001b[0;34m(\u001b[0m\u001b[0mTextDisplayObject\u001b[0m\u001b[0;34m)\u001b[0m\u001b[0;34m:\u001b[0m\u001b[0;34m\u001b[0m\u001b[0m\n",
          "\u001b[0;31mTypeError\u001b[0m: Markdown expects text, not [0, [3]]"
         ]
        }
       ]
      }
     },
     "876e8ae8ef3d4398b737cef4c6d24844": {
      "model_module": "@jupyter-widgets/controls",
      "model_module_version": "1.5.0",
      "model_name": "ToggleButtonModel",
      "state": {
       "button_style": "info",
       "icon": "check",
       "layout": "IPY_MODEL_c2d2a9dc7dc141528e4935658b9a3c6d",
       "style": "IPY_MODEL_3e42f4ce4d8846fb9b70fd77542b075a",
       "tooltip": "Hint"
      }
     },
     "8833a83896434af99aa86b46ce2d96f2": {
      "model_module": "@jupyter-widgets/controls",
      "model_module_version": "1.5.0",
      "model_name": "ButtonStyleModel",
      "state": {}
     },
     "89dca7b18a8a4675ad3267c64c0e592b": {
      "model_module": "@jupyter-widgets/base",
      "model_module_version": "1.2.0",
      "model_name": "LayoutModel",
      "state": {
       "grid_area": "widget002"
      }
     },
     "8ad01a6fbfb34713a5542db5acb87836": {
      "model_module": "@jupyter-widgets/base",
      "model_module_version": "1.2.0",
      "model_name": "LayoutModel",
      "state": {
       "grid_area": "widget003"
      }
     },
     "8b8b4c77cf37477ab4c57589de4dbd83": {
      "model_module": "@jupyter-widgets/base",
      "model_module_version": "1.2.0",
      "model_name": "LayoutModel",
      "state": {
       "grid_template_areas": "\"widget001 widget002 widget002 widget002 widget002 widget002 widget002 widget002 widget002 widget002 widget002 widget002 widget002 widget002 widget002\"\n\"widget003 widget004 widget004 widget004 widget004 widget004 widget004 widget004 widget004 widget004 widget004 widget004 widget004 widget004 widget004\"\n\"widget005 widget006 widget006 widget006 widget006 widget006 widget006 widget006 widget006 widget006 widget006 widget006 widget006 widget006 widget006\"\n\"widget007 widget008 widget008 widget008 widget008 widget008 widget008 widget008 widget008 widget008 widget008 widget008 widget008 widget008 widget008\"",
       "grid_template_columns": "repeat(15, 1fr)",
       "grid_template_rows": "repeat(4, 1fr)"
      }
     },
     "8bc1c57337e448cea00b016850aabf01": {
      "model_module": "@jupyter-widgets/controls",
      "model_module_version": "1.5.0",
      "model_name": "ToggleButtonModel",
      "state": {
       "button_style": "info",
       "icon": "check",
       "layout": "IPY_MODEL_da6a1c9e774b41f28fb9daab0e059c8f",
       "style": "IPY_MODEL_840d66adac8647c990c3e120e72d4b8c",
       "tooltip": "Hint",
       "value": true
      }
     },
     "8bf003878f2c432a9ca43ecab92e5f87": {
      "model_module": "@jupyter-widgets/controls",
      "model_module_version": "1.5.0",
      "model_name": "ButtonStyleModel",
      "state": {}
     },
     "8bffd17730f0476b8cf63a3df6d31cd3": {
      "model_module": "@jupyter-widgets/controls",
      "model_module_version": "1.5.0",
      "model_name": "ButtonStyleModel",
      "state": {}
     },
     "8de3a3122cef4e70909c4306cc474de8": {
      "model_module": "@jupyter-widgets/base",
      "model_module_version": "1.2.0",
      "model_name": "LayoutModel",
      "state": {
       "grid_area": "widget003"
      }
     },
     "8e22b733bbe04899a2ca6fa95a931844": {
      "model_module": "@jupyter-widgets/controls",
      "model_module_version": "1.5.0",
      "model_name": "DescriptionStyleModel",
      "state": {
       "description_width": ""
      }
     },
     "8e825f09125241929cc211419038f4ef": {
      "model_module": "@jupyter-widgets/base",
      "model_module_version": "1.2.0",
      "model_name": "LayoutModel",
      "state": {
       "grid_area": "widget002"
      }
     },
     "8f2b072902d24993bb426bd183936d46": {
      "model_module": "@jupyter-widgets/controls",
      "model_module_version": "1.5.0",
      "model_name": "DescriptionStyleModel",
      "state": {
       "description_width": ""
      }
     },
     "8fb6aa3fda5d405e9aa204fc3324845d": {
      "model_module": "@jupyter-widgets/base",
      "model_module_version": "1.2.0",
      "model_name": "LayoutModel",
      "state": {
       "grid_area": "widget001",
       "height": "auto",
       "width": "auto"
      }
     },
     "900d4b3f038344db86c7e2f2d67e8291": {
      "model_module": "@jupyter-widgets/base",
      "model_module_version": "1.2.0",
      "model_name": "LayoutModel",
      "state": {
       "grid_area": "widget001"
      }
     },
     "90ff8777416549c99a83c5e0fa8889c3": {
      "model_module": "@jupyter-widgets/base",
      "model_module_version": "1.2.0",
      "model_name": "LayoutModel",
      "state": {
       "grid_area": "widget002"
      }
     },
     "919e197c25444596ab8f7410922640dd": {
      "model_module": "@jupyter-widgets/base",
      "model_module_version": "1.2.0",
      "model_name": "LayoutModel",
      "state": {
       "grid_area": "widget004"
      }
     },
     "92387fa5dac245cc9c9d2c924d062a16": {
      "model_module": "@jupyter-widgets/controls",
      "model_module_version": "1.5.0",
      "model_name": "ToggleButtonModel",
      "state": {
       "button_style": "info",
       "icon": "check",
       "layout": "IPY_MODEL_067a79dc67fd4ebc8959d9feda5c2dc7",
       "style": "IPY_MODEL_b01174cbf8a34e20afc33f5a6c1af332",
       "tooltip": "Hint"
      }
     },
     "92bd39cb03a642eb995ea37568a75b31": {
      "model_module": "@jupyter-widgets/controls",
      "model_module_version": "1.5.0",
      "model_name": "DescriptionStyleModel",
      "state": {
       "description_width": ""
      }
     },
     "92dcb83dc9894b38bd766a2ee4215509": {
      "model_module": "@jupyter-widgets/controls",
      "model_module_version": "1.5.0",
      "model_name": "ToggleButtonModel",
      "state": {
       "button_style": "info",
       "icon": "check",
       "layout": "IPY_MODEL_acaf124dcc214505989583e1f8050690",
       "style": "IPY_MODEL_56c2d3f06d2f4b90b6d545ff5c2b8fa4",
       "tooltip": "Hint"
      }
     },
     "92fc350501c64314bd2ade131b97e8cd": {
      "model_module": "@jupyter-widgets/base",
      "model_module_version": "1.2.0",
      "model_name": "LayoutModel",
      "state": {
       "grid_area": "widget003"
      }
     },
     "9345cd0e71b743758d32fb49482b1dce": {
      "model_module": "@jupyter-widgets/controls",
      "model_module_version": "1.5.0",
      "model_name": "ButtonModel",
      "state": {
       "button_style": "info",
       "layout": "IPY_MODEL_13993931e485454887de5cdf3a73b580",
       "style": "IPY_MODEL_830d965f04ac469abbbdd910240585b9"
      }
     },
     "9513002387ef46b8bd3e196231c8daac": {
      "model_module": "@jupyter-widgets/base",
      "model_module_version": "1.2.0",
      "model_name": "LayoutModel",
      "state": {
       "grid_area": "widget002"
      }
     },
     "95b4ce0472e5493ea242296902833c6c": {
      "model_module": "@jupyter-widgets/controls",
      "model_module_version": "1.5.0",
      "model_name": "ButtonStyleModel",
      "state": {}
     },
     "969b8f2c978e4307a878719102ac67c5": {
      "model_module": "@jupyter-widgets/base",
      "model_module_version": "1.2.0",
      "model_name": "LayoutModel",
      "state": {
       "grid_area": "widget003"
      }
     },
     "98132233ec984021a5aab277642c7942": {
      "model_module": "@jupyter-widgets/controls",
      "model_module_version": "1.5.0",
      "model_name": "ToggleButtonModel",
      "state": {
       "button_style": "info",
       "icon": "check",
       "layout": "IPY_MODEL_646a5636acce480fb45424572fbc81ad",
       "style": "IPY_MODEL_f7ac07607a19442c8586d10ef2f2b969",
       "tooltip": "Hint"
      }
     },
     "987f577b582c47d19fa11635b0d160d7": {
      "model_module": "@jupyter-widgets/controls",
      "model_module_version": "1.5.0",
      "model_name": "GridBoxModel",
      "state": {
       "children": [
        "IPY_MODEL_a8c3e304490a422ea924e51378992d48",
        "IPY_MODEL_2a7d3272d5844b59af278b9db09e7ae7",
        "IPY_MODEL_d5b23b70d3c64921a000eedefc8c8562",
        "IPY_MODEL_a795898383ae4758853d691d49bb4faa",
        "IPY_MODEL_07b5eea140e9490c9c5e9ec294d59b0d"
       ],
       "layout": "IPY_MODEL_6414d91795a243809f718a9ae3dcfecd"
      }
     },
     "9922dba2d6bd4b5bbd95ddaae76e6c64": {
      "model_module": "@jupyter-widgets/base",
      "model_module_version": "1.2.0",
      "model_name": "LayoutModel",
      "state": {
       "grid_area": "widget005"
      }
     },
     "9a56f8be9c34410b939e4d144230eee4": {
      "model_module": "@jupyter-widgets/controls",
      "model_module_version": "1.5.0",
      "model_name": "ButtonModel",
      "state": {
       "button_style": "info",
       "layout": "IPY_MODEL_18f3c86d725b4b5f82c304aa600d2c96",
       "style": "IPY_MODEL_ab9847be1608431cbf3c981e8f1b1064"
      }
     },
     "9a7a38052fdf4097b1c2d43612969259": {
      "model_module": "@jupyter-widgets/base",
      "model_module_version": "1.2.0",
      "model_name": "LayoutModel",
      "state": {
       "grid_area": "widget002"
      }
     },
     "9c695c5821c64bef941f0abe043decd1": {
      "model_module": "@jupyter-widgets/base",
      "model_module_version": "1.2.0",
      "model_name": "LayoutModel",
      "state": {
       "grid_template_areas": "\"widget002 widget001 widget001 widget001 widget001 widget001 widget001 widget001 widget001 widget001 widget001 widget001 widget001 widget001 widget001\"\n\"widget003 widget001 widget001 widget001 widget001 widget001 widget001 widget001 widget001 widget001 widget001 widget001 widget001 widget001 widget001\"\n\"widget004 widget001 widget001 widget001 widget001 widget001 widget001 widget001 widget001 widget001 widget001 widget001 widget001 widget001 widget001\"\n\"widget005 widget001 widget001 widget001 widget001 widget001 widget001 widget001 widget001 widget001 widget001 widget001 widget001 widget001 widget001\"\n\". widget001 widget001 widget001 widget001 widget001 widget001 widget001 widget001 widget001 widget001 widget001 widget001 widget001 widget001\"",
       "grid_template_columns": "repeat(15, 1fr)",
       "grid_template_rows": "repeat(5, 1fr)"
      }
     },
     "9c84715d730a41d59f1f657e3a5931a3": {
      "model_module": "@jupyter-widgets/base",
      "model_module_version": "1.2.0",
      "model_name": "LayoutModel",
      "state": {
       "grid_area": "widget002"
      }
     },
     "9e45ed4593d246c5847291fce138bdca": {
      "model_module": "@jupyter-widgets/base",
      "model_module_version": "1.2.0",
      "model_name": "LayoutModel",
      "state": {
       "grid_area": "widget005"
      }
     },
     "9f990c3206c6450ca018a64b319972a9": {
      "model_module": "@jupyter-widgets/base",
      "model_module_version": "1.2.0",
      "model_name": "LayoutModel",
      "state": {
       "grid_area": "widget002"
      }
     },
     "a00b435d6450451ea3d7b9dd92bb5bc8": {
      "model_module": "@jupyter-widgets/base",
      "model_module_version": "1.2.0",
      "model_name": "LayoutModel",
      "state": {
       "grid_area": "widget004"
      }
     },
     "a09efe266ff3458fb93b81ca0d8b338e": {
      "model_module": "@jupyter-widgets/base",
      "model_module_version": "1.2.0",
      "model_name": "LayoutModel",
      "state": {
       "grid_template_areas": "\"widget002 widget001 widget001 widget001 widget001 widget001 widget001 widget001 widget001 widget001 widget001 widget001 widget001 widget001 widget001\"\n\"widget003 widget001 widget001 widget001 widget001 widget001 widget001 widget001 widget001 widget001 widget001 widget001 widget001 widget001 widget001\"\n\"widget004 widget001 widget001 widget001 widget001 widget001 widget001 widget001 widget001 widget001 widget001 widget001 widget001 widget001 widget001\"\n\"widget005 widget001 widget001 widget001 widget001 widget001 widget001 widget001 widget001 widget001 widget001 widget001 widget001 widget001 widget001\"\n\". widget001 widget001 widget001 widget001 widget001 widget001 widget001 widget001 widget001 widget001 widget001 widget001 widget001 widget001\"",
       "grid_template_columns": "repeat(15, 1fr)",
       "grid_template_rows": "repeat(5, 1fr)"
      }
     },
     "a0a327d00d554305a593e3a69500d466": {
      "model_module": "@jupyter-widgets/output",
      "model_module_version": "1.0.0",
      "model_name": "OutputModel",
      "state": {
       "layout": "IPY_MODEL_f7c95213e3944b88b518584810be620a",
       "outputs": [
        {
         "data": {
          "text/markdown": "\n1. Deep dive: TCAV for tensorflow\n",
          "text/plain": "<IPython.core.display.Markdown object>"
         },
         "metadata": {},
         "output_type": "display_data"
        }
       ]
      }
     },
     "a1311c1d498e467799f45f5e3105e7df": {
      "model_module": "@jupyter-widgets/controls",
      "model_module_version": "1.5.0",
      "model_name": "GridBoxModel",
      "state": {
       "children": [
        "IPY_MODEL_acd1db689a014354b69da8f962b6c071",
        "IPY_MODEL_d3b3ac9accbf48e98f35dbb6af3e53eb",
        "IPY_MODEL_777538aa59bf48c5891001d89eed7b54",
        "IPY_MODEL_1f4971ff345f4d838d95c63554579e8c",
        "IPY_MODEL_7f10ac36786f465cad3e8a14f6d97218",
        "IPY_MODEL_f6eadbacd72e450ba940cd17877872ef",
        "IPY_MODEL_5eca6361f764448f9f179d9bdf744f62",
        "IPY_MODEL_ed0089ba4f8f4292aff70edcae8544c7"
       ],
       "layout": "IPY_MODEL_c03f635910f849ebbd49453401160ae5"
      }
     },
     "a1e92cbd18f94c6bbf194641cfe6ee7d": {
      "model_module": "@jupyter-widgets/controls",
      "model_module_version": "1.5.0",
      "model_name": "ButtonStyleModel",
      "state": {}
     },
     "a2b416d2853241778f1e919c49c57d13": {
      "model_module": "@jupyter-widgets/base",
      "model_module_version": "1.2.0",
      "model_name": "LayoutModel",
      "state": {
       "grid_area": "widget001"
      }
     },
     "a34029d205d941ff889dac44b5f3f93b": {
      "model_module": "@jupyter-widgets/controls",
      "model_module_version": "1.5.0",
      "model_name": "DescriptionStyleModel",
      "state": {
       "description_width": ""
      }
     },
     "a4e8f0a49a8a47c693d1dc1a7ecebfa2": {
      "model_module": "@jupyter-widgets/base",
      "model_module_version": "1.2.0",
      "model_name": "LayoutModel",
      "state": {
       "grid_area": "widget008"
      }
     },
     "a528900bfe624dc39befd1ee475e3f6c": {
      "model_module": "@jupyter-widgets/base",
      "model_module_version": "1.2.0",
      "model_name": "LayoutModel",
      "state": {
       "grid_area": "widget002"
      }
     },
     "a5413c57fefe4a568a9723c936011979": {
      "model_module": "@jupyter-widgets/base",
      "model_module_version": "1.2.0",
      "model_name": "LayoutModel",
      "state": {
       "grid_area": "widget002"
      }
     },
     "a56ddc2169ea417782172ee7c2b1b38a": {
      "model_module": "@jupyter-widgets/controls",
      "model_module_version": "1.5.0",
      "model_name": "ToggleButtonModel",
      "state": {
       "button_style": "info",
       "icon": "check",
       "layout": "IPY_MODEL_46319a4d542b4566b819dd56131f1c7c",
       "style": "IPY_MODEL_a34029d205d941ff889dac44b5f3f93b",
       "tooltip": "Hint",
       "value": true
      }
     },
     "a5c5f8fd78a344de8af317fa8f3fb6e0": {
      "model_module": "@jupyter-widgets/base",
      "model_module_version": "1.2.0",
      "model_name": "LayoutModel",
      "state": {
       "grid_area": "widget008"
      }
     },
     "a5e744d9bfe44d2c872442e9d3140df2": {
      "model_module": "@jupyter-widgets/controls",
      "model_module_version": "1.5.0",
      "model_name": "ToggleButtonModel",
      "state": {
       "button_style": "info",
       "icon": "check",
       "layout": "IPY_MODEL_8de3a3122cef4e70909c4306cc474de8",
       "style": "IPY_MODEL_b046d6c01482446fba7d4bb3510b88a4",
       "tooltip": "Hint",
       "value": true
      }
     },
     "a6ea8bbe0e0e4bd48f547d8c51509c8e": {
      "model_module": "@jupyter-widgets/base",
      "model_module_version": "1.2.0",
      "model_name": "LayoutModel",
      "state": {
       "grid_area": "widget005",
       "height": "auto",
       "width": "auto"
      }
     },
     "a795898383ae4758853d691d49bb4faa": {
      "model_module": "@jupyter-widgets/controls",
      "model_module_version": "1.5.0",
      "model_name": "ToggleButtonModel",
      "state": {
       "button_style": "info",
       "icon": "check",
       "layout": "IPY_MODEL_767bc2f561aa4e778634782947105877",
       "style": "IPY_MODEL_4c09dde775c143f8a93cbf9a9dd49bb8",
       "tooltip": "Hint",
       "value": true
      }
     },
     "a7d6b24e46dc48b886dc533ec48fa0a5": {
      "model_module": "@jupyter-widgets/base",
      "model_module_version": "1.2.0",
      "model_name": "LayoutModel",
      "state": {
       "grid_area": "widget004"
      }
     },
     "a80aec11268d43228929932453210731": {
      "model_module": "@jupyter-widgets/output",
      "model_module_version": "1.0.0",
      "model_name": "OutputModel",
      "state": {
       "layout": "IPY_MODEL_0d0ea143ab914268abe48be094be44b3",
       "outputs": [
        {
         "ename": "TypeError",
         "evalue": "'int' object is not iterable",
         "output_type": "error",
         "traceback": [
          "\u001b[0;31m---------------------------------------------------------------------------\u001b[0m",
          "\u001b[0;31mTypeError\u001b[0m                                 Traceback (most recent call last)",
          "\u001b[0;32m<ipython-input-64-b3c4fe7eee18>\u001b[0m in \u001b[0;36m<module>\u001b[0;34m()\u001b[0m\n\u001b[1;32m      8\u001b[0m \u001b[0mslide_display\u001b[0m \u001b[0;34m=\u001b[0m \u001b[0mOutput\u001b[0m\u001b[0;34m(\u001b[0m\u001b[0;34m)\u001b[0m\u001b[0;34m\u001b[0m\u001b[0m\n\u001b[1;32m      9\u001b[0m \u001b[0;32mwith\u001b[0m \u001b[0mslide_display\u001b[0m\u001b[0;34m:\u001b[0m\u001b[0;34m\u001b[0m\u001b[0m\n\u001b[0;32m---> 10\u001b[0;31m     \u001b[0mdisplay\u001b[0m\u001b[0;34m(\u001b[0m\u001b[0mMarkdown\u001b[0m\u001b[0;34m(\u001b[0m\u001b[0;34m''\u001b[0m\u001b[0;34m.\u001b[0m\u001b[0mjoin\u001b[0m\u001b[0;34m(\u001b[0m\u001b[0;34m[\u001b[0m\u001b[0mcur_slide\u001b[0m\u001b[0;34m[\u001b[0m\u001b[0ml\u001b[0m\u001b[0;34m]\u001b[0m \u001b[0;32mfor\u001b[0m \u001b[0ml\u001b[0m \u001b[0;32min\u001b[0m \u001b[0malways_show\u001b[0m\u001b[0;34m]\u001b[0m\u001b[0;34m)\u001b[0m\u001b[0;34m)\u001b[0m\u001b[0;34m)\u001b[0m\u001b[0;34m\u001b[0m\u001b[0m\n\u001b[0m\u001b[1;32m     11\u001b[0m \u001b[0;34m\u001b[0m\u001b[0m\n\u001b[1;32m     12\u001b[0m \u001b[0;34m\u001b[0m\u001b[0m\n",
          "\u001b[0;31mTypeError\u001b[0m: 'int' object is not iterable"
         ]
        }
       ]
      }
     },
     "a8c3e304490a422ea924e51378992d48": {
      "model_module": "@jupyter-widgets/output",
      "model_module_version": "1.0.0",
      "model_name": "OutputModel",
      "state": {
       "layout": "IPY_MODEL_4ba958d377be4112bbafd09b420e78fd",
       "outputs": [
        {
         "data": {
          "text/markdown": "# Today\n\n\n1. Post hoc explanatations overview\n\n1. Do the tools we have for explanation meet our goals?\n\n1. trolley problems of explanation",
          "text/plain": "<IPython.core.display.Markdown object>"
         },
         "metadata": {},
         "output_type": "display_data"
        }
       ]
      }
     },
     "a99f14bb51f04e5eb04e5d0ee04e37e6": {
      "model_module": "@jupyter-widgets/controls",
      "model_module_version": "1.5.0",
      "model_name": "DescriptionStyleModel",
      "state": {
       "description_width": ""
      }
     },
     "a9a4bf21e6cd4a629bc8b3ab52bd10e4": {
      "model_module": "@jupyter-widgets/controls",
      "model_module_version": "1.5.0",
      "model_name": "GridBoxModel",
      "state": {
       "children": [
        "IPY_MODEL_e834d7bea68a40c9ace7fe3ad1f1e5d2",
        "IPY_MODEL_98132233ec984021a5aab277642c7942",
        "IPY_MODEL_30b79e4a64724fb8a858b22dfefb4ad0",
        "IPY_MODEL_17a64ddb16534a92a3ae744d39ee431c",
        "IPY_MODEL_3f1c76f24c6149f48acbf47d8c467546"
       ],
       "layout": "IPY_MODEL_db0ab1a0d9c4480281916e71bbfe4173"
      }
     },
     "ab0e27c7cb2647578c6eab473bbee362": {
      "model_module": "@jupyter-widgets/controls",
      "model_module_version": "1.5.0",
      "model_name": "ButtonModel",
      "state": {
       "button_style": "info",
       "layout": "IPY_MODEL_ede9611f26554f8aa58801077a66da63",
       "style": "IPY_MODEL_fae4da70d4a84559a51b5a0b7bb6e98f"
      }
     },
     "ab25dd1cf65243eb80c740c56ebc1500": {
      "model_module": "@jupyter-widgets/base",
      "model_module_version": "1.2.0",
      "model_name": "LayoutModel",
      "state": {
       "grid_area": "widget003",
       "height": "auto",
       "width": "auto"
      }
     },
     "ab9847be1608431cbf3c981e8f1b1064": {
      "model_module": "@jupyter-widgets/controls",
      "model_module_version": "1.5.0",
      "model_name": "ButtonStyleModel",
      "state": {}
     },
     "ac0380f37d7f4858b737a9f7c148d1e8": {
      "model_module": "@jupyter-widgets/controls",
      "model_module_version": "1.5.0",
      "model_name": "ButtonStyleModel",
      "state": {}
     },
     "ac59246e305141079c3d8430ab28aca7": {
      "model_module": "@jupyter-widgets/controls",
      "model_module_version": "1.5.0",
      "model_name": "ToggleButtonModel",
      "state": {
       "button_style": "info",
       "icon": "check",
       "layout": "IPY_MODEL_61171a78485b4971a2815e2565a86215",
       "style": "IPY_MODEL_2beeae68913f46ef910ee03354336f63",
       "tooltip": "Hint"
      }
     },
     "ac6b8dcf37da4578b18adae090aa55e8": {
      "model_module": "@jupyter-widgets/base",
      "model_module_version": "1.2.0",
      "model_name": "LayoutModel",
      "state": {
       "grid_template_areas": "\"widget001 widget002 widget002 widget002 widget002 widget002 widget002 widget002 widget002 widget002 widget002 widget002 widget002 widget002 widget002\"\n\"widget003 widget004 widget004 widget004 widget004 widget004 widget004 widget004 widget004 widget004 widget004 widget004 widget004 widget004 widget004\"\n\"widget005 widget006 widget006 widget006 widget006 widget006 widget006 widget006 widget006 widget006 widget006 widget006 widget006 widget006 widget006\"\n\"widget007 widget008 widget008 widget008 widget008 widget008 widget008 widget008 widget008 widget008 widget008 widget008 widget008 widget008 widget008\"",
       "grid_template_columns": "repeat(15, 1fr)",
       "grid_template_rows": "repeat(4, 1fr)"
      }
     },
     "acaf124dcc214505989583e1f8050690": {
      "model_module": "@jupyter-widgets/base",
      "model_module_version": "1.2.0",
      "model_name": "LayoutModel",
      "state": {
       "grid_area": "widget005"
      }
     },
     "acd1db689a014354b69da8f962b6c071": {
      "model_module": "@jupyter-widgets/controls",
      "model_module_version": "1.5.0",
      "model_name": "ButtonModel",
      "state": {
       "button_style": "info",
       "layout": "IPY_MODEL_842345c945ee46a28c42ec53e90c2275",
       "style": "IPY_MODEL_8833a83896434af99aa86b46ce2d96f2"
      }
     },
     "ad4235844e234ba19fce74c986c7e236": {
      "model_module": "@jupyter-widgets/controls",
      "model_module_version": "1.5.0",
      "model_name": "ButtonStyleModel",
      "state": {}
     },
     "adc47160513a4e9cac40a051fb096d71": {
      "model_module": "@jupyter-widgets/controls",
      "model_module_version": "1.5.0",
      "model_name": "GridBoxModel",
      "state": {
       "children": [
        "IPY_MODEL_4722170118054fe6828da69f4b93e2d3",
        "IPY_MODEL_1135772be81f4da0b51216c86d736283",
        "IPY_MODEL_39c1a83b15e842e788c8351624267aa1",
        "IPY_MODEL_c6358a823a034b1ea05dd732bbbfa698",
        "IPY_MODEL_393d6a0ac8b64ec99b18ce4b132839cd"
       ],
       "layout": "IPY_MODEL_a09efe266ff3458fb93b81ca0d8b338e"
      }
     },
     "afca27147dd747b4beb47634eee24ffb": {
      "model_module": "@jupyter-widgets/output",
      "model_module_version": "1.0.0",
      "model_name": "OutputModel",
      "state": {
       "layout": "IPY_MODEL_89dca7b18a8a4675ad3267c64c0e592b",
       "outputs": [
        {
         "data": {
          "text/markdown": "# Today\n\n\n1. Post hoc explanatations overview\n",
          "text/plain": "<IPython.core.display.Markdown object>"
         },
         "metadata": {},
         "output_type": "display_data"
        }
       ]
      }
     },
     "b01174cbf8a34e20afc33f5a6c1af332": {
      "model_module": "@jupyter-widgets/controls",
      "model_module_version": "1.5.0",
      "model_name": "DescriptionStyleModel",
      "state": {
       "description_width": ""
      }
     },
     "b046d6c01482446fba7d4bb3510b88a4": {
      "model_module": "@jupyter-widgets/controls",
      "model_module_version": "1.5.0",
      "model_name": "DescriptionStyleModel",
      "state": {
       "description_width": ""
      }
     },
     "b05b0668cd8e4ade85212db33a260dc2": {
      "model_module": "@jupyter-widgets/output",
      "model_module_version": "1.0.0",
      "model_name": "OutputModel",
      "state": {
       "layout": "IPY_MODEL_0c0405e033cc42cdbebc14a855bccbf0",
       "outputs": [
        {
         "data": {
          "text/markdown": "\n1. trolley problems of explanation",
          "text/plain": "<IPython.core.display.Markdown object>"
         },
         "metadata": {},
         "output_type": "display_data"
        }
       ]
      }
     },
     "b0726ac7bc97472aae212a5bf455357b": {
      "model_module": "@jupyter-widgets/base",
      "model_module_version": "1.2.0",
      "model_name": "LayoutModel",
      "state": {
       "grid_area": "widget006"
      }
     },
     "b07c719e3be843a2abb66dbe50a6f776": {
      "model_module": "@jupyter-widgets/output",
      "model_module_version": "1.0.0",
      "model_name": "OutputModel",
      "state": {
       "layout": "IPY_MODEL_33d6e903914b4056866cc265d6d429d6",
       "outputs": [
        {
         "data": {
          "text/markdown": "# Today\n\n",
          "text/plain": "<IPython.core.display.Markdown object>"
         },
         "metadata": {},
         "output_type": "display_data"
        }
       ]
      }
     },
     "b10446c23a294fd29c988abe5c32b645": {
      "model_module": "@jupyter-widgets/controls",
      "model_module_version": "1.5.0",
      "model_name": "DescriptionStyleModel",
      "state": {
       "description_width": ""
      }
     },
     "b14724e23530400a83065845c277d154": {
      "model_module": "@jupyter-widgets/controls",
      "model_module_version": "1.5.0",
      "model_name": "ButtonStyleModel",
      "state": {}
     },
     "b21d35b0b5e740fe9846b361b2b9efec": {
      "model_module": "@jupyter-widgets/base",
      "model_module_version": "1.2.0",
      "model_name": "LayoutModel",
      "state": {
       "grid_area": "widget002"
      }
     },
     "b279f985335b48dcb8e8dbd187f31668": {
      "model_module": "@jupyter-widgets/output",
      "model_module_version": "1.0.0",
      "model_name": "OutputModel",
      "state": {
       "layout": "IPY_MODEL_4c11aa5afe6b4986883c4988fc635a7a",
       "outputs": [
        {
         "data": {
          "text/markdown": "\n1. Do the tools we have for explanation meet our goals?\n",
          "text/plain": "<IPython.core.display.Markdown object>"
         },
         "metadata": {},
         "output_type": "display_data"
        }
       ]
      }
     },
     "b3cc203753b747ff8d78c0c4bf6bd9e1": {
      "model_module": "@jupyter-widgets/controls",
      "model_module_version": "1.5.0",
      "model_name": "ButtonStyleModel",
      "state": {}
     },
     "b5384b66da7d4ecaa6d34f459d42e533": {
      "model_module": "@jupyter-widgets/controls",
      "model_module_version": "1.5.0",
      "model_name": "ToggleButtonModel",
      "state": {
       "button_style": "info",
       "icon": "check",
       "layout": "IPY_MODEL_1a2ce1e149974480b356efe995657a8e",
       "style": "IPY_MODEL_513d0f8eb09a484b95ba6d9404d4e90d",
       "tooltip": "Hint",
       "value": true
      }
     },
     "b560680123ef45c9bf950011da47bd2f": {
      "model_module": "@jupyter-widgets/controls",
      "model_module_version": "1.5.0",
      "model_name": "ToggleButtonModel",
      "state": {
       "button_style": "info",
       "icon": "check",
       "layout": "IPY_MODEL_5c732ae99ef84aad90c6540d97eb147c",
       "style": "IPY_MODEL_b71331542e4d40c9b28aadf5d7b499ff",
       "tooltip": "Hint"
      }
     },
     "b71331542e4d40c9b28aadf5d7b499ff": {
      "model_module": "@jupyter-widgets/controls",
      "model_module_version": "1.5.0",
      "model_name": "DescriptionStyleModel",
      "state": {
       "description_width": ""
      }
     },
     "b7465eaf8fda484f976de0255162fe64": {
      "model_module": "@jupyter-widgets/controls",
      "model_module_version": "1.5.0",
      "model_name": "DescriptionStyleModel",
      "state": {
       "description_width": ""
      }
     },
     "b74765832cce4e2a9642a6334dad7d84": {
      "model_module": "@jupyter-widgets/controls",
      "model_module_version": "1.5.0",
      "model_name": "DescriptionStyleModel",
      "state": {
       "description_width": ""
      }
     },
     "b83637d98ac14d52b0e935e4d7fe34be": {
      "model_module": "@jupyter-widgets/controls",
      "model_module_version": "1.5.0",
      "model_name": "ButtonStyleModel",
      "state": {}
     },
     "b84bf85eba8448a288ef9d3a5937b8de": {
      "model_module": "@jupyter-widgets/base",
      "model_module_version": "1.2.0",
      "model_name": "LayoutModel",
      "state": {
       "grid_area": "widget005",
       "height": "auto",
       "width": "auto"
      }
     },
     "b85c2ccc25b0478da9925f61ae3bda54": {
      "model_module": "@jupyter-widgets/controls",
      "model_module_version": "1.5.0",
      "model_name": "ButtonModel",
      "state": {
       "button_style": "info",
       "layout": "IPY_MODEL_7c5a61a227ae47079a733bc5b25d0bef",
       "style": "IPY_MODEL_d665b1b01d204113b6af5d1e407b0dd8"
      }
     },
     "b861c18f907d4a7e98cd64460f0bb1ca": {
      "model_module": "@jupyter-widgets/base",
      "model_module_version": "1.2.0",
      "model_name": "LayoutModel",
      "state": {
       "grid_area": "widget005"
      }
     },
     "b88d6903578a442bbc9d441c970894a1": {
      "model_module": "@jupyter-widgets/base",
      "model_module_version": "1.2.0",
      "model_name": "LayoutModel",
      "state": {
       "grid_area": "widget003"
      }
     },
     "b91676e2013147e480cac7e736986503": {
      "model_module": "@jupyter-widgets/base",
      "model_module_version": "1.2.0",
      "model_name": "LayoutModel",
      "state": {
       "grid_area": "widget005"
      }
     },
     "bb1e1f8dbc5e4faaa6b4002708b4a462": {
      "model_module": "@jupyter-widgets/base",
      "model_module_version": "1.2.0",
      "model_name": "LayoutModel",
      "state": {
       "grid_area": "widget007",
       "height": "auto",
       "width": "auto"
      }
     },
     "bb6aac593d5f4b259d3b185dfdefac5f": {
      "model_module": "@jupyter-widgets/controls",
      "model_module_version": "1.5.0",
      "model_name": "ButtonModel",
      "state": {
       "button_style": "info",
       "layout": "IPY_MODEL_f978a25207754c56a0f95a9c97ed964f",
       "style": "IPY_MODEL_8bf003878f2c432a9ca43ecab92e5f87"
      }
     },
     "bb77817612c74205861d8fc32718f5aa": {
      "model_module": "@jupyter-widgets/controls",
      "model_module_version": "1.5.0",
      "model_name": "ButtonStyleModel",
      "state": {}
     },
     "bbdbbb57a59647d78f23320e988651e1": {
      "model_module": "@jupyter-widgets/controls",
      "model_module_version": "1.5.0",
      "model_name": "GridBoxModel",
      "state": {
       "children": [
        "IPY_MODEL_5665607343644ccdb13b40476ea4bc10",
        "IPY_MODEL_5657d07b818d45baad2a1df313c8d39b",
        "IPY_MODEL_3422dfdca39f46cb97c93796860a5230",
        "IPY_MODEL_1e205037c6144ff29f21b70de1e256ac",
        "IPY_MODEL_363549ac5e02439dab47ab216e61c0cc"
       ],
       "layout": "IPY_MODEL_4952a6636b1246b8a712b9c61ba090c5"
      }
     },
     "bc8cb523a0a64d7ca0fc996e63427103": {
      "model_module": "@jupyter-widgets/base",
      "model_module_version": "1.2.0",
      "model_name": "LayoutModel",
      "state": {
       "grid_template_areas": "\"widget002 widget001 widget001 widget001 widget001 widget001 widget001 widget001 widget001 widget001 widget001 widget001 widget001 widget001 widget001\"\n\". widget001 widget001 widget001 widget001 widget001 widget001 widget001 widget001 widget001 widget001 widget001 widget001 widget001 widget001\"\n\". widget001 widget001 widget001 widget001 widget001 widget001 widget001 widget001 widget001 widget001 widget001 widget001 widget001 widget001\"\n\". widget001 widget001 widget001 widget001 widget001 widget001 widget001 widget001 widget001 widget001 widget001 widget001 widget001 widget001\"\n\". widget001 widget001 widget001 widget001 widget001 widget001 widget001 widget001 widget001 widget001 widget001 widget001 widget001 widget001\"",
       "grid_template_columns": "repeat(15, 1fr)",
       "grid_template_rows": "repeat(5, 1fr)"
      }
     },
     "bdfc17cf7997453da20b7ceb20528236": {
      "model_module": "@jupyter-widgets/output",
      "model_module_version": "1.0.0",
      "model_name": "OutputModel",
      "state": {
       "layout": "IPY_MODEL_d3bac1a2c9ec4bc3b5800b692acd4c6a"
      }
     },
     "be98a7ff8d714976924c2c9314a460bc": {
      "model_module": "@jupyter-widgets/controls",
      "model_module_version": "1.5.0",
      "model_name": "ButtonModel",
      "state": {
       "button_style": "info",
       "layout": "IPY_MODEL_8fb6aa3fda5d405e9aa204fc3324845d",
       "style": "IPY_MODEL_c7bd531b60424d288a6cf4584afe2ca4"
      }
     },
     "bfedb1e801684e1297adaa3b59b9d7a6": {
      "model_module": "@jupyter-widgets/controls",
      "model_module_version": "1.5.0",
      "model_name": "ButtonStyleModel",
      "state": {}
     },
     "c01c19b9addb4d95915dd936182a6a93": {
      "model_module": "@jupyter-widgets/output",
      "model_module_version": "1.0.0",
      "model_name": "OutputModel",
      "state": {
       "layout": "IPY_MODEL_62c914d9e9404e6c9e354ffeb7dcdca6",
       "outputs": [
        {
         "data": {
          "text/markdown": "# Today\n\n",
          "text/plain": "<IPython.core.display.Markdown object>"
         },
         "metadata": {},
         "output_type": "display_data"
        },
        {
         "ename": "TypeError",
         "evalue": "Markdown expects text, not [0, 2]",
         "output_type": "error",
         "traceback": [
          "\u001b[0;31m---------------------------------------------------------------------------\u001b[0m",
          "\u001b[0;31mTypeError\u001b[0m                                 Traceback (most recent call last)",
          "\u001b[0;32m<ipython-input-71-acb6b7241805>\u001b[0m in \u001b[0;36mreveal\u001b[0;34m(b)\u001b[0m\n\u001b[1;32m     16\u001b[0m     \u001b[0mcur_lines\u001b[0m\u001b[0;34m.\u001b[0m\u001b[0mextend\u001b[0m\u001b[0;34m(\u001b[0m\u001b[0;34m[\u001b[0m\u001b[0mi\u001b[0m\u001b[0;34m+\u001b[0m\u001b[0mfixed_len\u001b[0m \u001b[0;32mfor\u001b[0m \u001b[0mi\u001b[0m\u001b[0;34m,\u001b[0m\u001b[0mbt\u001b[0m \u001b[0;32min\u001b[0m \u001b[0menumerate\u001b[0m\u001b[0;34m(\u001b[0m\u001b[0mbutton\u001b[0m\u001b[0;34m)\u001b[0m \u001b[0;32mif\u001b[0m \u001b[0mbt\u001b[0m\u001b[0;34m.\u001b[0m\u001b[0mvalue\u001b[0m\u001b[0;34m]\u001b[0m\u001b[0;34m)\u001b[0m\u001b[0;34m\u001b[0m\u001b[0m\n\u001b[1;32m     17\u001b[0m     \u001b[0;32mwith\u001b[0m \u001b[0mslide_display\u001b[0m\u001b[0;34m:\u001b[0m\u001b[0;34m\u001b[0m\u001b[0m\n\u001b[0;32m---> 18\u001b[0;31m         \u001b[0mdisplay\u001b[0m\u001b[0;34m(\u001b[0m\u001b[0mMarkdown\u001b[0m\u001b[0;34m(\u001b[0m\u001b[0mcur_lines\u001b[0m\u001b[0;34m)\u001b[0m\u001b[0;34m)\u001b[0m\u001b[0;34m\u001b[0m\u001b[0m\n\u001b[0m\u001b[1;32m     19\u001b[0m \u001b[0;31m#         display(Markdown(''.join([cur_slide[l] for l in cur_lines])))\u001b[0m\u001b[0;34m\u001b[0m\u001b[0;34m\u001b[0m\u001b[0m\n\u001b[1;32m     20\u001b[0m \u001b[0;34m\u001b[0m\u001b[0m\n",
          "\u001b[0;32m~/anaconda3/lib/python3.6/site-packages/IPython/core/display.py\u001b[0m in \u001b[0;36m__init__\u001b[0;34m(self, data, url, filename, metadata)\u001b[0m\n\u001b[1;32m    607\u001b[0m \u001b[0;34m\u001b[0m\u001b[0m\n\u001b[1;32m    608\u001b[0m         \u001b[0mself\u001b[0m\u001b[0;34m.\u001b[0m\u001b[0mreload\u001b[0m\u001b[0;34m(\u001b[0m\u001b[0;34m)\u001b[0m\u001b[0;34m\u001b[0m\u001b[0m\n\u001b[0;32m--> 609\u001b[0;31m         \u001b[0mself\u001b[0m\u001b[0;34m.\u001b[0m\u001b[0m_check_data\u001b[0m\u001b[0;34m(\u001b[0m\u001b[0;34m)\u001b[0m\u001b[0;34m\u001b[0m\u001b[0m\n\u001b[0m\u001b[1;32m    610\u001b[0m \u001b[0;34m\u001b[0m\u001b[0m\n\u001b[1;32m    611\u001b[0m     \u001b[0;32mdef\u001b[0m \u001b[0m__repr__\u001b[0m\u001b[0;34m(\u001b[0m\u001b[0mself\u001b[0m\u001b[0;34m)\u001b[0m\u001b[0;34m:\u001b[0m\u001b[0;34m\u001b[0m\u001b[0m\n",
          "\u001b[0;32m~/anaconda3/lib/python3.6/site-packages/IPython/core/display.py\u001b[0m in \u001b[0;36m_check_data\u001b[0;34m(self)\u001b[0m\n\u001b[1;32m    656\u001b[0m     \u001b[0;32mdef\u001b[0m \u001b[0m_check_data\u001b[0m\u001b[0;34m(\u001b[0m\u001b[0mself\u001b[0m\u001b[0;34m)\u001b[0m\u001b[0;34m:\u001b[0m\u001b[0;34m\u001b[0m\u001b[0m\n\u001b[1;32m    657\u001b[0m         \u001b[0;32mif\u001b[0m \u001b[0mself\u001b[0m\u001b[0;34m.\u001b[0m\u001b[0mdata\u001b[0m \u001b[0;32mis\u001b[0m \u001b[0;32mnot\u001b[0m \u001b[0;32mNone\u001b[0m \u001b[0;32mand\u001b[0m \u001b[0;32mnot\u001b[0m \u001b[0misinstance\u001b[0m\u001b[0;34m(\u001b[0m\u001b[0mself\u001b[0m\u001b[0;34m.\u001b[0m\u001b[0mdata\u001b[0m\u001b[0;34m,\u001b[0m \u001b[0mstr\u001b[0m\u001b[0;34m)\u001b[0m\u001b[0;34m:\u001b[0m\u001b[0;34m\u001b[0m\u001b[0m\n\u001b[0;32m--> 658\u001b[0;31m             \u001b[0;32mraise\u001b[0m \u001b[0mTypeError\u001b[0m\u001b[0;34m(\u001b[0m\u001b[0;34m\"%s expects text, not %r\"\u001b[0m \u001b[0;34m%\u001b[0m \u001b[0;34m(\u001b[0m\u001b[0mself\u001b[0m\u001b[0;34m.\u001b[0m\u001b[0m__class__\u001b[0m\u001b[0;34m.\u001b[0m\u001b[0m__name__\u001b[0m\u001b[0;34m,\u001b[0m \u001b[0mself\u001b[0m\u001b[0;34m.\u001b[0m\u001b[0mdata\u001b[0m\u001b[0;34m)\u001b[0m\u001b[0;34m)\u001b[0m\u001b[0;34m\u001b[0m\u001b[0m\n\u001b[0m\u001b[1;32m    659\u001b[0m \u001b[0;34m\u001b[0m\u001b[0m\n\u001b[1;32m    660\u001b[0m \u001b[0;32mclass\u001b[0m \u001b[0mPretty\u001b[0m\u001b[0;34m(\u001b[0m\u001b[0mTextDisplayObject\u001b[0m\u001b[0;34m)\u001b[0m\u001b[0;34m:\u001b[0m\u001b[0;34m\u001b[0m\u001b[0m\n",
          "\u001b[0;31mTypeError\u001b[0m: Markdown expects text, not [0, 2]"
         ]
        }
       ]
      }
     },
     "c03f635910f849ebbd49453401160ae5": {
      "model_module": "@jupyter-widgets/base",
      "model_module_version": "1.2.0",
      "model_name": "LayoutModel",
      "state": {
       "grid_template_areas": "\"widget001 widget002 widget002 widget002 widget002 widget002 widget002 widget002 widget002 widget002 widget002 widget002 widget002 widget002 widget002\"\n\"widget003 widget004 widget004 widget004 widget004 widget004 widget004 widget004 widget004 widget004 widget004 widget004 widget004 widget004 widget004\"\n\"widget005 widget006 widget006 widget006 widget006 widget006 widget006 widget006 widget006 widget006 widget006 widget006 widget006 widget006 widget006\"\n\"widget007 widget008 widget008 widget008 widget008 widget008 widget008 widget008 widget008 widget008 widget008 widget008 widget008 widget008 widget008\"",
       "grid_template_columns": "repeat(15, 1fr)",
       "grid_template_rows": "repeat(4, 1fr)"
      }
     },
     "c052dc4cbf0f4258a06f2c35684d7844": {
      "model_module": "@jupyter-widgets/base",
      "model_module_version": "1.2.0",
      "model_name": "LayoutModel",
      "state": {
       "grid_area": "widget004"
      }
     },
     "c1590910bd15455cb98e8720036d22be": {
      "model_module": "@jupyter-widgets/controls",
      "model_module_version": "1.5.0",
      "model_name": "ToggleButtonModel",
      "state": {
       "button_style": "info",
       "icon": "check",
       "layout": "IPY_MODEL_7c29409436304705b8a90213a651f425",
       "style": "IPY_MODEL_d4aefcbf4e4b43f68dfe82a4088edf79",
       "tooltip": "Hint"
      }
     },
     "c2726f9bcd3047f0b51f23f7f186fc0e": {
      "model_module": "@jupyter-widgets/controls",
      "model_module_version": "1.5.0",
      "model_name": "GridBoxModel",
      "state": {
       "children": [
        "IPY_MODEL_c01c19b9addb4d95915dd936182a6a93",
        "IPY_MODEL_dae77eaccc424ef1bf5e6f27a42c9839",
        "IPY_MODEL_0621a175630942ec8f0275a32be6fc5d",
        "IPY_MODEL_661f7aba80234f73a60047f05a6ab6f9",
        "IPY_MODEL_82bdf48fee414392aac923c9176aa589"
       ],
       "layout": "IPY_MODEL_9c695c5821c64bef941f0abe043decd1"
      }
     },
     "c2d2a9dc7dc141528e4935658b9a3c6d": {
      "model_module": "@jupyter-widgets/base",
      "model_module_version": "1.2.0",
      "model_name": "LayoutModel",
      "state": {
       "grid_area": "widget002"
      }
     },
     "c3ee4f2d835d4e90aa2e37c8356091f6": {
      "model_module": "@jupyter-widgets/base",
      "model_module_version": "1.2.0",
      "model_name": "LayoutModel",
      "state": {
       "grid_area": "widget001",
       "height": "auto",
       "width": "auto"
      }
     },
     "c616a81c47004575a5df4202729e83e1": {
      "model_module": "@jupyter-widgets/controls",
      "model_module_version": "1.5.0",
      "model_name": "GridBoxModel",
      "state": {
       "children": [
        "IPY_MODEL_76a9ed6a74bf4f1a9489a499c21b4d3a",
        "IPY_MODEL_432c22658e004db2ad00988833098b05",
        "IPY_MODEL_fa8a64c3b9de45169a2188b9f4d375dd",
        "IPY_MODEL_c80c03e7182f49789c74ad9c820851f3",
        "IPY_MODEL_db89bcc490e341258ecaaa4ad8321cc1",
        "IPY_MODEL_708f558134ef427d8dc1ac520d97b46f",
        "IPY_MODEL_9345cd0e71b743758d32fb49482b1dce",
        "IPY_MODEL_0ac4cd58f5da463fa2ca6514bdd125a9"
       ],
       "layout": "IPY_MODEL_ac6b8dcf37da4578b18adae090aa55e8"
      }
     },
     "c6358a823a034b1ea05dd732bbbfa698": {
      "model_module": "@jupyter-widgets/controls",
      "model_module_version": "1.5.0",
      "model_name": "ToggleButtonModel",
      "state": {
       "button_style": "info",
       "icon": "check",
       "layout": "IPY_MODEL_59f621d2126943e7894a8931dff26075",
       "style": "IPY_MODEL_5628902123cb435fac49f0abf332c3e1",
       "tooltip": "Hint",
       "value": true
      }
     },
     "c65c045ce2e946839efd98267da5264a": {
      "model_module": "@jupyter-widgets/controls",
      "model_module_version": "1.5.0",
      "model_name": "DescriptionStyleModel",
      "state": {
       "description_width": ""
      }
     },
     "c6cc3d8f13a24da3ab13bf20986b88a9": {
      "model_module": "@jupyter-widgets/controls",
      "model_module_version": "1.5.0",
      "model_name": "ButtonModel",
      "state": {
       "button_style": "info",
       "layout": "IPY_MODEL_33c05ef0619f4ebc968e37ecb309eed7",
       "style": "IPY_MODEL_b14724e23530400a83065845c277d154"
      }
     },
     "c750cf5b4caa4eb5b017666054023396": {
      "model_module": "@jupyter-widgets/controls",
      "model_module_version": "1.5.0",
      "model_name": "GridBoxModel",
      "state": {
       "children": [
        "IPY_MODEL_87496272da14463fb4e54aaffcb4e37f",
        "IPY_MODEL_4f939c45628e4b33aff6577a3262dff5",
        "IPY_MODEL_401e9d8c5dc144c38f4a90ee36344c7e",
        "IPY_MODEL_a56ddc2169ea417782172ee7c2b1b38a",
        "IPY_MODEL_92dcb83dc9894b38bd766a2ee4215509"
       ],
       "layout": "IPY_MODEL_2fc04047dd054ffe8e745b7eafdbe5a3"
      }
     },
     "c7bd531b60424d288a6cf4584afe2ca4": {
      "model_module": "@jupyter-widgets/controls",
      "model_module_version": "1.5.0",
      "model_name": "ButtonStyleModel",
      "state": {}
     },
     "c7d4dcd201b341bb9cc06559452fedcf": {
      "model_module": "@jupyter-widgets/base",
      "model_module_version": "1.2.0",
      "model_name": "LayoutModel",
      "state": {
       "grid_area": "widget002"
      }
     },
     "c80c03e7182f49789c74ad9c820851f3": {
      "model_module": "@jupyter-widgets/output",
      "model_module_version": "1.0.0",
      "model_name": "OutputModel",
      "state": {
       "layout": "IPY_MODEL_a00b435d6450451ea3d7b9dd92bb5bc8",
       "outputs": [
        {
         "data": {
          "text/markdown": "\n1. Deep dive: TCAV for tensorflow\n",
          "text/plain": "<IPython.core.display.Markdown object>"
         },
         "metadata": {},
         "output_type": "display_data"
        }
       ]
      }
     },
     "c8c264c5320545d592deb20b1ed52292": {
      "model_module": "@jupyter-widgets/controls",
      "model_module_version": "1.5.0",
      "model_name": "ToggleButtonModel",
      "state": {
       "button_style": "info",
       "icon": "check",
       "layout": "IPY_MODEL_92fc350501c64314bd2ade131b97e8cd",
       "style": "IPY_MODEL_466227091f1949bfafa0d135b55eb199",
       "tooltip": "Hint",
       "value": true
      }
     },
     "c929e70ae93f44409614b07e50c250b0": {
      "model_module": "@jupyter-widgets/base",
      "model_module_version": "1.2.0",
      "model_name": "LayoutModel",
      "state": {
       "grid_template_areas": "\"widget001 widget002 widget002 widget002 widget002 widget002 widget002 widget002 widget002 widget002 widget002 widget002 widget002 widget002 widget002\"\n\"widget003 widget004 widget004 widget004 widget004 widget004 widget004 widget004 widget004 widget004 widget004 widget004 widget004 widget004 widget004\"\n\"widget005 widget006 widget006 widget006 widget006 widget006 widget006 widget006 widget006 widget006 widget006 widget006 widget006 widget006 widget006\"\n\"widget007 widget008 widget008 widget008 widget008 widget008 widget008 widget008 widget008 widget008 widget008 widget008 widget008 widget008 widget008\"",
       "grid_template_columns": "repeat(15, 1fr)",
       "grid_template_rows": "repeat(4, 1fr)"
      }
     },
     "ca73b53724414fbfb67cbef7a6d99261": {
      "model_module": "@jupyter-widgets/controls",
      "model_module_version": "1.5.0",
      "model_name": "DescriptionStyleModel",
      "state": {
       "description_width": ""
      }
     },
     "cab8bff9c69945ba8e3ec1e3eb55fc71": {
      "model_module": "@jupyter-widgets/base",
      "model_module_version": "1.2.0",
      "model_name": "LayoutModel",
      "state": {
       "grid_area": "widget003",
       "height": "auto",
       "width": "auto"
      }
     },
     "cbbdbf4abf8449aca692d6e231a516f2": {
      "model_module": "@jupyter-widgets/controls",
      "model_module_version": "1.5.0",
      "model_name": "DescriptionStyleModel",
      "state": {
       "description_width": ""
      }
     },
     "ccc8b9edc69645968877d5550b1db4e5": {
      "model_module": "@jupyter-widgets/controls",
      "model_module_version": "1.5.0",
      "model_name": "DescriptionStyleModel",
      "state": {
       "description_width": ""
      }
     },
     "ccdf351adae44f18a179347fadebf0ea": {
      "model_module": "@jupyter-widgets/controls",
      "model_module_version": "1.5.0",
      "model_name": "DescriptionStyleModel",
      "state": {
       "description_width": ""
      }
     },
     "cdc504e36fef498e8138ec11e09c1191": {
      "model_module": "@jupyter-widgets/controls",
      "model_module_version": "1.5.0",
      "model_name": "ToggleButtonModel",
      "state": {
       "button_style": "info",
       "icon": "check",
       "layout": "IPY_MODEL_f022a11fbfae4aecb7e28c84942fe696",
       "style": "IPY_MODEL_f15a46cc52cd4b70a877a762d28b7c9d",
       "tooltip": "Hint"
      }
     },
     "cfe0ca0c88de441d84edf17e1529fe84": {
      "model_module": "@jupyter-widgets/controls",
      "model_module_version": "1.5.0",
      "model_name": "ButtonModel",
      "state": {
       "button_style": "info",
       "layout": "IPY_MODEL_0bfcf328e9224854bc105740405ce7b6",
       "style": "IPY_MODEL_11c977a8a96549eca9d7bb9d275ed2bd"
      }
     },
     "d03dd3ace2aa4122988dbe112a027f70": {
      "model_module": "@jupyter-widgets/controls",
      "model_module_version": "1.5.0",
      "model_name": "ToggleButtonModel",
      "state": {
       "button_style": "info",
       "icon": "check",
       "layout": "IPY_MODEL_47032ed8f6244976aa4e1f9c06a82efd",
       "style": "IPY_MODEL_b74765832cce4e2a9642a6334dad7d84",
       "tooltip": "Hint",
       "value": true
      }
     },
     "d0d73b4335af4282a999042cb69308ff": {
      "model_module": "@jupyter-widgets/controls",
      "model_module_version": "1.5.0",
      "model_name": "DescriptionStyleModel",
      "state": {
       "description_width": ""
      }
     },
     "d0fb2fbfd50c40f9a1316b8f9461662c": {
      "model_module": "@jupyter-widgets/output",
      "model_module_version": "1.0.0",
      "model_name": "OutputModel",
      "state": {
       "layout": "IPY_MODEL_b0726ac7bc97472aae212a5bf455357b",
       "outputs": [
        {
         "data": {
          "text/markdown": "\n1. Do the tools we have for explanation meet our goals?\n",
          "text/plain": "<IPython.core.display.Markdown object>"
         },
         "metadata": {},
         "output_type": "display_data"
        }
       ]
      }
     },
     "d1e5ee64c41a42538bc025445f53a091": {
      "model_module": "@jupyter-widgets/base",
      "model_module_version": "1.2.0",
      "model_name": "LayoutModel",
      "state": {
       "grid_template_areas": "\"widget001 widget002 widget002 widget002 widget002 widget002 widget002 widget002 widget002 widget002 widget002 widget002 widget002 widget002 widget002\"\n\". . . . . . . . . . . . . . .\"\n\". . . . . . . . . . . . . . .\"\n\". . . . . . . . . . . . . . .\"",
       "grid_template_columns": "repeat(15, 1fr)",
       "grid_template_rows": "repeat(4, 1fr)"
      }
     },
     "d2d14d84515a4c9d96c53ac22bb4f374": {
      "model_module": "@jupyter-widgets/base",
      "model_module_version": "1.2.0",
      "model_name": "LayoutModel",
      "state": {
       "grid_template_areas": "\". widget001 widget001 widget001 widget001 widget001 widget001 widget001 widget001 widget001 widget001 widget001 widget001 widget001 widget001\"\n\". widget001 widget001 widget001 widget001 widget001 widget001 widget001 widget001 widget001 widget001 widget001 widget001 widget001 widget001\"\n\". widget001 widget001 widget001 widget001 widget001 widget001 widget001 widget001 widget001 widget001 widget001 widget001 widget001 widget001\"\n\". widget001 widget001 widget001 widget001 widget001 widget001 widget001 widget001 widget001 widget001 widget001 widget001 widget001 widget001\"\n\". widget001 widget001 widget001 widget001 widget001 widget001 widget001 widget001 widget001 widget001 widget001 widget001 widget001 widget001\"",
       "grid_template_columns": "repeat(15, 1fr)",
       "grid_template_rows": "repeat(5, 1fr)"
      }
     },
     "d3b3ac9accbf48e98f35dbb6af3e53eb": {
      "model_module": "@jupyter-widgets/output",
      "model_module_version": "1.0.0",
      "model_name": "OutputModel",
      "state": {
       "layout": "IPY_MODEL_90ff8777416549c99a83c5e0fa8889c3"
      }
     },
     "d3bac1a2c9ec4bc3b5800b692acd4c6a": {
      "model_module": "@jupyter-widgets/base",
      "model_module_version": "1.2.0",
      "model_name": "LayoutModel",
      "state": {
       "grid_area": "widget006"
      }
     },
     "d3be646080564bbab01d6c25f55c4a47": {
      "model_module": "@jupyter-widgets/base",
      "model_module_version": "1.2.0",
      "model_name": "LayoutModel",
      "state": {
       "grid_area": "widget005",
       "height": "auto",
       "width": "auto"
      }
     },
     "d3e96aae2f4f451abb5a48757ac9290f": {
      "model_module": "@jupyter-widgets/controls",
      "model_module_version": "1.5.0",
      "model_name": "ButtonStyleModel",
      "state": {}
     },
     "d447792ad3e04c429e35806bdc8d577e": {
      "model_module": "@jupyter-widgets/controls",
      "model_module_version": "1.5.0",
      "model_name": "GridBoxModel",
      "state": {
       "children": [
        "IPY_MODEL_e56f208a65d4495ea241cf47bdd53909",
        "IPY_MODEL_77e7138eaf5b43bd917da22bf33693fc"
       ],
       "layout": "IPY_MODEL_0836baceaec5424c8e913630615788cd"
      }
     },
     "d4708a131c794244ade22c230b0ed5b8": {
      "model_module": "@jupyter-widgets/base",
      "model_module_version": "1.2.0",
      "model_name": "LayoutModel",
      "state": {
       "grid_area": "widget007",
       "height": "auto",
       "width": "auto"
      }
     },
     "d4aefcbf4e4b43f68dfe82a4088edf79": {
      "model_module": "@jupyter-widgets/controls",
      "model_module_version": "1.5.0",
      "model_name": "DescriptionStyleModel",
      "state": {
       "description_width": ""
      }
     },
     "d5b23b70d3c64921a000eedefc8c8562": {
      "model_module": "@jupyter-widgets/controls",
      "model_module_version": "1.5.0",
      "model_name": "ToggleButtonModel",
      "state": {
       "button_style": "info",
       "icon": "check",
       "layout": "IPY_MODEL_57e966884ff64f4f84ce248c85b207aa",
       "style": "IPY_MODEL_7ecb6fd4cb3b43f48b2d12ad476c2194",
       "tooltip": "Hint"
      }
     },
     "d665b1b01d204113b6af5d1e407b0dd8": {
      "model_module": "@jupyter-widgets/controls",
      "model_module_version": "1.5.0",
      "model_name": "ButtonStyleModel",
      "state": {}
     },
     "d7d4b7ef3ccc46b9bea38fec7cea456f": {
      "model_module": "@jupyter-widgets/base",
      "model_module_version": "1.2.0",
      "model_name": "LayoutModel",
      "state": {
       "grid_area": "widget004"
      }
     },
     "d82665520fbf420085ba1e3986d3c3ad": {
      "model_module": "@jupyter-widgets/controls",
      "model_module_version": "1.5.0",
      "model_name": "DescriptionStyleModel",
      "state": {
       "description_width": ""
      }
     },
     "da6a1c9e774b41f28fb9daab0e059c8f": {
      "model_module": "@jupyter-widgets/base",
      "model_module_version": "1.2.0",
      "model_name": "LayoutModel",
      "state": {
       "grid_area": "widget005"
      }
     },
     "dae77eaccc424ef1bf5e6f27a42c9839": {
      "model_module": "@jupyter-widgets/controls",
      "model_module_version": "1.5.0",
      "model_name": "ToggleButtonModel",
      "state": {
       "button_style": "info",
       "icon": "check",
       "layout": "IPY_MODEL_a528900bfe624dc39befd1ee475e3f6c",
       "style": "IPY_MODEL_cbbdbf4abf8449aca692d6e231a516f2",
       "tooltip": "Hint"
      }
     },
     "db0ab1a0d9c4480281916e71bbfe4173": {
      "model_module": "@jupyter-widgets/base",
      "model_module_version": "1.2.0",
      "model_name": "LayoutModel",
      "state": {
       "grid_template_areas": "\"widget002 widget001 widget001 widget001 widget001 widget001 widget001 widget001 widget001 widget001 widget001 widget001 widget001 widget001 widget001\"\n\"widget003 widget001 widget001 widget001 widget001 widget001 widget001 widget001 widget001 widget001 widget001 widget001 widget001 widget001 widget001\"\n\"widget004 widget001 widget001 widget001 widget001 widget001 widget001 widget001 widget001 widget001 widget001 widget001 widget001 widget001 widget001\"\n\"widget005 widget001 widget001 widget001 widget001 widget001 widget001 widget001 widget001 widget001 widget001 widget001 widget001 widget001 widget001\"\n\". widget001 widget001 widget001 widget001 widget001 widget001 widget001 widget001 widget001 widget001 widget001 widget001 widget001 widget001\"",
       "grid_template_columns": "repeat(15, 1fr)",
       "grid_template_rows": "repeat(5, 1fr)"
      }
     },
     "db89bcc490e341258ecaaa4ad8321cc1": {
      "model_module": "@jupyter-widgets/controls",
      "model_module_version": "1.5.0",
      "model_name": "ButtonModel",
      "state": {
       "button_style": "info",
       "layout": "IPY_MODEL_b84bf85eba8448a288ef9d3a5937b8de",
       "style": "IPY_MODEL_fe1390cf59524f18883b670a632e2147"
      }
     },
     "dc384de1493047d39def606e469257de": {
      "model_module": "@jupyter-widgets/base",
      "model_module_version": "1.2.0",
      "model_name": "LayoutModel",
      "state": {
       "grid_area": "widget003"
      }
     },
     "dc737c38a7cc4455ae09c28dc25b9602": {
      "model_module": "@jupyter-widgets/controls",
      "model_module_version": "1.5.0",
      "model_name": "ButtonModel",
      "state": {
       "button_style": "info",
       "layout": "IPY_MODEL_2b78ac2727344ce79641a7d8219ddedb",
       "style": "IPY_MODEL_a1e92cbd18f94c6bbf194641cfe6ee7d"
      }
     },
     "dcc1af089232419b8c8c36707906e381": {
      "model_module": "@jupyter-widgets/output",
      "model_module_version": "1.0.0",
      "model_name": "OutputModel",
      "state": {
       "layout": "IPY_MODEL_9c84715d730a41d59f1f657e3a5931a3"
      }
     },
     "dccaff0ee17447dd9ac9dc30031623e4": {
      "model_module": "@jupyter-widgets/base",
      "model_module_version": "1.2.0",
      "model_name": "LayoutModel",
      "state": {
       "grid_area": "widget001",
       "height": "auto",
       "width": "auto"
      }
     },
     "e06bcff1333a4de69842b664c3a49755": {
      "model_module": "@jupyter-widgets/output",
      "model_module_version": "1.0.0",
      "model_name": "OutputModel",
      "state": {
       "layout": "IPY_MODEL_9a7a38052fdf4097b1c2d43612969259"
      }
     },
     "e1ee2db483f74000a1b338d4a197bf45": {
      "model_module": "@jupyter-widgets/controls",
      "model_module_version": "1.5.0",
      "model_name": "GridBoxModel",
      "state": {
       "children": [
        "IPY_MODEL_b07c719e3be843a2abb66dbe50a6f776"
       ],
       "layout": "IPY_MODEL_d2d14d84515a4c9d96c53ac22bb4f374"
      }
     },
     "e2d6a54c19314617b23d5c688277827e": {
      "model_module": "@jupyter-widgets/output",
      "model_module_version": "1.0.0",
      "model_name": "OutputModel",
      "state": {
       "layout": "IPY_MODEL_b21d35b0b5e740fe9846b361b2b9efec",
       "outputs": [
        {
         "data": {
          "text/markdown": "# Today\n\n\n1. Post hoc explanatations overview\n",
          "text/plain": "<IPython.core.display.Markdown object>"
         },
         "metadata": {},
         "output_type": "display_data"
        }
       ]
      }
     },
     "e4e2e4fca9ad4672ab8f3ee2b9c912c8": {
      "model_module": "@jupyter-widgets/controls",
      "model_module_version": "1.5.0",
      "model_name": "GridBoxModel",
      "state": {
       "children": [
        "IPY_MODEL_5857a21d18604ac0920d4462957308cc",
        "IPY_MODEL_008d082ff04d4886888dd00e4e193f23",
        "IPY_MODEL_c8c264c5320545d592deb20b1ed52292",
        "IPY_MODEL_43620ae23f0c4e0f9c607f0e3369f82d",
        "IPY_MODEL_171a707ffd324b25a422ed108e6c91bc"
       ],
       "layout": "IPY_MODEL_145371be852640ea91ff42c342aefde6"
      }
     },
     "e56f208a65d4495ea241cf47bdd53909": {
      "model_module": "@jupyter-widgets/output",
      "model_module_version": "1.0.0",
      "model_name": "OutputModel",
      "state": {
       "layout": "IPY_MODEL_20fe7975ab3f44c6934b5655537d1cac",
       "outputs": [
        {
         "data": {
          "text/markdown": "# Today\n\n",
          "text/plain": "<IPython.core.display.Markdown object>"
         },
         "metadata": {},
         "output_type": "display_data"
        }
       ]
      }
     },
     "e7b9fb95a3614c0e9d52e1689fee801a": {
      "model_module": "@jupyter-widgets/base",
      "model_module_version": "1.2.0",
      "model_name": "LayoutModel",
      "state": {
       "grid_area": "widget005",
       "height": "auto",
       "width": "auto"
      }
     },
     "e834d7bea68a40c9ace7fe3ad1f1e5d2": {
      "model_module": "@jupyter-widgets/output",
      "model_module_version": "1.0.0",
      "model_name": "OutputModel",
      "state": {
       "layout": "IPY_MODEL_6c0a472396b943e692c821c7d82e6008",
       "outputs": [
        {
         "data": {
          "text/markdown": "# Today\n\n",
          "text/plain": "<IPython.core.display.Markdown object>"
         },
         "metadata": {},
         "output_type": "display_data"
        },
        {
         "data": {
          "text/markdown": "# Today\n\n\n1. Do the tools we have for explanation meet our goals?\n",
          "text/plain": "<IPython.core.display.Markdown object>"
         },
         "metadata": {},
         "output_type": "display_data"
        }
       ]
      }
     },
     "e9a2e2be7c4c41479ae10a640578b207": {
      "model_module": "@jupyter-widgets/base",
      "model_module_version": "1.2.0",
      "model_name": "LayoutModel",
      "state": {
       "grid_area": "widget003"
      }
     },
     "e9e7beb07cc248609045480ba8cb091f": {
      "model_module": "@jupyter-widgets/output",
      "model_module_version": "1.0.0",
      "model_name": "OutputModel",
      "state": {
       "layout": "IPY_MODEL_4ebf4b5d58ff4bb09f3a4d74608d046c",
       "outputs": [
        {
         "data": {
          "text/markdown": "\n1. trolley problems of explanation",
          "text/plain": "<IPython.core.display.Markdown object>"
         },
         "metadata": {},
         "output_type": "display_data"
        }
       ]
      }
     },
     "eaf94bb4420c445d8b00d17021c71db2": {
      "model_module": "@jupyter-widgets/base",
      "model_module_version": "1.2.0",
      "model_name": "LayoutModel",
      "state": {
       "grid_area": "widget001"
      }
     },
     "ebaf61faab25443b9fc21d960f05c4ab": {
      "model_module": "@jupyter-widgets/controls",
      "model_module_version": "1.5.0",
      "model_name": "DescriptionStyleModel",
      "state": {
       "description_width": ""
      }
     },
     "ec94a0eb33d34a15b5c6125c87fe0535": {
      "model_module": "@jupyter-widgets/controls",
      "model_module_version": "1.5.0",
      "model_name": "ButtonModel",
      "state": {
       "button_style": "info",
       "layout": "IPY_MODEL_f178fb9ec78346d59af8614e211d329d",
       "style": "IPY_MODEL_5ff390151a464211902125e6402d3180"
      }
     },
     "ed0089ba4f8f4292aff70edcae8544c7": {
      "model_module": "@jupyter-widgets/output",
      "model_module_version": "1.0.0",
      "model_name": "OutputModel",
      "state": {
       "layout": "IPY_MODEL_6b58f415762b4a968fea87ae2fc67778",
       "outputs": [
        {
         "data": {
          "text/markdown": "\n1. trolley problems of explanation",
          "text/plain": "<IPython.core.display.Markdown object>"
         },
         "metadata": {},
         "output_type": "display_data"
        }
       ]
      }
     },
     "ede9611f26554f8aa58801077a66da63": {
      "model_module": "@jupyter-widgets/base",
      "model_module_version": "1.2.0",
      "model_name": "LayoutModel",
      "state": {
       "grid_area": "widget001",
       "height": "auto",
       "width": "auto"
      }
     },
     "ee14da7e35d24a7b95c330fd41483623": {
      "model_module": "@jupyter-widgets/base",
      "model_module_version": "1.2.0",
      "model_name": "LayoutModel",
      "state": {
       "grid_area": "widget006"
      }
     },
     "ee5df030657c42c6ba7b8028b1b760ae": {
      "model_module": "@jupyter-widgets/controls",
      "model_module_version": "1.5.0",
      "model_name": "GridBoxModel",
      "state": {
       "children": [
        "IPY_MODEL_dc737c38a7cc4455ae09c28dc25b9602",
        "IPY_MODEL_dcc1af089232419b8c8c36707906e381",
        "IPY_MODEL_bb6aac593d5f4b259d3b185dfdefac5f",
        "IPY_MODEL_677b1f17984746b3abbf206af4358a24",
        "IPY_MODEL_f4c4ed37823d48a59bdf4c6a12477b83",
        "IPY_MODEL_7ef4cf51d5bf4855aa3178b00d46d73b",
        "IPY_MODEL_fc75b81bf2024d70b49fda5374672fc4",
        "IPY_MODEL_289d3737d6834023b394bcc9c01d2e95"
       ],
       "layout": "IPY_MODEL_467b68bb48c74135a1a8e9d480f783b2"
      }
     },
     "ef40783705964fb0bfe2766f3d4fb639": {
      "model_module": "@jupyter-widgets/base",
      "model_module_version": "1.2.0",
      "model_name": "LayoutModel",
      "state": {
       "grid_area": "widget001"
      }
     },
     "f022a11fbfae4aecb7e28c84942fe696": {
      "model_module": "@jupyter-widgets/base",
      "model_module_version": "1.2.0",
      "model_name": "LayoutModel",
      "state": {
       "grid_area": "widget004"
      }
     },
     "f15a46cc52cd4b70a877a762d28b7c9d": {
      "model_module": "@jupyter-widgets/controls",
      "model_module_version": "1.5.0",
      "model_name": "DescriptionStyleModel",
      "state": {
       "description_width": ""
      }
     },
     "f178fb9ec78346d59af8614e211d329d": {
      "model_module": "@jupyter-widgets/base",
      "model_module_version": "1.2.0",
      "model_name": "LayoutModel",
      "state": {
       "grid_area": "widget001",
       "height": "auto",
       "width": "auto"
      }
     },
     "f4a28102dfdc42148dad6a037c2eaa9a": {
      "model_module": "@jupyter-widgets/base",
      "model_module_version": "1.2.0",
      "model_name": "LayoutModel",
      "state": {}
     },
     "f4c4ed37823d48a59bdf4c6a12477b83": {
      "model_module": "@jupyter-widgets/controls",
      "model_module_version": "1.5.0",
      "model_name": "ButtonModel",
      "state": {
       "button_style": "info",
       "layout": "IPY_MODEL_d3be646080564bbab01d6c25f55c4a47",
       "style": "IPY_MODEL_ad4235844e234ba19fce74c986c7e236"
      }
     },
     "f4d16ea2ad314672b68e1df55a21b371": {
      "model_module": "@jupyter-widgets/controls",
      "model_module_version": "1.5.0",
      "model_name": "ButtonModel",
      "state": {
       "button_style": "info",
       "layout": "IPY_MODEL_a6ea8bbe0e0e4bd48f547d8c51509c8e",
       "style": "IPY_MODEL_167534dbccdc4afc88569fb68ec5fa9a"
      }
     },
     "f6eadbacd72e450ba940cd17877872ef": {
      "model_module": "@jupyter-widgets/output",
      "model_module_version": "1.0.0",
      "model_name": "OutputModel",
      "state": {
       "layout": "IPY_MODEL_6ce54a43cf6b46bea1215f9d6372a48c"
      }
     },
     "f73c0249bb974a92b2271a33f5852045": {
      "model_module": "@jupyter-widgets/base",
      "model_module_version": "1.2.0",
      "model_name": "LayoutModel",
      "state": {
       "grid_area": "widget001",
       "height": "auto",
       "width": "auto"
      }
     },
     "f7748afefc6b431bb9602b747249bddd": {
      "model_module": "@jupyter-widgets/base",
      "model_module_version": "1.2.0",
      "model_name": "LayoutModel",
      "state": {
       "grid_area": "widget005"
      }
     },
     "f779d92aa1c24573818d52fc9952a957": {
      "model_module": "@jupyter-widgets/base",
      "model_module_version": "1.2.0",
      "model_name": "LayoutModel",
      "state": {
       "grid_area": "widget001"
      }
     },
     "f7ac07607a19442c8586d10ef2f2b969": {
      "model_module": "@jupyter-widgets/controls",
      "model_module_version": "1.5.0",
      "model_name": "DescriptionStyleModel",
      "state": {
       "description_width": ""
      }
     },
     "f7c95213e3944b88b518584810be620a": {
      "model_module": "@jupyter-widgets/base",
      "model_module_version": "1.2.0",
      "model_name": "LayoutModel",
      "state": {
       "grid_area": "widget004"
      }
     },
     "f8b8834a5d9643c4b1a4c991078ae467": {
      "model_module": "@jupyter-widgets/controls",
      "model_module_version": "1.5.0",
      "model_name": "ButtonStyleModel",
      "state": {}
     },
     "f978a25207754c56a0f95a9c97ed964f": {
      "model_module": "@jupyter-widgets/base",
      "model_module_version": "1.2.0",
      "model_name": "LayoutModel",
      "state": {
       "grid_area": "widget003",
       "height": "auto",
       "width": "auto"
      }
     },
     "fa38235b1aa44a64999bef300d74396f": {
      "model_module": "@jupyter-widgets/controls",
      "model_module_version": "1.5.0",
      "model_name": "DescriptionStyleModel",
      "state": {
       "description_width": ""
      }
     },
     "fa8a64c3b9de45169a2188b9f4d375dd": {
      "model_module": "@jupyter-widgets/controls",
      "model_module_version": "1.5.0",
      "model_name": "ButtonModel",
      "state": {
       "button_style": "info",
       "layout": "IPY_MODEL_3916b0c96b8c46c88358f9231772b5e1",
       "style": "IPY_MODEL_b83637d98ac14d52b0e935e4d7fe34be"
      }
     },
     "fae4da70d4a84559a51b5a0b7bb6e98f": {
      "model_module": "@jupyter-widgets/controls",
      "model_module_version": "1.5.0",
      "model_name": "ButtonStyleModel",
      "state": {}
     },
     "fc75b81bf2024d70b49fda5374672fc4": {
      "model_module": "@jupyter-widgets/controls",
      "model_module_version": "1.5.0",
      "model_name": "ButtonModel",
      "state": {
       "button_style": "info",
       "layout": "IPY_MODEL_bb1e1f8dbc5e4faaa6b4002708b4a462",
       "style": "IPY_MODEL_346b61e98f86433aaf76a2d14a9271e0"
      }
     },
     "fe1390cf59524f18883b670a632e2147": {
      "model_module": "@jupyter-widgets/controls",
      "model_module_version": "1.5.0",
      "model_name": "ButtonStyleModel",
      "state": {}
     },
     "fe6b0d9225be4722a0b875e4814ce9a9": {
      "model_module": "@jupyter-widgets/controls",
      "model_module_version": "1.5.0",
      "model_name": "ButtonStyleModel",
      "state": {}
     },
     "fea894327e14452eba9a65017d6d8ae8": {
      "model_module": "@jupyter-widgets/base",
      "model_module_version": "1.2.0",
      "model_name": "LayoutModel",
      "state": {
       "grid_template_areas": "\". widget001 widget001 widget001 widget001 widget001 widget001 widget001 widget001 widget001 widget001 widget001 widget001 widget001 widget001\"\n\"widget002 widget001 widget001 widget001 widget001 widget001 widget001 widget001 widget001 widget001 widget001 widget001 widget001 widget001 widget001\"\n\"widget003 widget001 widget001 widget001 widget001 widget001 widget001 widget001 widget001 widget001 widget001 widget001 widget001 widget001 widget001\"\n\"widget004 widget001 widget001 widget001 widget001 widget001 widget001 widget001 widget001 widget001 widget001 widget001 widget001 widget001 widget001\"\n\"widget005 widget001 widget001 widget001 widget001 widget001 widget001 widget001 widget001 widget001 widget001 widget001 widget001 widget001 widget001\"",
       "grid_template_columns": "repeat(15, 1fr)",
       "grid_template_rows": "repeat(5, 1fr)"
      }
     },
     "ff1b01cabfb340078a0d6ba90c52421f": {
      "model_module": "@jupyter-widgets/base",
      "model_module_version": "1.2.0",
      "model_name": "LayoutModel",
      "state": {
       "grid_template_areas": "\"widget001 widget002 widget002 widget002 widget002 widget002 widget002 widget002 widget002 widget002 widget002 widget002 widget002 widget002 widget002\"\n\"widget003 widget004 widget004 widget004 widget004 widget004 widget004 widget004 widget004 widget004 widget004 widget004 widget004 widget004 widget004\"\n\"widget005 widget006 widget006 widget006 widget006 widget006 widget006 widget006 widget006 widget006 widget006 widget006 widget006 widget006 widget006\"\n\"widget007 widget008 widget008 widget008 widget008 widget008 widget008 widget008 widget008 widget008 widget008 widget008 widget008 widget008 widget008\"",
       "grid_template_columns": "repeat(15, 1fr)",
       "grid_template_rows": "repeat(4, 1fr)"
      }
     },
     "ff66e31117c340ed8db7e44f4639d778": {
      "model_module": "@jupyter-widgets/base",
      "model_module_version": "1.2.0",
      "model_name": "LayoutModel",
      "state": {
       "grid_area": "widget002"
      }
     },
     "ff85ef9ead1142bc9d82eab4ed890e13": {
      "model_module": "@jupyter-widgets/base",
      "model_module_version": "1.2.0",
      "model_name": "LayoutModel",
      "state": {
       "grid_area": "widget004"
      }
     },
     "ffad00061ec94b3a995c3f85062835f7": {
      "model_module": "@jupyter-widgets/controls",
      "model_module_version": "1.5.0",
      "model_name": "DescriptionStyleModel",
      "state": {
       "description_width": ""
      }
     },
     "fff92c78c23f40f49df9d36fee1bd502": {
      "model_module": "@jupyter-widgets/controls",
      "model_module_version": "1.5.0",
      "model_name": "ButtonModel",
      "state": {
       "button_style": "info",
       "layout": "IPY_MODEL_dccaff0ee17447dd9ac9dc30031623e4",
       "style": "IPY_MODEL_8bffd17730f0476b8cf63a3df6d31cd3"
      }
     }
    },
    "version_major": 2,
    "version_minor": 0
   }
  }
 },
 "nbformat": 4,
 "nbformat_minor": 4
}
